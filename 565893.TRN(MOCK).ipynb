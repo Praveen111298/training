{
 "cells": [
  {
   "cell_type": "code",
   "execution_count": 1,
   "metadata": {},
   "outputs": [],
   "source": [
    "import numpy as np\n",
    "import pandas as pd \n",
    "import matplotlib.pyplot as plt\n",
    "import seaborn as sb\n",
    "%matplotlib inline\n",
    "import warnings\n",
    "warnings.filterwarnings('ignore')\n",
    "from sklearn.preprocessing import StandardScaler\n",
    "from sklearn import preprocessing\n",
    "from sklearn.model_selection import train_test_split\n",
    "from sklearn.linear_model  import LogisticRegression\n",
    "from sklearn.metrics import confusion_matrix\n",
    "from sklearn.metrics import classification_report\n",
    "from sklearn.tree import DecisionTreeClassifier\n",
    "from sklearn.neighbors import KNeighborsClassifier\n",
    "from sklearn.svm import SVC\n",
    "\n",
    "from scipy.stats import skew\n",
    "from scipy.stats import shapiro\n",
    "from sklearn.decomposition import PCA"
   ]
  },
  {
   "cell_type": "markdown",
   "metadata": {},
   "source": [
    "## READING THE DATASET"
   ]
  },
  {
   "cell_type": "code",
   "execution_count": 2,
   "metadata": {},
   "outputs": [
    {
     "data": {
      "text/html": [
       "<div>\n",
       "<style scoped>\n",
       "    .dataframe tbody tr th:only-of-type {\n",
       "        vertical-align: middle;\n",
       "    }\n",
       "\n",
       "    .dataframe tbody tr th {\n",
       "        vertical-align: top;\n",
       "    }\n",
       "\n",
       "    .dataframe thead th {\n",
       "        text-align: right;\n",
       "    }\n",
       "</style>\n",
       "<table border=\"1\" class=\"dataframe\">\n",
       "  <thead>\n",
       "    <tr style=\"text-align: right;\">\n",
       "      <th></th>\n",
       "      <th>Id</th>\n",
       "      <th>v2a1</th>\n",
       "      <th>hacdor</th>\n",
       "      <th>rooms</th>\n",
       "      <th>hacapo</th>\n",
       "      <th>v14a</th>\n",
       "      <th>refrig</th>\n",
       "      <th>v18q</th>\n",
       "      <th>v18q1</th>\n",
       "      <th>r4h1</th>\n",
       "      <th>...</th>\n",
       "      <th>SQBescolari</th>\n",
       "      <th>SQBage</th>\n",
       "      <th>SQBhogar_total</th>\n",
       "      <th>SQBedjefe</th>\n",
       "      <th>SQBhogar_nin</th>\n",
       "      <th>SQBovercrowding</th>\n",
       "      <th>SQBdependency</th>\n",
       "      <th>SQBmeaned</th>\n",
       "      <th>agesq</th>\n",
       "      <th>Target</th>\n",
       "    </tr>\n",
       "  </thead>\n",
       "  <tbody>\n",
       "    <tr>\n",
       "      <th>0</th>\n",
       "      <td>ID_279628684</td>\n",
       "      <td>190000.0</td>\n",
       "      <td>0</td>\n",
       "      <td>3</td>\n",
       "      <td>0</td>\n",
       "      <td>1</td>\n",
       "      <td>1</td>\n",
       "      <td>0</td>\n",
       "      <td>NaN</td>\n",
       "      <td>0</td>\n",
       "      <td>...</td>\n",
       "      <td>100</td>\n",
       "      <td>1849</td>\n",
       "      <td>1</td>\n",
       "      <td>100</td>\n",
       "      <td>0</td>\n",
       "      <td>1.000000</td>\n",
       "      <td>0.0</td>\n",
       "      <td>100.0</td>\n",
       "      <td>1849</td>\n",
       "      <td>4</td>\n",
       "    </tr>\n",
       "    <tr>\n",
       "      <th>1</th>\n",
       "      <td>ID_f29eb3ddd</td>\n",
       "      <td>135000.0</td>\n",
       "      <td>0</td>\n",
       "      <td>4</td>\n",
       "      <td>0</td>\n",
       "      <td>1</td>\n",
       "      <td>1</td>\n",
       "      <td>1</td>\n",
       "      <td>1.0</td>\n",
       "      <td>0</td>\n",
       "      <td>...</td>\n",
       "      <td>144</td>\n",
       "      <td>4489</td>\n",
       "      <td>1</td>\n",
       "      <td>144</td>\n",
       "      <td>0</td>\n",
       "      <td>1.000000</td>\n",
       "      <td>64.0</td>\n",
       "      <td>144.0</td>\n",
       "      <td>4489</td>\n",
       "      <td>4</td>\n",
       "    </tr>\n",
       "    <tr>\n",
       "      <th>2</th>\n",
       "      <td>ID_68de51c94</td>\n",
       "      <td>NaN</td>\n",
       "      <td>0</td>\n",
       "      <td>8</td>\n",
       "      <td>0</td>\n",
       "      <td>1</td>\n",
       "      <td>1</td>\n",
       "      <td>0</td>\n",
       "      <td>NaN</td>\n",
       "      <td>0</td>\n",
       "      <td>...</td>\n",
       "      <td>121</td>\n",
       "      <td>8464</td>\n",
       "      <td>1</td>\n",
       "      <td>0</td>\n",
       "      <td>0</td>\n",
       "      <td>0.250000</td>\n",
       "      <td>64.0</td>\n",
       "      <td>121.0</td>\n",
       "      <td>8464</td>\n",
       "      <td>4</td>\n",
       "    </tr>\n",
       "    <tr>\n",
       "      <th>3</th>\n",
       "      <td>ID_d671db89c</td>\n",
       "      <td>180000.0</td>\n",
       "      <td>0</td>\n",
       "      <td>5</td>\n",
       "      <td>0</td>\n",
       "      <td>1</td>\n",
       "      <td>1</td>\n",
       "      <td>1</td>\n",
       "      <td>1.0</td>\n",
       "      <td>0</td>\n",
       "      <td>...</td>\n",
       "      <td>81</td>\n",
       "      <td>289</td>\n",
       "      <td>16</td>\n",
       "      <td>121</td>\n",
       "      <td>4</td>\n",
       "      <td>1.777778</td>\n",
       "      <td>1.0</td>\n",
       "      <td>121.0</td>\n",
       "      <td>289</td>\n",
       "      <td>4</td>\n",
       "    </tr>\n",
       "    <tr>\n",
       "      <th>4</th>\n",
       "      <td>ID_d56d6f5f5</td>\n",
       "      <td>180000.0</td>\n",
       "      <td>0</td>\n",
       "      <td>5</td>\n",
       "      <td>0</td>\n",
       "      <td>1</td>\n",
       "      <td>1</td>\n",
       "      <td>1</td>\n",
       "      <td>1.0</td>\n",
       "      <td>0</td>\n",
       "      <td>...</td>\n",
       "      <td>121</td>\n",
       "      <td>1369</td>\n",
       "      <td>16</td>\n",
       "      <td>121</td>\n",
       "      <td>4</td>\n",
       "      <td>1.777778</td>\n",
       "      <td>1.0</td>\n",
       "      <td>121.0</td>\n",
       "      <td>1369</td>\n",
       "      <td>4</td>\n",
       "    </tr>\n",
       "  </tbody>\n",
       "</table>\n",
       "<p>5 rows × 143 columns</p>\n",
       "</div>"
      ],
      "text/plain": [
       "             Id      v2a1  hacdor  rooms  hacapo  v14a  refrig  v18q  v18q1  \\\n",
       "0  ID_279628684  190000.0       0      3       0     1       1     0    NaN   \n",
       "1  ID_f29eb3ddd  135000.0       0      4       0     1       1     1    1.0   \n",
       "2  ID_68de51c94       NaN       0      8       0     1       1     0    NaN   \n",
       "3  ID_d671db89c  180000.0       0      5       0     1       1     1    1.0   \n",
       "4  ID_d56d6f5f5  180000.0       0      5       0     1       1     1    1.0   \n",
       "\n",
       "   r4h1   ...    SQBescolari  SQBage  SQBhogar_total  SQBedjefe  SQBhogar_nin  \\\n",
       "0     0   ...            100    1849               1        100             0   \n",
       "1     0   ...            144    4489               1        144             0   \n",
       "2     0   ...            121    8464               1          0             0   \n",
       "3     0   ...             81     289              16        121             4   \n",
       "4     0   ...            121    1369              16        121             4   \n",
       "\n",
       "   SQBovercrowding  SQBdependency  SQBmeaned  agesq  Target  \n",
       "0         1.000000            0.0      100.0   1849       4  \n",
       "1         1.000000           64.0      144.0   4489       4  \n",
       "2         0.250000           64.0      121.0   8464       4  \n",
       "3         1.777778            1.0      121.0    289       4  \n",
       "4         1.777778            1.0      121.0   1369       4  \n",
       "\n",
       "[5 rows x 143 columns]"
      ]
     },
     "execution_count": 2,
     "metadata": {},
     "output_type": "execute_result"
    }
   ],
   "source": [
    "income_df=pd.read_csv(\"train.csv\")\n",
    "test_data=pd.read_csv(\"test.csv\")\n",
    "income_df.head()"
   ]
  },
  {
   "cell_type": "code",
   "execution_count": 3,
   "metadata": {},
   "outputs": [
    {
     "name": "stdout",
     "output_type": "stream",
     "text": [
      "<class 'pandas.core.frame.DataFrame'>\n",
      "RangeIndex: 9557 entries, 0 to 9556\n",
      "Columns: 143 entries, Id to Target\n",
      "dtypes: float64(8), int64(130), object(5)\n",
      "memory usage: 10.4+ MB\n"
     ]
    }
   ],
   "source": [
    "income_df.info()"
   ]
  },
  {
   "cell_type": "code",
   "execution_count": 4,
   "metadata": {},
   "outputs": [
    {
     "data": {
      "text/plain": [
       "4    5996\n",
       "2    1597\n",
       "3    1209\n",
       "1     755\n",
       "Name: Target, dtype: int64"
      ]
     },
     "execution_count": 4,
     "metadata": {},
     "output_type": "execute_result"
    }
   ],
   "source": [
    "income_df[\"Target\"].value_counts()"
   ]
  },
  {
   "cell_type": "code",
   "execution_count": 5,
   "metadata": {},
   "outputs": [
    {
     "data": {
      "text/plain": [
       "(9557, 143)"
      ]
     },
     "execution_count": 5,
     "metadata": {},
     "output_type": "execute_result"
    }
   ],
   "source": [
    "income_df.shape"
   ]
  },
  {
   "cell_type": "code",
   "execution_count": 6,
   "metadata": {},
   "outputs": [
    {
     "data": {
      "text/plain": [
       "Index(['Id', 'v2a1', 'hacdor', 'rooms', 'hacapo', 'v14a', 'refrig', 'v18q',\n",
       "       'v18q1', 'r4h1',\n",
       "       ...\n",
       "       'SQBescolari', 'SQBage', 'SQBhogar_total', 'SQBedjefe', 'SQBhogar_nin',\n",
       "       'SQBovercrowding', 'SQBdependency', 'SQBmeaned', 'agesq', 'Target'],\n",
       "      dtype='object', length=143)"
      ]
     },
     "execution_count": 6,
     "metadata": {},
     "output_type": "execute_result"
    }
   ],
   "source": [
    "income_df.columns"
   ]
  },
  {
   "cell_type": "code",
   "execution_count": 7,
   "metadata": {},
   "outputs": [
    {
     "data": {
      "text/plain": [
       "0    21eb7fcc1\n",
       "1    0e5d7a658\n",
       "2    2c7317ea8\n",
       "3    2b58d945f\n",
       "4    2b58d945f\n",
       "Name: idhogar, dtype: object"
      ]
     },
     "execution_count": 7,
     "metadata": {},
     "output_type": "execute_result"
    }
   ],
   "source": [
    "income_df[\"idhogar\"].head()"
   ]
  },
  {
   "cell_type": "code",
   "execution_count": 8,
   "metadata": {},
   "outputs": [
    {
     "data": {
      "text/plain": [
       "0    ID_279628684\n",
       "1    ID_f29eb3ddd\n",
       "2    ID_68de51c94\n",
       "3    ID_d671db89c\n",
       "4    ID_d56d6f5f5\n",
       "Name: Id, dtype: object"
      ]
     },
     "execution_count": 8,
     "metadata": {},
     "output_type": "execute_result"
    }
   ],
   "source": [
    "income_df[\"Id\"].head()"
   ]
  },
  {
   "cell_type": "code",
   "execution_count": 9,
   "metadata": {},
   "outputs": [
    {
     "data": {
      "text/plain": [
       "0     no\n",
       "1      8\n",
       "2      8\n",
       "3    yes\n",
       "4    yes\n",
       "Name: dependency, dtype: object"
      ]
     },
     "execution_count": 9,
     "metadata": {},
     "output_type": "execute_result"
    }
   ],
   "source": [
    "income_df[\"dependency\"].head()"
   ]
  },
  {
   "cell_type": "code",
   "execution_count": 10,
   "metadata": {},
   "outputs": [
    {
     "data": {
      "text/plain": [
       "0    10\n",
       "1    12\n",
       "2    no\n",
       "3    11\n",
       "4    11\n",
       "Name: edjefe, dtype: object"
      ]
     },
     "execution_count": 10,
     "metadata": {},
     "output_type": "execute_result"
    }
   ],
   "source": [
    "income_df[\"edjefe\"].head()"
   ]
  },
  {
   "cell_type": "code",
   "execution_count": 11,
   "metadata": {},
   "outputs": [
    {
     "data": {
      "text/plain": [
       "0    no\n",
       "1    no\n",
       "2    11\n",
       "3    no\n",
       "4    no\n",
       "Name: edjefa, dtype: object"
      ]
     },
     "execution_count": 11,
     "metadata": {},
     "output_type": "execute_result"
    }
   ],
   "source": [
    "income_df[\"edjefa\"].head()"
   ]
  },
  {
   "cell_type": "markdown",
   "metadata": {},
   "source": [
    "# There are five objects available in the dataset they are  Id,idhogar,dependency,edjefe,edjefa"
   ]
  },
  {
   "cell_type": "markdown",
   "metadata": {},
   "source": [
    "# The target variable in this dataset is target"
   ]
  },
  {
   "cell_type": "code",
   "execution_count": 12,
   "metadata": {},
   "outputs": [
    {
     "data": {
      "text/plain": [
       "<matplotlib.axes._subplots.AxesSubplot at 0x1860997b748>"
      ]
     },
     "execution_count": 12,
     "metadata": {},
     "output_type": "execute_result"
    },
    {
     "data": {
      "image/png": "[encoded data removed]",
      "text/plain": [
       "<Figure size 432x288 with 1 Axes>"
      ]
     },
     "metadata": {
      "needs_background": "light"
     },
     "output_type": "display_data"
    }
   ],
   "source": [
    "a=income_df[\"Target\"].value_counts()\n",
    "a.plot(kind=\"bar\")"
   ]
  },
  {
   "cell_type": "code",
   "execution_count": 13,
   "metadata": {},
   "outputs": [],
   "source": [
    "# target variable 4 has highest count"
   ]
  },
  {
   "cell_type": "markdown",
   "metadata": {},
   "source": [
    "# Removing the null values"
   ]
  },
  {
   "cell_type": "code",
   "execution_count": 14,
   "metadata": {},
   "outputs": [
    {
     "name": "stdout",
     "output_type": "stream",
     "text": [
      "v2a1 : 6860\n",
      "v18q1 : 7342\n",
      "rez_esc : 7928\n",
      "meaneduc : 5\n",
      "SQBmeaned : 5\n"
     ]
    }
   ],
   "source": [
    "for i in income_df.columns:\n",
    "    if income_df[i].isna().sum()>0:\n",
    "        print(i,\":\",income_df[i].isna().sum())"
   ]
  },
  {
   "cell_type": "code",
   "execution_count": 15,
   "metadata": {},
   "outputs": [
    {
     "data": {
      "text/plain": [
       "6860"
      ]
     },
     "execution_count": 15,
     "metadata": {},
     "output_type": "execute_result"
    }
   ],
   "source": [
    "income_df[\"v2a1\"].isna().sum()"
   ]
  },
  {
   "cell_type": "code",
   "execution_count": 16,
   "metadata": {},
   "outputs": [],
   "source": [
    "# there are almost 70%  of null values present in columns v2a1,v18q1,rez_esc so if we are removing those null values \n",
    "# it will affect the entire dataset so i am going to remove it "
   ]
  },
  {
   "cell_type": "code",
   "execution_count": 17,
   "metadata": {},
   "outputs": [
    {
     "data": {
      "text/plain": [
       "(9557, 140)"
      ]
     },
     "execution_count": 17,
     "metadata": {},
     "output_type": "execute_result"
    }
   ],
   "source": [
    "income_df.drop([\"v2a1\",\"v18q1\",\"rez_esc\"],axis=1,inplace=True)\n",
    "income_df.shape"
   ]
  },
  {
   "cell_type": "code",
   "execution_count": 18,
   "metadata": {},
   "outputs": [],
   "source": [
    "## there are only five null values in meaneduc and SQBmeaned so i am dropping the null values"
   ]
  },
  {
   "cell_type": "code",
   "execution_count": 19,
   "metadata": {},
   "outputs": [
    {
     "data": {
      "text/plain": [
       "(9552, 140)"
      ]
     },
     "execution_count": 19,
     "metadata": {},
     "output_type": "execute_result"
    }
   ],
   "source": [
    "income_df.dropna(inplace=True)\n",
    "income_df.shape"
   ]
  },
  {
   "cell_type": "markdown",
   "metadata": {},
   "source": [
    "## Understand the type of data\n",
    "\n"
   ]
  },
  {
   "cell_type": "code",
   "execution_count": 20,
   "metadata": {},
   "outputs": [
    {
     "name": "stdout",
     "output_type": "stream",
     "text": [
      "hacdor\n",
      "(0.18718743324279785, 0.0)\n",
      "********\n",
      "rooms\n",
      "(0.9395968317985535, 0.0)\n",
      "********\n",
      "hacapo\n",
      "(0.13477909564971924, 0.0)\n",
      "********\n",
      "v14a\n",
      "(0.04357200860977173, 0.0)\n",
      "********\n",
      "refrig\n",
      "(0.20097774267196655, 0.0)\n",
      "********\n",
      "v18q\n",
      "(0.5224144458770752, 0.0)\n",
      "********\n",
      "r4h1\n",
      "(0.6048634052276611, 0.0)\n",
      "********\n",
      "r4h2\n",
      "(0.8482615351676941, 0.0)\n",
      "********\n",
      "r4h3\n",
      "(0.8878777027130127, 0.0)\n",
      "********\n",
      "r4m1\n",
      "(0.6145310401916504, 0.0)\n",
      "********\n",
      "r4m2\n",
      "(0.8233563303947449, 0.0)\n",
      "********\n",
      "r4m3\n",
      "(0.8739997744560242, 0.0)\n",
      "********\n",
      "r4t1\n",
      "(0.7390720844268799, 0.0)\n",
      "********\n",
      "r4t2\n",
      "(0.8919049501419067, 0.0)\n",
      "********\n",
      "r4t3\n",
      "(0.9098540544509888, 0.0)\n",
      "********\n",
      "tamhog\n",
      "(0.909616231918335, 0.0)\n",
      "********\n",
      "tamviv\n",
      "(0.8943553566932678, 0.0)\n",
      "********\n",
      "escolari\n",
      "(0.9570783972740173, 0.0)\n",
      "********\n",
      "hhsize\n",
      "(0.909616231918335, 0.0)\n",
      "********\n",
      "paredblolad\n",
      "(0.623530924320221, 0.0)\n",
      "********\n",
      "paredzocalo\n",
      "(0.29524844884872437, 0.0)\n",
      "********\n",
      "paredpreb\n",
      "(0.4760468006134033, 0.0)\n",
      "********\n",
      "pareddes\n",
      "(0.06388729810714722, 0.0)\n",
      "********\n",
      "paredmad\n",
      "(0.37118804454803467, 0.0)\n",
      "********\n",
      "paredzinc\n",
      "(0.08774709701538086, 0.0)\n",
      "********\n",
      "paredfibras\n",
      "(0.015626251697540283, 0.0)\n",
      "********\n",
      "paredother\n",
      "(0.015626251697540283, 0.0)\n",
      "********\n",
      "pisomoscer\n",
      "(0.5802698135375977, 0.0)\n",
      "********\n",
      "pisocemento\n",
      "(0.5138542652130127, 0.0)\n",
      "********\n",
      "pisoother\n",
      "(0.010838866233825684, 0.0)\n",
      "********\n",
      "pisonatur\n",
      "(0.01183086633682251, 0.0)\n",
      "********\n",
      "pisonotiene\n",
      "(0.1037641167640686, 0.0)\n",
      "********\n",
      "pisomadera\n",
      "(0.26691222190856934, 0.0)\n",
      "********\n",
      "techozinc\n",
      "(0.15891802310943604, 0.0)\n",
      "********\n",
      "techoentrepiso\n",
      "(0.10947036743164062, 0.0)\n",
      "********\n",
      "techocane\n",
      "(0.02904731035232544, 0.0)\n",
      "********\n",
      "techootro\n",
      "(0.02177560329437256, 0.0)\n",
      "********\n",
      "cielorazo\n",
      "(0.5893344283103943, 0.0)\n",
      "********\n",
      "abastaguadentro\n",
      "(0.1776776909828186, 0.0)\n",
      "********\n",
      "abastaguafuera\n",
      "(0.16529077291488647, 0.0)\n",
      "********\n",
      "abastaguano\n",
      "(0.03210771083831787, 0.0)\n",
      "********\n",
      "public\n",
      "(0.3701719045639038, 0.0)\n",
      "********\n",
      "planpri\n",
      "(0.0043198466300964355, 0.0)\n",
      "********\n",
      "noelec\n",
      "(0.02177560329437256, 0.0)\n",
      "********\n",
      "coopele\n",
      "(0.3627321124076843, 0.0)\n",
      "********\n",
      "sanitario1\n",
      "(0.03434532880783081, 0.0)\n",
      "********\n",
      "sanitario2\n",
      "(0.5045708417892456, 0.0)\n",
      "********\n",
      "sanitario3\n",
      "(0.525679886341095, 0.0)\n",
      "********\n",
      "sanitario5\n",
      "(0.09889006614685059, 0.0)\n",
      "********\n",
      "sanitario6\n",
      "(0.024266839027404785, 0.0)\n",
      "********\n",
      "energcocinar1\n",
      "(0.019204258918762207, 0.0)\n",
      "********\n",
      "energcocinar2\n",
      "(0.6364668011665344, 0.0)\n",
      "********\n",
      "energcocinar3\n",
      "(0.6340997815132141, 0.0)\n",
      "********\n",
      "energcocinar4\n",
      "(0.22433573007583618, 0.0)\n",
      "********\n",
      "elimbasu1\n",
      "(0.3742647171020508, 0.0)\n",
      "********\n",
      "elimbasu2\n",
      "(0.1592400074005127, 0.0)\n",
      "********\n",
      "elimbasu3\n",
      "(0.3104225993156433, 0.0)\n",
      "********\n",
      "elimbasu4\n",
      "(0.015626251697540283, 0.0)\n",
      "********\n",
      "elimbasu5\n",
      "(1.0, 1.0)\n",
      "********\n",
      "elimbasu6\n",
      "(0.013760030269622803, 0.0)\n",
      "********\n",
      "epared1\n",
      "(0.3470279574394226, 0.0)\n",
      "********\n",
      "epared2\n",
      "(0.5915988087654114, 0.0)\n",
      "********\n",
      "epared3\n",
      "(0.6293923854827881, 0.0)\n",
      "********\n",
      "etecho1\n",
      "(0.39297425746917725, 0.0)\n",
      "********\n",
      "etecho2\n",
      "(0.5676902532577515, 0.0)\n",
      "********\n",
      "etecho3\n",
      "(0.6263789534568787, 0.0)\n",
      "********\n",
      "eviv1\n",
      "(0.34439724683761597, 0.0)\n",
      "********\n",
      "eviv2\n",
      "(0.5408416986465454, 0.0)\n",
      "********\n",
      "eviv3\n",
      "(0.6047672033309937, 0.0)\n",
      "********\n",
      "dis\n",
      "(0.24482685327529907, 0.0)\n",
      "********\n",
      "male\n",
      "(0.6361974477767944, 0.0)\n",
      "********\n",
      "female\n",
      "(0.6362044215202332, 0.0)\n",
      "********\n",
      "estadocivil1\n",
      "(0.4081607460975647, 0.0)\n",
      "********\n",
      "estadocivil2\n",
      "(0.3842463493347168, 0.0)\n",
      "********\n",
      "estadocivil3\n",
      "(0.5535535216331482, 0.0)\n",
      "********\n",
      "estadocivil4\n",
      "(0.16603654623031616, 0.0)\n",
      "********\n",
      "estadocivil5\n",
      "(0.2589191198348999, 0.0)\n",
      "********\n",
      "estadocivil6\n",
      "(0.17047369480133057, 0.0)\n",
      "********\n",
      "estadocivil7\n",
      "(0.5995559692382812, 0.0)\n",
      "********\n",
      "parentesco1\n",
      "(0.5824159383773804, 0.0)\n",
      "********\n",
      "parentesco2\n",
      "(0.47141170501708984, 0.0)\n",
      "********\n",
      "parentesco3\n",
      "(0.616041898727417, 0.0)\n",
      "********\n",
      "parentesco4\n",
      "(0.08300280570983887, 0.0)\n",
      "********\n",
      "parentesco5\n",
      "(0.06915301084518433, 0.0)\n",
      "********\n",
      "parentesco6\n",
      "(0.22735071182250977, 0.0)\n",
      "********\n",
      "parentesco7\n",
      "(0.07200974225997925, 0.0)\n",
      "********\n",
      "parentesco8\n",
      "(0.023444712162017822, 0.0)\n",
      "********\n",
      "parentesco9\n",
      "(0.08878588676452637, 0.0)\n",
      "********\n",
      "parentesco10\n",
      "(0.02904731035232544, 0.0)\n",
      "********\n",
      "parentesco11\n",
      "(0.08565288782119751, 0.0)\n",
      "********\n",
      "parentesco12\n",
      "(0.06388729810714722, 0.0)\n",
      "********\n",
      "hogar_nin\n",
      "(0.8537645936012268, 0.0)\n",
      "********\n",
      "hogar_adul\n",
      "(0.840053915977478, 0.0)\n",
      "********\n",
      "hogar_mayor\n",
      "(0.5277596712112427, 0.0)\n",
      "********\n",
      "hogar_total\n",
      "(0.909616231918335, 0.0)\n",
      "********\n",
      "meaneduc\n",
      "(0.9747580289840698, 6.472877866409195e-38)\n",
      "********\n",
      "instlevel1\n",
      "(0.4032621383666992, 0.0)\n",
      "********\n",
      "instlevel2\n",
      "(0.4545336961746216, 0.0)\n",
      "********\n",
      "instlevel3\n",
      "(0.4982364773750305, 0.0)\n",
      "********\n",
      "instlevel4\n",
      "(0.4730342626571655, 0.0)\n",
      "********\n",
      "instlevel5\n",
      "(0.36614036560058594, 0.0)\n",
      "********\n",
      "instlevel6\n",
      "(0.11040735244750977, 0.0)\n",
      "********\n",
      "instlevel7\n",
      "(0.09889006614685059, 0.0)\n",
      "********\n",
      "instlevel8\n",
      "(0.4112483859062195, 0.0)\n",
      "********\n",
      "instlevel9\n",
      "(0.09889006614685059, 0.0)\n",
      "********\n",
      "bedrooms\n",
      "(0.8778253197669983, 0.0)\n",
      "********\n",
      "overcrowding\n",
      "(0.8472154140472412, 0.0)\n",
      "********\n",
      "tipovivi1\n",
      "(0.615838885307312, 0.0)\n",
      "********\n",
      "tipovivi2\n",
      "(0.34338533878326416, 0.0)\n",
      "********\n",
      "tipovivi3\n",
      "(0.4680892825126648, 0.0)\n",
      "********\n",
      "tipovivi4\n",
      "(0.10663598775863647, 0.0)\n",
      "********\n",
      "tipovivi5\n",
      "(0.30536848306655884, 0.0)\n",
      "********\n",
      "computer\n",
      "(0.34622395038604736, 0.0)\n",
      "********\n",
      "television\n",
      "(0.5653855800628662, 0.0)\n",
      "********\n",
      "mobilephone\n",
      "(0.13895553350448608, 0.0)\n",
      "********\n",
      "qmobilephone\n",
      "(0.9156548380851746, 0.0)\n",
      "********\n",
      "lugar1\n",
      "(0.6255117654800415, 0.0)\n",
      "********\n",
      "lugar2\n",
      "(0.32767534255981445, 0.0)\n",
      "********\n",
      "lugar3\n",
      "(0.25784051418304443, 0.0)\n",
      "********\n",
      "lugar4\n",
      "(0.3065221905708313, 0.0)\n",
      "********\n",
      "lugar5\n",
      "(0.330034077167511, 0.0)\n",
      "********\n",
      "lugar6\n",
      "(0.3018745183944702, 0.0)\n",
      "********\n",
      "area1\n",
      "(0.5660816431045532, 0.0)\n",
      "********\n",
      "area2\n",
      "(0.5660372972488403, 0.0)\n",
      "********\n",
      "age\n",
      "(0.9665118455886841, 2.850241076436678e-42)\n",
      "********\n",
      "SQBescolari\n",
      "(0.8431222438812256, 0.0)\n",
      "********\n",
      "SQBage\n",
      "(0.8439455032348633, 0.0)\n",
      "********\n",
      "SQBhogar_total\n",
      "(0.6988045573234558, 0.0)\n",
      "********\n",
      "SQBedjefe\n",
      "(0.7128491997718811, 0.0)\n",
      "********\n",
      "SQBhogar_nin\n",
      "(0.5332996845245361, 0.0)\n",
      "********\n",
      "SQBovercrowding\n",
      "(0.574851393699646, 0.0)\n",
      "********\n",
      "SQBdependency\n",
      "(0.3041137456893921, 0.0)\n",
      "********\n",
      "SQBmeaned\n",
      "(0.7908546328544617, 0.0)\n",
      "********\n",
      "agesq\n",
      "(0.8439455032348633, 0.0)\n",
      "********\n",
      "Target\n",
      "(0.693871259689331, 0.0)\n",
      "********\n"
     ]
    }
   ],
   "source": [
    "for i in income_df.columns:\n",
    "    if i!=\"Id\" and i!=\"idhogar\" and i!=\"dependency\" and i!= \"edjefe\" and i!=\"edjefa\":\n",
    "        print(i)\n",
    "        print(shapiro(income_df[i]))\n",
    "        print(\"********\")"
   ]
  },
  {
   "cell_type": "markdown",
   "metadata": {},
   "source": [
    "## finding how many values are normally distributed"
   ]
  },
  {
   "cell_type": "code",
   "execution_count": 21,
   "metadata": {},
   "outputs": [
    {
     "name": "stdout",
     "output_type": "stream",
     "text": [
      "59\n"
     ]
    }
   ],
   "source": [
    "count=0\n",
    "for i in income_df.columns:\n",
    "    if i!=\"Id\" and i!=\"idhogar\" and i!=\"dependency\" and i!= \"edjefe\" and i!=\"edjefa\":\n",
    "        if shapiro(income_df[i]) > (0.5,0.0):\n",
    "            count=count+1\n",
    "print(count)"
   ]
  },
  {
   "cell_type": "code",
   "execution_count": 22,
   "metadata": {},
   "outputs": [],
   "source": [
    "# out of 140 columns only 59 columns are only normally distributed   so the entire dataset is not normally distributed "
   ]
  },
  {
   "cell_type": "markdown",
   "metadata": {},
   "source": [
    "## To find whether the data is biased or not "
   ]
  },
  {
   "cell_type": "code",
   "execution_count": 23,
   "metadata": {},
   "outputs": [
    {
     "name": "stdout",
     "output_type": "stream",
     "text": [
      "columns which are negatively skewed: \n",
      "v14a\n",
      "refrig\n",
      "paredblolad\n",
      "pisomoscer\n",
      "techozinc\n",
      "cielorazo\n",
      "abastaguadentro\n",
      "public\n",
      "sanitario3\n",
      "elimbasu1\n",
      "elimbasu5\n",
      "epared3\n",
      "etecho3\n",
      "eviv3\n",
      "female\n",
      "tipovivi1\n",
      "mobilephone\n",
      "lugar1\n",
      "area1\n",
      "Target\n",
      "115\n",
      "20\n"
     ]
    }
   ],
   "source": [
    "positive=0\n",
    "negative=0\n",
    "print(\"columns which are negatively skewed: \")\n",
    "for i in income_df.columns:\n",
    "    if i!=\"Id\" and i!=\"idhogar\" and i!=\"dependency\" and i!= \"edjefe\" and i!=\"edjefa\":\n",
    "        if skew(income_df[i]) > 0 :\n",
    "            positive=positive+1\n",
    "        else:\n",
    "            print(i)\n",
    "            negative=negative+1\n",
    "print(positive)\n",
    "print(negative)"
   ]
  },
  {
   "cell_type": "code",
   "execution_count": 24,
   "metadata": {},
   "outputs": [
    {
     "name": "stdout",
     "output_type": "stream",
     "text": [
      "the data is right skewed\n"
     ]
    }
   ],
   "source": [
    "if positive < negative:\n",
    "    print(\"the data is left skewed\")\n",
    "elif positive > negative:\n",
    "    print(\"the data is right skewed\")\n",
    "else:\n",
    "    print(\"the data is balanced \")"
   ]
  },
  {
   "cell_type": "markdown",
   "metadata": {},
   "source": [
    "## Finding the null values in the target variable  "
   ]
  },
  {
   "cell_type": "code",
   "execution_count": 25,
   "metadata": {},
   "outputs": [
    {
     "data": {
      "text/plain": [
       "4    5991\n",
       "2    1597\n",
       "3    1209\n",
       "1     755\n",
       "Name: Target, dtype: int64"
      ]
     },
     "execution_count": 25,
     "metadata": {},
     "output_type": "execute_result"
    }
   ],
   "source": [
    "income_df[\"Target\"].value_counts()"
   ]
  },
  {
   "cell_type": "code",
   "execution_count": 26,
   "metadata": {},
   "outputs": [
    {
     "data": {
      "text/plain": [
       "0"
      ]
     },
     "execution_count": 26,
     "metadata": {},
     "output_type": "execute_result"
    }
   ],
   "source": [
    "income_df[\"Target\"].isna().sum()"
   ]
  },
  {
   "cell_type": "code",
   "execution_count": 27,
   "metadata": {},
   "outputs": [],
   "source": [
    "## there are no null valus in the Target column "
   ]
  },
  {
   "cell_type": "markdown",
   "metadata": {},
   "source": [
    "##  Check if there is a house without a family head."
   ]
  },
  {
   "cell_type": "code",
   "execution_count": 28,
   "metadata": {},
   "outputs": [],
   "source": [
    "family_head=income_df[\"parentesco1\"].value_counts()"
   ]
  },
  {
   "cell_type": "code",
   "execution_count": 29,
   "metadata": {},
   "outputs": [
    {
     "data": {
      "text/plain": [
       "0    6582\n",
       "1    2970\n",
       "Name: parentesco1, dtype: int64"
      ]
     },
     "execution_count": 29,
     "metadata": {},
     "output_type": "execute_result"
    }
   ],
   "source": [
    "family_head"
   ]
  },
  {
   "cell_type": "code",
   "execution_count": 30,
   "metadata": {},
   "outputs": [
    {
     "data": {
      "text/plain": [
       "<matplotlib.axes._subplots.AxesSubplot at 0x186097bc4a8>"
      ]
     },
     "execution_count": 30,
     "metadata": {},
     "output_type": "execute_result"
    },
    {
     "data": {
      "image/png": "[encoded data removed]",
      "text/plain": [
       "<Figure size 432x288 with 1 Axes>"
      ]
     },
     "metadata": {
      "needs_background": "light"
     },
     "output_type": "display_data"
    }
   ],
   "source": [
    "family_head.plot(kind=\"bar\")"
   ]
  },
  {
   "cell_type": "code",
   "execution_count": 31,
   "metadata": {},
   "outputs": [
    {
     "data": {
      "text/plain": [
       "9552"
      ]
     },
     "execution_count": 31,
     "metadata": {},
     "output_type": "execute_result"
    }
   ],
   "source": [
    "len(list(income_df['Id'].unique()))\n"
   ]
  },
  {
   "cell_type": "code",
   "execution_count": 32,
   "metadata": {},
   "outputs": [
    {
     "data": {
      "text/plain": [
       "2985"
      ]
     },
     "execution_count": 32,
     "metadata": {},
     "output_type": "execute_result"
    }
   ],
   "source": [
    "len(list(income_df['idhogar'].unique()))\n"
   ]
  },
  {
   "cell_type": "code",
   "execution_count": 33,
   "metadata": {},
   "outputs": [
    {
     "data": {
      "text/html": [
       "<div>\n",
       "<style scoped>\n",
       "    .dataframe tbody tr th:only-of-type {\n",
       "        vertical-align: middle;\n",
       "    }\n",
       "\n",
       "    .dataframe tbody tr th {\n",
       "        vertical-align: top;\n",
       "    }\n",
       "\n",
       "    .dataframe thead th {\n",
       "        text-align: right;\n",
       "    }\n",
       "</style>\n",
       "<table border=\"1\" class=\"dataframe\">\n",
       "  <thead>\n",
       "    <tr style=\"text-align: right;\">\n",
       "      <th></th>\n",
       "      <th>idhogar</th>\n",
       "      <th>Target</th>\n",
       "    </tr>\n",
       "  </thead>\n",
       "  <tbody>\n",
       "    <tr>\n",
       "      <th>0</th>\n",
       "      <td>21eb7fcc1</td>\n",
       "      <td>4</td>\n",
       "    </tr>\n",
       "    <tr>\n",
       "      <th>1</th>\n",
       "      <td>0e5d7a658</td>\n",
       "      <td>4</td>\n",
       "    </tr>\n",
       "    <tr>\n",
       "      <th>2</th>\n",
       "      <td>2c7317ea8</td>\n",
       "      <td>4</td>\n",
       "    </tr>\n",
       "    <tr>\n",
       "      <th>3</th>\n",
       "      <td>2b58d945f</td>\n",
       "      <td>4</td>\n",
       "    </tr>\n",
       "    <tr>\n",
       "      <th>4</th>\n",
       "      <td>2b58d945f</td>\n",
       "      <td>4</td>\n",
       "    </tr>\n",
       "    <tr>\n",
       "      <th>5</th>\n",
       "      <td>2b58d945f</td>\n",
       "      <td>4</td>\n",
       "    </tr>\n",
       "    <tr>\n",
       "      <th>6</th>\n",
       "      <td>2b58d945f</td>\n",
       "      <td>4</td>\n",
       "    </tr>\n",
       "    <tr>\n",
       "      <th>7</th>\n",
       "      <td>d6dae86b7</td>\n",
       "      <td>4</td>\n",
       "    </tr>\n",
       "    <tr>\n",
       "      <th>8</th>\n",
       "      <td>d6dae86b7</td>\n",
       "      <td>4</td>\n",
       "    </tr>\n",
       "    <tr>\n",
       "      <th>9</th>\n",
       "      <td>d6dae86b7</td>\n",
       "      <td>4</td>\n",
       "    </tr>\n",
       "    <tr>\n",
       "      <th>10</th>\n",
       "      <td>d6dae86b7</td>\n",
       "      <td>4</td>\n",
       "    </tr>\n",
       "    <tr>\n",
       "      <th>11</th>\n",
       "      <td>bb2094100</td>\n",
       "      <td>4</td>\n",
       "    </tr>\n",
       "    <tr>\n",
       "      <th>12</th>\n",
       "      <td>bb2094100</td>\n",
       "      <td>4</td>\n",
       "    </tr>\n",
       "    <tr>\n",
       "      <th>13</th>\n",
       "      <td>c51f9c774</td>\n",
       "      <td>4</td>\n",
       "    </tr>\n",
       "    <tr>\n",
       "      <th>14</th>\n",
       "      <td>c51f9c774</td>\n",
       "      <td>4</td>\n",
       "    </tr>\n",
       "    <tr>\n",
       "      <th>15</th>\n",
       "      <td>6893e65ca</td>\n",
       "      <td>4</td>\n",
       "    </tr>\n",
       "    <tr>\n",
       "      <th>16</th>\n",
       "      <td>6893e65ca</td>\n",
       "      <td>4</td>\n",
       "    </tr>\n",
       "    <tr>\n",
       "      <th>17</th>\n",
       "      <td>6893e65ca</td>\n",
       "      <td>4</td>\n",
       "    </tr>\n",
       "    <tr>\n",
       "      <th>18</th>\n",
       "      <td>6893e65ca</td>\n",
       "      <td>4</td>\n",
       "    </tr>\n",
       "    <tr>\n",
       "      <th>19</th>\n",
       "      <td>d29058053</td>\n",
       "      <td>4</td>\n",
       "    </tr>\n",
       "    <tr>\n",
       "      <th>20</th>\n",
       "      <td>d29058053</td>\n",
       "      <td>4</td>\n",
       "    </tr>\n",
       "    <tr>\n",
       "      <th>21</th>\n",
       "      <td>ec0e8edce</td>\n",
       "      <td>4</td>\n",
       "    </tr>\n",
       "    <tr>\n",
       "      <th>22</th>\n",
       "      <td>ec0e8edce</td>\n",
       "      <td>4</td>\n",
       "    </tr>\n",
       "    <tr>\n",
       "      <th>23</th>\n",
       "      <td>3e16fab89</td>\n",
       "      <td>4</td>\n",
       "    </tr>\n",
       "    <tr>\n",
       "      <th>24</th>\n",
       "      <td>3e16fab89</td>\n",
       "      <td>4</td>\n",
       "    </tr>\n",
       "    <tr>\n",
       "      <th>25</th>\n",
       "      <td>3e16fab89</td>\n",
       "      <td>4</td>\n",
       "    </tr>\n",
       "    <tr>\n",
       "      <th>26</th>\n",
       "      <td>1e84a2ac8</td>\n",
       "      <td>4</td>\n",
       "    </tr>\n",
       "    <tr>\n",
       "      <th>27</th>\n",
       "      <td>759df0194</td>\n",
       "      <td>4</td>\n",
       "    </tr>\n",
       "    <tr>\n",
       "      <th>28</th>\n",
       "      <td>759df0194</td>\n",
       "      <td>4</td>\n",
       "    </tr>\n",
       "    <tr>\n",
       "      <th>29</th>\n",
       "      <td>759df0194</td>\n",
       "      <td>4</td>\n",
       "    </tr>\n",
       "    <tr>\n",
       "      <th>...</th>\n",
       "      <td>...</td>\n",
       "      <td>...</td>\n",
       "    </tr>\n",
       "    <tr>\n",
       "      <th>9527</th>\n",
       "      <td>fef7fd222</td>\n",
       "      <td>4</td>\n",
       "    </tr>\n",
       "    <tr>\n",
       "      <th>9528</th>\n",
       "      <td>bb631bc5d</td>\n",
       "      <td>4</td>\n",
       "    </tr>\n",
       "    <tr>\n",
       "      <th>9529</th>\n",
       "      <td>2fa33aed8</td>\n",
       "      <td>4</td>\n",
       "    </tr>\n",
       "    <tr>\n",
       "      <th>9530</th>\n",
       "      <td>2fa33aed8</td>\n",
       "      <td>4</td>\n",
       "    </tr>\n",
       "    <tr>\n",
       "      <th>9531</th>\n",
       "      <td>08908240a</td>\n",
       "      <td>4</td>\n",
       "    </tr>\n",
       "    <tr>\n",
       "      <th>9532</th>\n",
       "      <td>08908240a</td>\n",
       "      <td>4</td>\n",
       "    </tr>\n",
       "    <tr>\n",
       "      <th>9533</th>\n",
       "      <td>08908240a</td>\n",
       "      <td>4</td>\n",
       "    </tr>\n",
       "    <tr>\n",
       "      <th>9534</th>\n",
       "      <td>b58de0516</td>\n",
       "      <td>3</td>\n",
       "    </tr>\n",
       "    <tr>\n",
       "      <th>9535</th>\n",
       "      <td>9bbf7c6ca</td>\n",
       "      <td>1</td>\n",
       "    </tr>\n",
       "    <tr>\n",
       "      <th>9536</th>\n",
       "      <td>9bbf7c6ca</td>\n",
       "      <td>2</td>\n",
       "    </tr>\n",
       "    <tr>\n",
       "      <th>9537</th>\n",
       "      <td>9bbf7c6ca</td>\n",
       "      <td>2</td>\n",
       "    </tr>\n",
       "    <tr>\n",
       "      <th>9538</th>\n",
       "      <td>9bbf7c6ca</td>\n",
       "      <td>2</td>\n",
       "    </tr>\n",
       "    <tr>\n",
       "      <th>9539</th>\n",
       "      <td>9bbf7c6ca</td>\n",
       "      <td>2</td>\n",
       "    </tr>\n",
       "    <tr>\n",
       "      <th>9540</th>\n",
       "      <td>e87e70c06</td>\n",
       "      <td>2</td>\n",
       "    </tr>\n",
       "    <tr>\n",
       "      <th>9541</th>\n",
       "      <td>e87e70c06</td>\n",
       "      <td>2</td>\n",
       "    </tr>\n",
       "    <tr>\n",
       "      <th>9542</th>\n",
       "      <td>e87e70c06</td>\n",
       "      <td>2</td>\n",
       "    </tr>\n",
       "    <tr>\n",
       "      <th>9543</th>\n",
       "      <td>e87e70c06</td>\n",
       "      <td>2</td>\n",
       "    </tr>\n",
       "    <tr>\n",
       "      <th>9544</th>\n",
       "      <td>e87e70c06</td>\n",
       "      <td>2</td>\n",
       "    </tr>\n",
       "    <tr>\n",
       "      <th>9545</th>\n",
       "      <td>a8eeafc29</td>\n",
       "      <td>4</td>\n",
       "    </tr>\n",
       "    <tr>\n",
       "      <th>9546</th>\n",
       "      <td>a8eeafc29</td>\n",
       "      <td>4</td>\n",
       "    </tr>\n",
       "    <tr>\n",
       "      <th>9547</th>\n",
       "      <td>a8eeafc29</td>\n",
       "      <td>4</td>\n",
       "    </tr>\n",
       "    <tr>\n",
       "      <th>9548</th>\n",
       "      <td>a8eeafc29</td>\n",
       "      <td>4</td>\n",
       "    </tr>\n",
       "    <tr>\n",
       "      <th>9549</th>\n",
       "      <td>a8eeafc29</td>\n",
       "      <td>4</td>\n",
       "    </tr>\n",
       "    <tr>\n",
       "      <th>9550</th>\n",
       "      <td>212db6f6c</td>\n",
       "      <td>2</td>\n",
       "    </tr>\n",
       "    <tr>\n",
       "      <th>9551</th>\n",
       "      <td>212db6f6c</td>\n",
       "      <td>2</td>\n",
       "    </tr>\n",
       "    <tr>\n",
       "      <th>9552</th>\n",
       "      <td>d6c086aa3</td>\n",
       "      <td>2</td>\n",
       "    </tr>\n",
       "    <tr>\n",
       "      <th>9553</th>\n",
       "      <td>d6c086aa3</td>\n",
       "      <td>2</td>\n",
       "    </tr>\n",
       "    <tr>\n",
       "      <th>9554</th>\n",
       "      <td>d6c086aa3</td>\n",
       "      <td>2</td>\n",
       "    </tr>\n",
       "    <tr>\n",
       "      <th>9555</th>\n",
       "      <td>d6c086aa3</td>\n",
       "      <td>2</td>\n",
       "    </tr>\n",
       "    <tr>\n",
       "      <th>9556</th>\n",
       "      <td>d6c086aa3</td>\n",
       "      <td>2</td>\n",
       "    </tr>\n",
       "  </tbody>\n",
       "</table>\n",
       "<p>9552 rows × 2 columns</p>\n",
       "</div>"
      ],
      "text/plain": [
       "        idhogar  Target\n",
       "0     21eb7fcc1       4\n",
       "1     0e5d7a658       4\n",
       "2     2c7317ea8       4\n",
       "3     2b58d945f       4\n",
       "4     2b58d945f       4\n",
       "5     2b58d945f       4\n",
       "6     2b58d945f       4\n",
       "7     d6dae86b7       4\n",
       "8     d6dae86b7       4\n",
       "9     d6dae86b7       4\n",
       "10    d6dae86b7       4\n",
       "11    bb2094100       4\n",
       "12    bb2094100       4\n",
       "13    c51f9c774       4\n",
       "14    c51f9c774       4\n",
       "15    6893e65ca       4\n",
       "16    6893e65ca       4\n",
       "17    6893e65ca       4\n",
       "18    6893e65ca       4\n",
       "19    d29058053       4\n",
       "20    d29058053       4\n",
       "21    ec0e8edce       4\n",
       "22    ec0e8edce       4\n",
       "23    3e16fab89       4\n",
       "24    3e16fab89       4\n",
       "25    3e16fab89       4\n",
       "26    1e84a2ac8       4\n",
       "27    759df0194       4\n",
       "28    759df0194       4\n",
       "29    759df0194       4\n",
       "...         ...     ...\n",
       "9527  fef7fd222       4\n",
       "9528  bb631bc5d       4\n",
       "9529  2fa33aed8       4\n",
       "9530  2fa33aed8       4\n",
       "9531  08908240a       4\n",
       "9532  08908240a       4\n",
       "9533  08908240a       4\n",
       "9534  b58de0516       3\n",
       "9535  9bbf7c6ca       1\n",
       "9536  9bbf7c6ca       2\n",
       "9537  9bbf7c6ca       2\n",
       "9538  9bbf7c6ca       2\n",
       "9539  9bbf7c6ca       2\n",
       "9540  e87e70c06       2\n",
       "9541  e87e70c06       2\n",
       "9542  e87e70c06       2\n",
       "9543  e87e70c06       2\n",
       "9544  e87e70c06       2\n",
       "9545  a8eeafc29       4\n",
       "9546  a8eeafc29       4\n",
       "9547  a8eeafc29       4\n",
       "9548  a8eeafc29       4\n",
       "9549  a8eeafc29       4\n",
       "9550  212db6f6c       2\n",
       "9551  212db6f6c       2\n",
       "9552  d6c086aa3       2\n",
       "9553  d6c086aa3       2\n",
       "9554  d6c086aa3       2\n",
       "9555  d6c086aa3       2\n",
       "9556  d6c086aa3       2\n",
       "\n",
       "[9552 rows x 2 columns]"
      ]
     },
     "execution_count": 33,
     "metadata": {},
     "output_type": "execute_result"
    }
   ],
   "source": [
    "income_df[['idhogar','Target']].groupby('idhogar').head(100)\n"
   ]
  },
  {
   "cell_type": "code",
   "execution_count": 34,
   "metadata": {},
   "outputs": [],
   "source": [
    "##no they have different poverty levels for some families¶"
   ]
  },
  {
   "cell_type": "code",
   "execution_count": 35,
   "metadata": {},
   "outputs": [
    {
     "data": {
      "text/plain": [
       "parentesco1    15\n",
       "dtype: int64"
      ]
     },
     "execution_count": 35,
     "metadata": {},
     "output_type": "execute_result"
    }
   ],
   "source": [
    "(income_df[['idhogar','parentesco1']].groupby('idhogar').sum()).where(income_df[['idhogar','parentesco1']].groupby('idhogar').sum()==0).count()\n"
   ]
  },
  {
   "cell_type": "code",
   "execution_count": null,
   "metadata": {},
   "outputs": [],
   "source": []
  },
  {
   "cell_type": "code",
   "execution_count": 36,
   "metadata": {},
   "outputs": [
    {
     "data": {
      "text/plain": [
       "0    4\n",
       "1    4\n",
       "2    4\n",
       "3    4\n",
       "4    4\n",
       "Name: Target, dtype: int64"
      ]
     },
     "execution_count": 36,
     "metadata": {},
     "output_type": "execute_result"
    }
   ],
   "source": [
    "Target=income_df[\"Target\"]\n",
    "Target.head()"
   ]
  },
  {
   "cell_type": "code",
   "execution_count": 37,
   "metadata": {},
   "outputs": [
    {
     "data": {
      "text/plain": [
       "(9552, 135)"
      ]
     },
     "execution_count": 37,
     "metadata": {},
     "output_type": "execute_result"
    }
   ],
   "source": [
    "income_df.drop([\"Id\",\"idhogar\",\"dependency\",\"edjefe\",\"edjefa\"],axis=1,inplace=True)\n",
    "income_df.shape"
   ]
  },
  {
   "cell_type": "markdown",
   "metadata": {},
   "source": [
    "## Now performing the above operations with testing dataset"
   ]
  },
  {
   "cell_type": "code",
   "execution_count": 38,
   "metadata": {},
   "outputs": [
    {
     "name": "stdout",
     "output_type": "stream",
     "text": [
      "<class 'pandas.core.frame.DataFrame'>\n",
      "RangeIndex: 23856 entries, 0 to 23855\n",
      "Columns: 142 entries, Id to agesq\n",
      "dtypes: float64(8), int64(129), object(5)\n",
      "memory usage: 25.8+ MB\n"
     ]
    }
   ],
   "source": [
    "test_data.info()"
   ]
  },
  {
   "cell_type": "code",
   "execution_count": 39,
   "metadata": {},
   "outputs": [
    {
     "data": {
      "text/plain": [
       "(23856, 142)"
      ]
     },
     "execution_count": 39,
     "metadata": {},
     "output_type": "execute_result"
    }
   ],
   "source": [
    "test_data.shape"
   ]
  },
  {
   "cell_type": "code",
   "execution_count": 40,
   "metadata": {},
   "outputs": [
    {
     "name": "stdout",
     "output_type": "stream",
     "text": [
      "v2a1 : 17403\n",
      "v18q1 : 18126\n",
      "rez_esc : 19653\n",
      "meaneduc : 31\n",
      "SQBmeaned : 31\n"
     ]
    }
   ],
   "source": [
    "for i in test_data.columns:\n",
    "    if test_data[i].isna().sum()>0:\n",
    "        print(i,\":\",test_data[i].isna().sum())"
   ]
  },
  {
   "cell_type": "code",
   "execution_count": 41,
   "metadata": {},
   "outputs": [],
   "source": [
    "# there are almost 70%  of null values present in columns v2a1,v18q1,rez_esc so if we are removing those null values \n",
    "# it will affect the entire dataset so i am going to remove it "
   ]
  },
  {
   "cell_type": "code",
   "execution_count": 42,
   "metadata": {},
   "outputs": [
    {
     "data": {
      "text/plain": [
       "(23856, 139)"
      ]
     },
     "execution_count": 42,
     "metadata": {},
     "output_type": "execute_result"
    }
   ],
   "source": [
    "test_data.drop([\"v2a1\",\"v18q1\",\"rez_esc\"],axis=1,inplace=True)\n",
    "test_data.shape"
   ]
  },
  {
   "cell_type": "code",
   "execution_count": 43,
   "metadata": {},
   "outputs": [],
   "source": [
    "## there are only five null values in meaneduc and SQBmeaned so i am dropping the null values"
   ]
  },
  {
   "cell_type": "code",
   "execution_count": 44,
   "metadata": {},
   "outputs": [
    {
     "data": {
      "text/plain": [
       "(23825, 139)"
      ]
     },
     "execution_count": 44,
     "metadata": {},
     "output_type": "execute_result"
    }
   ],
   "source": [
    "test_data.dropna(inplace=True)\n",
    "test_data.shape"
   ]
  },
  {
   "cell_type": "code",
   "execution_count": 45,
   "metadata": {},
   "outputs": [
    {
     "data": {
      "text/plain": [
       "(23825, 134)"
      ]
     },
     "execution_count": 45,
     "metadata": {},
     "output_type": "execute_result"
    }
   ],
   "source": [
    "test_data.drop([\"Id\",\"idhogar\",\"dependency\",\"edjefe\",\"edjefa\"],axis=1,inplace=True)\n",
    "test_data.shape"
   ]
  },
  {
   "cell_type": "markdown",
   "metadata": {},
   "source": [
    "## selecting the feature and dependent variable"
   ]
  },
  {
   "cell_type": "code",
   "execution_count": 46,
   "metadata": {},
   "outputs": [],
   "source": [
    "feature =income_df.columns.drop([\"Target\"]) \n",
    "dependent=[\"Target\"]"
   ]
  },
  {
   "cell_type": "markdown",
   "metadata": {},
   "source": [
    "## PCA TECHNIQUE"
   ]
  },
  {
   "cell_type": "code",
   "execution_count": 47,
   "metadata": {},
   "outputs": [],
   "source": [
    "## SINCE THE TRAIN AND TEST DATASET IS GIVEN INDIVIDUALLY IT NOT NECESSARY TO PERFORM TRAIN_TEST_SPLIT   "
   ]
  },
  {
   "cell_type": "code",
   "execution_count": 48,
   "metadata": {},
   "outputs": [],
   "source": [
    "pca=PCA(n_components=30)\n",
    "income_train=pd.DataFrame(pca.fit_transform(income_df[feature]))\n",
    "income_test=pd.DataFrame(pca.transform(test_data[feature]))"
   ]
  },
  {
   "cell_type": "code",
   "execution_count": 49,
   "metadata": {},
   "outputs": [
    {
     "data": {
      "text/plain": [
       "array([9.96499212e-01, 2.23663348e-03, 6.22769825e-04, 5.45127495e-04,\n",
       "       6.07130982e-05, 2.20703084e-05, 4.51853901e-06, 3.50192914e-06,\n",
       "       2.03629589e-06, 4.58282922e-07, 3.50592063e-07, 3.24409255e-07,\n",
       "       2.32799936e-07, 1.99412972e-07, 1.77153958e-07, 1.39551261e-07,\n",
       "       1.34889552e-07, 1.01893131e-07, 8.39053879e-08, 7.44191087e-08,\n",
       "       6.62025359e-08, 6.49456564e-08, 5.88617933e-08, 4.80546648e-08,\n",
       "       4.54072329e-08, 4.27861699e-08, 4.12844030e-08, 4.01960865e-08,\n",
       "       3.97588354e-08, 3.31055748e-08])"
      ]
     },
     "execution_count": 49,
     "metadata": {},
     "output_type": "execute_result"
    }
   ],
   "source": [
    "explained_variance=pca.explained_variance_ratio_\n",
    "explained_variance"
   ]
  },
  {
   "cell_type": "code",
   "execution_count": 50,
   "metadata": {},
   "outputs": [
    {
     "data": {
      "image/png": "[encoded data removed]",
      "text/plain": [
       "<Figure size 432x288 with 1 Axes>"
      ]
     },
     "metadata": {
      "needs_background": "light"
     },
     "output_type": "display_data"
    }
   ],
   "source": [
    "##to plot cumlative sum of variance \n",
    "\n",
    "plt.plot(np.cumsum(pca.explained_variance_ratio_))\n",
    "plt.show()"
   ]
  },
  {
   "cell_type": "code",
   "execution_count": 51,
   "metadata": {},
   "outputs": [
    {
     "name": "stdout",
     "output_type": "stream",
     "text": [
      "train accuracy\n"
     ]
    },
    {
     "data": {
      "text/plain": [
       "0.9959170854271356"
      ]
     },
     "metadata": {},
     "output_type": "display_data"
    }
   ],
   "source": [
    "from sklearn.ensemble import RandomForestClassifier\n",
    "rmodel=RandomForestClassifier(n_estimators=10)\n",
    "rmodel.fit(income_train,income_df[\"Target\"])\n",
    "print(\"train accuracy\")\n",
    "display(rmodel.score(income_train,income_df[\"Target\"]))\n",
    "\n"
   ]
  },
  {
   "cell_type": "code",
   "execution_count": 52,
   "metadata": {},
   "outputs": [
    {
     "data": {
      "text/plain": [
       "array([4, 4, 4, ..., 4, 4, 2], dtype=int64)"
      ]
     },
     "execution_count": 52,
     "metadata": {},
     "output_type": "execute_result"
    }
   ],
   "source": [
    "y_pred=rmodel.predict(income_test)\n",
    "y_pred"
   ]
  },
  {
   "cell_type": "code",
   "execution_count": 53,
   "metadata": {},
   "outputs": [
    {
     "data": {
      "text/plain": [
       "(23825,)"
      ]
     },
     "execution_count": 53,
     "metadata": {},
     "output_type": "execute_result"
    }
   ],
   "source": [
    "y_pred.shape"
   ]
  },
  {
   "cell_type": "code",
   "execution_count": 54,
   "metadata": {},
   "outputs": [],
   "source": [
    "test_data[\"Target\"]=y_pred"
   ]
  },
  {
   "cell_type": "code",
   "execution_count": 55,
   "metadata": {},
   "outputs": [
    {
     "data": {
      "text/html": [
       "<div>\n",
       "<style scoped>\n",
       "    .dataframe tbody tr th:only-of-type {\n",
       "        vertical-align: middle;\n",
       "    }\n",
       "\n",
       "    .dataframe tbody tr th {\n",
       "        vertical-align: top;\n",
       "    }\n",
       "\n",
       "    .dataframe thead th {\n",
       "        text-align: right;\n",
       "    }\n",
       "</style>\n",
       "<table border=\"1\" class=\"dataframe\">\n",
       "  <thead>\n",
       "    <tr style=\"text-align: right;\">\n",
       "      <th></th>\n",
       "      <th>hacdor</th>\n",
       "      <th>rooms</th>\n",
       "      <th>hacapo</th>\n",
       "      <th>v14a</th>\n",
       "      <th>refrig</th>\n",
       "      <th>v18q</th>\n",
       "      <th>r4h1</th>\n",
       "      <th>r4h2</th>\n",
       "      <th>r4h3</th>\n",
       "      <th>r4m1</th>\n",
       "      <th>...</th>\n",
       "      <th>SQBescolari</th>\n",
       "      <th>SQBage</th>\n",
       "      <th>SQBhogar_total</th>\n",
       "      <th>SQBedjefe</th>\n",
       "      <th>SQBhogar_nin</th>\n",
       "      <th>SQBovercrowding</th>\n",
       "      <th>SQBdependency</th>\n",
       "      <th>SQBmeaned</th>\n",
       "      <th>agesq</th>\n",
       "      <th>Target</th>\n",
       "    </tr>\n",
       "  </thead>\n",
       "  <tbody>\n",
       "    <tr>\n",
       "      <th>0</th>\n",
       "      <td>0</td>\n",
       "      <td>5</td>\n",
       "      <td>0</td>\n",
       "      <td>1</td>\n",
       "      <td>1</td>\n",
       "      <td>0</td>\n",
       "      <td>1</td>\n",
       "      <td>1</td>\n",
       "      <td>2</td>\n",
       "      <td>0</td>\n",
       "      <td>...</td>\n",
       "      <td>0</td>\n",
       "      <td>16</td>\n",
       "      <td>9</td>\n",
       "      <td>0</td>\n",
       "      <td>1</td>\n",
       "      <td>2.25</td>\n",
       "      <td>0.25</td>\n",
       "      <td>272.25</td>\n",
       "      <td>16</td>\n",
       "      <td>4</td>\n",
       "    </tr>\n",
       "    <tr>\n",
       "      <th>1</th>\n",
       "      <td>0</td>\n",
       "      <td>5</td>\n",
       "      <td>0</td>\n",
       "      <td>1</td>\n",
       "      <td>1</td>\n",
       "      <td>0</td>\n",
       "      <td>1</td>\n",
       "      <td>1</td>\n",
       "      <td>2</td>\n",
       "      <td>0</td>\n",
       "      <td>...</td>\n",
       "      <td>256</td>\n",
       "      <td>1681</td>\n",
       "      <td>9</td>\n",
       "      <td>0</td>\n",
       "      <td>1</td>\n",
       "      <td>2.25</td>\n",
       "      <td>0.25</td>\n",
       "      <td>272.25</td>\n",
       "      <td>1681</td>\n",
       "      <td>4</td>\n",
       "    </tr>\n",
       "    <tr>\n",
       "      <th>2</th>\n",
       "      <td>0</td>\n",
       "      <td>5</td>\n",
       "      <td>0</td>\n",
       "      <td>1</td>\n",
       "      <td>1</td>\n",
       "      <td>0</td>\n",
       "      <td>1</td>\n",
       "      <td>1</td>\n",
       "      <td>2</td>\n",
       "      <td>0</td>\n",
       "      <td>...</td>\n",
       "      <td>289</td>\n",
       "      <td>1681</td>\n",
       "      <td>9</td>\n",
       "      <td>0</td>\n",
       "      <td>1</td>\n",
       "      <td>2.25</td>\n",
       "      <td>0.25</td>\n",
       "      <td>272.25</td>\n",
       "      <td>1681</td>\n",
       "      <td>4</td>\n",
       "    </tr>\n",
       "    <tr>\n",
       "      <th>3</th>\n",
       "      <td>0</td>\n",
       "      <td>14</td>\n",
       "      <td>0</td>\n",
       "      <td>1</td>\n",
       "      <td>1</td>\n",
       "      <td>1</td>\n",
       "      <td>0</td>\n",
       "      <td>1</td>\n",
       "      <td>1</td>\n",
       "      <td>0</td>\n",
       "      <td>...</td>\n",
       "      <td>256</td>\n",
       "      <td>3481</td>\n",
       "      <td>1</td>\n",
       "      <td>256</td>\n",
       "      <td>0</td>\n",
       "      <td>1.00</td>\n",
       "      <td>0.00</td>\n",
       "      <td>256.00</td>\n",
       "      <td>3481</td>\n",
       "      <td>4</td>\n",
       "    </tr>\n",
       "    <tr>\n",
       "      <th>5</th>\n",
       "      <td>0</td>\n",
       "      <td>3</td>\n",
       "      <td>0</td>\n",
       "      <td>1</td>\n",
       "      <td>1</td>\n",
       "      <td>1</td>\n",
       "      <td>0</td>\n",
       "      <td>0</td>\n",
       "      <td>0</td>\n",
       "      <td>0</td>\n",
       "      <td>...</td>\n",
       "      <td>256</td>\n",
       "      <td>1444</td>\n",
       "      <td>4</td>\n",
       "      <td>0</td>\n",
       "      <td>0</td>\n",
       "      <td>1.00</td>\n",
       "      <td>0.00</td>\n",
       "      <td>182.25</td>\n",
       "      <td>1444</td>\n",
       "      <td>4</td>\n",
       "    </tr>\n",
       "  </tbody>\n",
       "</table>\n",
       "<p>5 rows × 135 columns</p>\n",
       "</div>"
      ],
      "text/plain": [
       "   hacdor  rooms  hacapo  v14a  refrig  v18q  r4h1  r4h2  r4h3  r4m1   ...    \\\n",
       "0       0      5       0     1       1     0     1     1     2     0   ...     \n",
       "1       0      5       0     1       1     0     1     1     2     0   ...     \n",
       "2       0      5       0     1       1     0     1     1     2     0   ...     \n",
       "3       0     14       0     1       1     1     0     1     1     0   ...     \n",
       "5       0      3       0     1       1     1     0     0     0     0   ...     \n",
       "\n",
       "   SQBescolari  SQBage  SQBhogar_total  SQBedjefe  SQBhogar_nin  \\\n",
       "0            0      16               9          0             1   \n",
       "1          256    1681               9          0             1   \n",
       "2          289    1681               9          0             1   \n",
       "3          256    3481               1        256             0   \n",
       "5          256    1444               4          0             0   \n",
       "\n",
       "   SQBovercrowding  SQBdependency  SQBmeaned  agesq  Target  \n",
       "0             2.25           0.25     272.25     16       4  \n",
       "1             2.25           0.25     272.25   1681       4  \n",
       "2             2.25           0.25     272.25   1681       4  \n",
       "3             1.00           0.00     256.00   3481       4  \n",
       "5             1.00           0.00     182.25   1444       4  \n",
       "\n",
       "[5 rows x 135 columns]"
      ]
     },
     "execution_count": 55,
     "metadata": {},
     "output_type": "execute_result"
    }
   ],
   "source": [
    "test_data.head()"
   ]
  },
  {
   "cell_type": "code",
   "execution_count": 56,
   "metadata": {},
   "outputs": [
    {
     "data": {
      "text/plain": [
       "1.0"
      ]
     },
     "metadata": {},
     "output_type": "display_data"
    }
   ],
   "source": [
    "\n",
    "display(rmodel.score(income_test,test_data[\"Target\"]))"
   ]
  },
  {
   "cell_type": "markdown",
   "metadata": {},
   "source": [
    "## if we are normalizing the data with target variable then it becomes continious variable and we cannot apply random variable\n",
    "\n",
    "## if we are normalizing the data without target then the value is too high and we cannot evaluate it so i am using it without normalization"
   ]
  },
  {
   "cell_type": "code",
   "execution_count": 57,
   "metadata": {
    "scrolled": true
   },
   "outputs": [
    {
     "name": "stdout",
     "output_type": "stream",
     "text": [
      "(23825, 30)\n",
      "(23825,)\n",
      "train accuracy\n"
     ]
    },
    {
     "data": {
      "text/plain": [
       "0.9931269674711437"
      ]
     },
     "metadata": {},
     "output_type": "display_data"
    },
    {
     "name": "stdout",
     "output_type": "stream",
     "text": [
      "train accuracy\n"
     ]
    },
    {
     "data": {
      "text/plain": [
       "0.9939664218258132"
      ]
     },
     "metadata": {},
     "output_type": "display_data"
    },
    {
     "name": "stdout",
     "output_type": "stream",
     "text": [
      "train accuracy\n"
     ]
    },
    {
     "data": {
      "text/plain": [
       "0.9939139559286464"
      ]
     },
     "metadata": {},
     "output_type": "display_data"
    },
    {
     "name": "stdout",
     "output_type": "stream",
     "text": [
      "train accuracy\n"
     ]
    },
    {
     "data": {
      "text/plain": [
       "0.9945960125918153"
      ]
     },
     "metadata": {},
     "output_type": "display_data"
    },
    {
     "name": "stdout",
     "output_type": "stream",
     "text": [
      "train accuracy\n"
     ]
    },
    {
     "data": {
      "text/plain": [
       "0.9950682056663169"
      ]
     },
     "metadata": {},
     "output_type": "display_data"
    },
    {
     "name": "stdout",
     "output_type": "stream",
     "text": [
      "mean value of accuracy\n",
      "0.9941343126967471\n"
     ]
    }
   ],
   "source": [
    "from sklearn.model_selection import KFold\n",
    "k_fold=KFold(n_splits=5,shuffle=False,random_state=100)\n",
    "train_acc=[]\n",
    "\n",
    "\n",
    "X=income_test\n",
    "y=test_data[\"Target\"]\n",
    "print(X.shape)\n",
    "print(y.shape)\n",
    "for i,(train,test) in enumerate(k_fold.split(X,y)):\n",
    "    \n",
    "        \n",
    "    r1model=RandomForestClassifier()\n",
    "    \n",
    "    r1model.fit(X.iloc[train],y.iloc[train])\n",
    "    print(\"train accuracy\")\n",
    "    display(r1model.score(X.iloc[train],y.iloc[train]))\n",
    "    train_acc.append(r1model.score(X.iloc[train],y.iloc[train]))\n",
    "print(\"mean value of accuracy\")\n",
    "print(np.mean(train_acc))\n",
    "\n"
   ]
  },
  {
   "cell_type": "code",
   "execution_count": 58,
   "metadata": {},
   "outputs": [
    {
     "name": "stdout",
     "output_type": "stream",
     "text": [
      "(9552, 30)\n",
      "(9552,)\n",
      "train accuracy\n"
     ]
    },
    {
     "data": {
      "text/plain": [
       "0.9959429394058369"
      ]
     },
     "metadata": {},
     "output_type": "display_data"
    },
    {
     "name": "stdout",
     "output_type": "stream",
     "text": [
      "train accuracy\n"
     ]
    },
    {
     "data": {
      "text/plain": [
       "0.9946342101819133"
      ]
     },
     "metadata": {},
     "output_type": "display_data"
    },
    {
     "name": "stdout",
     "output_type": "stream",
     "text": [
      "train accuracy\n"
     ]
    },
    {
     "data": {
      "text/plain": [
       "0.9941114891389689"
      ]
     },
     "metadata": {},
     "output_type": "display_data"
    },
    {
     "name": "stdout",
     "output_type": "stream",
     "text": [
      "train accuracy\n"
     ]
    },
    {
     "data": {
      "text/plain": [
       "0.9947657681235279"
      ]
     },
     "metadata": {},
     "output_type": "display_data"
    },
    {
     "name": "stdout",
     "output_type": "stream",
     "text": [
      "train accuracy\n"
     ]
    },
    {
     "data": {
      "text/plain": [
       "0.9950274797173515"
      ]
     },
     "metadata": {},
     "output_type": "display_data"
    },
    {
     "name": "stdout",
     "output_type": "stream",
     "text": [
      "mean value of accuracy\n",
      "0.9948963773135198\n"
     ]
    }
   ],
   "source": [
    "\n",
    "\n",
    "from sklearn.model_selection import KFold\n",
    "k_fold=KFold(n_splits=5,shuffle=False,random_state=100)\n",
    "train_acc=[]\n",
    "\n",
    "\n",
    "X=income_train\n",
    "y=income_df[\"Target\"]\n",
    "print(X.shape)\n",
    "print(y.shape)\n",
    "for i,(train,test) in enumerate(k_fold.split(X,y)):\n",
    "    \n",
    "        \n",
    "    r1model=RandomForestClassifier()\n",
    "    \n",
    "    r1model.fit(X.iloc[train],y.iloc[train])\n",
    "    print(\"train accuracy\")\n",
    "    display(r1model.score(X.iloc[train],y.iloc[train]))\n",
    "    display(r1model.score(X.iloc[test],y.iloc[test]))\n",
    "    train_acc.append(r1model.score(X.iloc[train],y.iloc[train]))\n",
    "print(\"mean value of accuracy\")\n",
    "print(np.mean(train_acc))\n",
    "\n"
   ]
  },
  {
   "cell_type": "code",
   "execution_count": null,
   "metadata": {},
   "outputs": [],
   "source": []
  }
 ],
 "metadata": {
  "kernelspec": {
   "display_name": "Python 3",
   "language": "python",
   "name": "python3"
  },
  "language_info": {
   "codemirror_mode": {
    "name": "ipython",
    "version": 3
   },
   "file_extension": ".py",
   "mimetype": "text/x-python",
   "name": "python",
   "nbconvert_exporter": "python",
   "pygments_lexer": "ipython3",
   "version": "3.7.1"
  }
 },
 "nbformat": 4,
 "nbformat_minor": 2
}
