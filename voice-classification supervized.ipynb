{
 "cells": [
  {
   "cell_type": "code",
   "execution_count": 2,
   "metadata": {},
   "outputs": [],
   "source": [
    "import numpy as np\n",
    "import pandas as pd \n",
    "import matplotlib.pyplot as plt\n",
    "import seaborn as sb\n",
    "%matplotlib inline\n",
    "import warnings\n",
    "warnings.filterwarnings('ignore')\n",
    "from sklearn.preprocessing import MinMaxScaler\n",
    "from sklearn import preprocessing\n",
    "from sklearn.model_selection import train_test_split\n",
    "from sklearn.linear_model  import LogisticRegression\n",
    "from sklearn.metrics import confusion_matrix\n",
    "from sklearn.metrics import classification_report\n",
    "from sklearn.tree import DecisionTreeClassifier\n",
    "from sklearn.neighbors import KNeighborsClassifier\n",
    "from sklearn.svm import SVC\n",
    "from sklearn.feature_selection import RFE"
   ]
  },
  {
   "cell_type": "code",
   "execution_count": 3,
   "metadata": {},
   "outputs": [
    {
     "data": {
      "text/html": [
       "<div>\n",
       "<style scoped>\n",
       "    .dataframe tbody tr th:only-of-type {\n",
       "        vertical-align: middle;\n",
       "    }\n",
       "\n",
       "    .dataframe tbody tr th {\n",
       "        vertical-align: top;\n",
       "    }\n",
       "\n",
       "    .dataframe thead th {\n",
       "        text-align: right;\n",
       "    }\n",
       "</style>\n",
       "<table border=\"1\" class=\"dataframe\">\n",
       "  <thead>\n",
       "    <tr style=\"text-align: right;\">\n",
       "      <th></th>\n",
       "      <th>meanfreq</th>\n",
       "      <th>sd</th>\n",
       "      <th>median</th>\n",
       "      <th>Q25</th>\n",
       "      <th>Q75</th>\n",
       "      <th>IQR</th>\n",
       "      <th>skew</th>\n",
       "      <th>kurt</th>\n",
       "      <th>sp.ent</th>\n",
       "      <th>sfm</th>\n",
       "      <th>...</th>\n",
       "      <th>centroid</th>\n",
       "      <th>meanfun</th>\n",
       "      <th>minfun</th>\n",
       "      <th>maxfun</th>\n",
       "      <th>meandom</th>\n",
       "      <th>mindom</th>\n",
       "      <th>maxdom</th>\n",
       "      <th>dfrange</th>\n",
       "      <th>modindx</th>\n",
       "      <th>label</th>\n",
       "    </tr>\n",
       "  </thead>\n",
       "  <tbody>\n",
       "    <tr>\n",
       "      <th>0</th>\n",
       "      <td>0.059781</td>\n",
       "      <td>0.064241</td>\n",
       "      <td>0.032027</td>\n",
       "      <td>0.015071</td>\n",
       "      <td>0.090193</td>\n",
       "      <td>0.075122</td>\n",
       "      <td>12.863462</td>\n",
       "      <td>274.402906</td>\n",
       "      <td>0.893369</td>\n",
       "      <td>0.491918</td>\n",
       "      <td>...</td>\n",
       "      <td>0.059781</td>\n",
       "      <td>0.084279</td>\n",
       "      <td>0.015702</td>\n",
       "      <td>0.275862</td>\n",
       "      <td>0.007812</td>\n",
       "      <td>0.007812</td>\n",
       "      <td>0.007812</td>\n",
       "      <td>0.000000</td>\n",
       "      <td>0.000000</td>\n",
       "      <td>male</td>\n",
       "    </tr>\n",
       "    <tr>\n",
       "      <th>1</th>\n",
       "      <td>0.066009</td>\n",
       "      <td>0.067310</td>\n",
       "      <td>0.040229</td>\n",
       "      <td>0.019414</td>\n",
       "      <td>0.092666</td>\n",
       "      <td>0.073252</td>\n",
       "      <td>22.423285</td>\n",
       "      <td>634.613855</td>\n",
       "      <td>0.892193</td>\n",
       "      <td>0.513724</td>\n",
       "      <td>...</td>\n",
       "      <td>0.066009</td>\n",
       "      <td>0.107937</td>\n",
       "      <td>0.015826</td>\n",
       "      <td>0.250000</td>\n",
       "      <td>0.009014</td>\n",
       "      <td>0.007812</td>\n",
       "      <td>0.054688</td>\n",
       "      <td>0.046875</td>\n",
       "      <td>0.052632</td>\n",
       "      <td>male</td>\n",
       "    </tr>\n",
       "    <tr>\n",
       "      <th>2</th>\n",
       "      <td>0.077316</td>\n",
       "      <td>0.083829</td>\n",
       "      <td>0.036718</td>\n",
       "      <td>0.008701</td>\n",
       "      <td>0.131908</td>\n",
       "      <td>0.123207</td>\n",
       "      <td>30.757155</td>\n",
       "      <td>1024.927705</td>\n",
       "      <td>0.846389</td>\n",
       "      <td>0.478905</td>\n",
       "      <td>...</td>\n",
       "      <td>0.077316</td>\n",
       "      <td>0.098706</td>\n",
       "      <td>0.015656</td>\n",
       "      <td>0.271186</td>\n",
       "      <td>0.007990</td>\n",
       "      <td>0.007812</td>\n",
       "      <td>0.015625</td>\n",
       "      <td>0.007812</td>\n",
       "      <td>0.046512</td>\n",
       "      <td>male</td>\n",
       "    </tr>\n",
       "    <tr>\n",
       "      <th>3</th>\n",
       "      <td>0.151228</td>\n",
       "      <td>0.072111</td>\n",
       "      <td>0.158011</td>\n",
       "      <td>0.096582</td>\n",
       "      <td>0.207955</td>\n",
       "      <td>0.111374</td>\n",
       "      <td>1.232831</td>\n",
       "      <td>4.177296</td>\n",
       "      <td>0.963322</td>\n",
       "      <td>0.727232</td>\n",
       "      <td>...</td>\n",
       "      <td>0.151228</td>\n",
       "      <td>0.088965</td>\n",
       "      <td>0.017798</td>\n",
       "      <td>0.250000</td>\n",
       "      <td>0.201497</td>\n",
       "      <td>0.007812</td>\n",
       "      <td>0.562500</td>\n",
       "      <td>0.554688</td>\n",
       "      <td>0.247119</td>\n",
       "      <td>male</td>\n",
       "    </tr>\n",
       "    <tr>\n",
       "      <th>4</th>\n",
       "      <td>0.135120</td>\n",
       "      <td>0.079146</td>\n",
       "      <td>0.124656</td>\n",
       "      <td>0.078720</td>\n",
       "      <td>0.206045</td>\n",
       "      <td>0.127325</td>\n",
       "      <td>1.101174</td>\n",
       "      <td>4.333713</td>\n",
       "      <td>0.971955</td>\n",
       "      <td>0.783568</td>\n",
       "      <td>...</td>\n",
       "      <td>0.135120</td>\n",
       "      <td>0.106398</td>\n",
       "      <td>0.016931</td>\n",
       "      <td>0.266667</td>\n",
       "      <td>0.712812</td>\n",
       "      <td>0.007812</td>\n",
       "      <td>5.484375</td>\n",
       "      <td>5.476562</td>\n",
       "      <td>0.208274</td>\n",
       "      <td>male</td>\n",
       "    </tr>\n",
       "  </tbody>\n",
       "</table>\n",
       "<p>5 rows × 21 columns</p>\n",
       "</div>"
      ],
      "text/plain": [
       "   meanfreq        sd    median       Q25       Q75       IQR       skew  \\\n",
       "0  0.059781  0.064241  0.032027  0.015071  0.090193  0.075122  12.863462   \n",
       "1  0.066009  0.067310  0.040229  0.019414  0.092666  0.073252  22.423285   \n",
       "2  0.077316  0.083829  0.036718  0.008701  0.131908  0.123207  30.757155   \n",
       "3  0.151228  0.072111  0.158011  0.096582  0.207955  0.111374   1.232831   \n",
       "4  0.135120  0.079146  0.124656  0.078720  0.206045  0.127325   1.101174   \n",
       "\n",
       "          kurt    sp.ent       sfm  ...    centroid   meanfun    minfun  \\\n",
       "0   274.402906  0.893369  0.491918  ...    0.059781  0.084279  0.015702   \n",
       "1   634.613855  0.892193  0.513724  ...    0.066009  0.107937  0.015826   \n",
       "2  1024.927705  0.846389  0.478905  ...    0.077316  0.098706  0.015656   \n",
       "3     4.177296  0.963322  0.727232  ...    0.151228  0.088965  0.017798   \n",
       "4     4.333713  0.971955  0.783568  ...    0.135120  0.106398  0.016931   \n",
       "\n",
       "     maxfun   meandom    mindom    maxdom   dfrange   modindx  label  \n",
       "0  0.275862  0.007812  0.007812  0.007812  0.000000  0.000000   male  \n",
       "1  0.250000  0.009014  0.007812  0.054688  0.046875  0.052632   male  \n",
       "2  0.271186  0.007990  0.007812  0.015625  0.007812  0.046512   male  \n",
       "3  0.250000  0.201497  0.007812  0.562500  0.554688  0.247119   male  \n",
       "4  0.266667  0.712812  0.007812  5.484375  5.476562  0.208274   male  \n",
       "\n",
       "[5 rows x 21 columns]"
      ]
     },
     "execution_count": 3,
     "metadata": {},
     "output_type": "execute_result"
    }
   ],
   "source": [
    "voice=pd.read_csv(\"voice-classification.csv\")\n",
    "voice.head()"
   ]
  },
  {
   "cell_type": "code",
   "execution_count": 4,
   "metadata": {},
   "outputs": [
    {
     "data": {
      "text/html": [
       "<div>\n",
       "<style scoped>\n",
       "    .dataframe tbody tr th:only-of-type {\n",
       "        vertical-align: middle;\n",
       "    }\n",
       "\n",
       "    .dataframe tbody tr th {\n",
       "        vertical-align: top;\n",
       "    }\n",
       "\n",
       "    .dataframe thead th {\n",
       "        text-align: right;\n",
       "    }\n",
       "</style>\n",
       "<table border=\"1\" class=\"dataframe\">\n",
       "  <thead>\n",
       "    <tr style=\"text-align: right;\">\n",
       "      <th></th>\n",
       "      <th>meanfreq</th>\n",
       "      <th>sd</th>\n",
       "      <th>median</th>\n",
       "      <th>Q25</th>\n",
       "      <th>Q75</th>\n",
       "      <th>IQR</th>\n",
       "      <th>skew</th>\n",
       "      <th>kurt</th>\n",
       "      <th>sp.ent</th>\n",
       "      <th>sfm</th>\n",
       "      <th>mode</th>\n",
       "      <th>centroid</th>\n",
       "      <th>meanfun</th>\n",
       "      <th>minfun</th>\n",
       "      <th>maxfun</th>\n",
       "      <th>meandom</th>\n",
       "      <th>mindom</th>\n",
       "      <th>maxdom</th>\n",
       "      <th>dfrange</th>\n",
       "      <th>modindx</th>\n",
       "    </tr>\n",
       "  </thead>\n",
       "  <tbody>\n",
       "    <tr>\n",
       "      <th>count</th>\n",
       "      <td>3168.000000</td>\n",
       "      <td>3168.000000</td>\n",
       "      <td>3168.000000</td>\n",
       "      <td>3168.000000</td>\n",
       "      <td>3168.000000</td>\n",
       "      <td>3168.000000</td>\n",
       "      <td>3168.000000</td>\n",
       "      <td>3168.000000</td>\n",
       "      <td>3168.000000</td>\n",
       "      <td>3168.000000</td>\n",
       "      <td>3168.000000</td>\n",
       "      <td>3168.000000</td>\n",
       "      <td>3168.000000</td>\n",
       "      <td>3168.000000</td>\n",
       "      <td>3168.000000</td>\n",
       "      <td>3168.000000</td>\n",
       "      <td>3168.000000</td>\n",
       "      <td>3168.000000</td>\n",
       "      <td>3168.000000</td>\n",
       "      <td>3168.000000</td>\n",
       "    </tr>\n",
       "    <tr>\n",
       "      <th>mean</th>\n",
       "      <td>0.180907</td>\n",
       "      <td>0.057126</td>\n",
       "      <td>0.185621</td>\n",
       "      <td>0.140456</td>\n",
       "      <td>0.224765</td>\n",
       "      <td>0.084309</td>\n",
       "      <td>3.140168</td>\n",
       "      <td>36.568461</td>\n",
       "      <td>0.895127</td>\n",
       "      <td>0.408216</td>\n",
       "      <td>0.165282</td>\n",
       "      <td>0.180907</td>\n",
       "      <td>0.142807</td>\n",
       "      <td>0.036802</td>\n",
       "      <td>0.258842</td>\n",
       "      <td>0.829211</td>\n",
       "      <td>0.052647</td>\n",
       "      <td>5.047277</td>\n",
       "      <td>4.994630</td>\n",
       "      <td>0.173752</td>\n",
       "    </tr>\n",
       "    <tr>\n",
       "      <th>std</th>\n",
       "      <td>0.029918</td>\n",
       "      <td>0.016652</td>\n",
       "      <td>0.036360</td>\n",
       "      <td>0.048680</td>\n",
       "      <td>0.023639</td>\n",
       "      <td>0.042783</td>\n",
       "      <td>4.240529</td>\n",
       "      <td>134.928661</td>\n",
       "      <td>0.044980</td>\n",
       "      <td>0.177521</td>\n",
       "      <td>0.077203</td>\n",
       "      <td>0.029918</td>\n",
       "      <td>0.032304</td>\n",
       "      <td>0.019220</td>\n",
       "      <td>0.030077</td>\n",
       "      <td>0.525205</td>\n",
       "      <td>0.063299</td>\n",
       "      <td>3.521157</td>\n",
       "      <td>3.520039</td>\n",
       "      <td>0.119454</td>\n",
       "    </tr>\n",
       "    <tr>\n",
       "      <th>min</th>\n",
       "      <td>0.039363</td>\n",
       "      <td>0.018363</td>\n",
       "      <td>0.010975</td>\n",
       "      <td>0.000229</td>\n",
       "      <td>0.042946</td>\n",
       "      <td>0.014558</td>\n",
       "      <td>0.141735</td>\n",
       "      <td>2.068455</td>\n",
       "      <td>0.738651</td>\n",
       "      <td>0.036876</td>\n",
       "      <td>0.000000</td>\n",
       "      <td>0.039363</td>\n",
       "      <td>0.055565</td>\n",
       "      <td>0.009775</td>\n",
       "      <td>0.103093</td>\n",
       "      <td>0.007812</td>\n",
       "      <td>0.004883</td>\n",
       "      <td>0.007812</td>\n",
       "      <td>0.000000</td>\n",
       "      <td>0.000000</td>\n",
       "    </tr>\n",
       "    <tr>\n",
       "      <th>25%</th>\n",
       "      <td>0.163662</td>\n",
       "      <td>0.041954</td>\n",
       "      <td>0.169593</td>\n",
       "      <td>0.111087</td>\n",
       "      <td>0.208747</td>\n",
       "      <td>0.042560</td>\n",
       "      <td>1.649569</td>\n",
       "      <td>5.669547</td>\n",
       "      <td>0.861811</td>\n",
       "      <td>0.258041</td>\n",
       "      <td>0.118016</td>\n",
       "      <td>0.163662</td>\n",
       "      <td>0.116998</td>\n",
       "      <td>0.018223</td>\n",
       "      <td>0.253968</td>\n",
       "      <td>0.419828</td>\n",
       "      <td>0.007812</td>\n",
       "      <td>2.070312</td>\n",
       "      <td>2.044922</td>\n",
       "      <td>0.099766</td>\n",
       "    </tr>\n",
       "    <tr>\n",
       "      <th>50%</th>\n",
       "      <td>0.184838</td>\n",
       "      <td>0.059155</td>\n",
       "      <td>0.190032</td>\n",
       "      <td>0.140286</td>\n",
       "      <td>0.225684</td>\n",
       "      <td>0.094280</td>\n",
       "      <td>2.197101</td>\n",
       "      <td>8.318463</td>\n",
       "      <td>0.901767</td>\n",
       "      <td>0.396335</td>\n",
       "      <td>0.186599</td>\n",
       "      <td>0.184838</td>\n",
       "      <td>0.140519</td>\n",
       "      <td>0.046110</td>\n",
       "      <td>0.271186</td>\n",
       "      <td>0.765795</td>\n",
       "      <td>0.023438</td>\n",
       "      <td>4.992188</td>\n",
       "      <td>4.945312</td>\n",
       "      <td>0.139357</td>\n",
       "    </tr>\n",
       "    <tr>\n",
       "      <th>75%</th>\n",
       "      <td>0.199146</td>\n",
       "      <td>0.067020</td>\n",
       "      <td>0.210618</td>\n",
       "      <td>0.175939</td>\n",
       "      <td>0.243660</td>\n",
       "      <td>0.114175</td>\n",
       "      <td>2.931694</td>\n",
       "      <td>13.648905</td>\n",
       "      <td>0.928713</td>\n",
       "      <td>0.533676</td>\n",
       "      <td>0.221104</td>\n",
       "      <td>0.199146</td>\n",
       "      <td>0.169581</td>\n",
       "      <td>0.047904</td>\n",
       "      <td>0.277457</td>\n",
       "      <td>1.177166</td>\n",
       "      <td>0.070312</td>\n",
       "      <td>7.007812</td>\n",
       "      <td>6.992188</td>\n",
       "      <td>0.209183</td>\n",
       "    </tr>\n",
       "    <tr>\n",
       "      <th>max</th>\n",
       "      <td>0.251124</td>\n",
       "      <td>0.115273</td>\n",
       "      <td>0.261224</td>\n",
       "      <td>0.247347</td>\n",
       "      <td>0.273469</td>\n",
       "      <td>0.252225</td>\n",
       "      <td>34.725453</td>\n",
       "      <td>1309.612887</td>\n",
       "      <td>0.981997</td>\n",
       "      <td>0.842936</td>\n",
       "      <td>0.280000</td>\n",
       "      <td>0.251124</td>\n",
       "      <td>0.237636</td>\n",
       "      <td>0.204082</td>\n",
       "      <td>0.279114</td>\n",
       "      <td>2.957682</td>\n",
       "      <td>0.458984</td>\n",
       "      <td>21.867188</td>\n",
       "      <td>21.843750</td>\n",
       "      <td>0.932374</td>\n",
       "    </tr>\n",
       "  </tbody>\n",
       "</table>\n",
       "</div>"
      ],
      "text/plain": [
       "          meanfreq           sd       median          Q25          Q75  \\\n",
       "count  3168.000000  3168.000000  3168.000000  3168.000000  3168.000000   \n",
       "mean      0.180907     0.057126     0.185621     0.140456     0.224765   \n",
       "std       0.029918     0.016652     0.036360     0.048680     0.023639   \n",
       "min       0.039363     0.018363     0.010975     0.000229     0.042946   \n",
       "25%       0.163662     0.041954     0.169593     0.111087     0.208747   \n",
       "50%       0.184838     0.059155     0.190032     0.140286     0.225684   \n",
       "75%       0.199146     0.067020     0.210618     0.175939     0.243660   \n",
       "max       0.251124     0.115273     0.261224     0.247347     0.273469   \n",
       "\n",
       "               IQR         skew         kurt       sp.ent          sfm  \\\n",
       "count  3168.000000  3168.000000  3168.000000  3168.000000  3168.000000   \n",
       "mean      0.084309     3.140168    36.568461     0.895127     0.408216   \n",
       "std       0.042783     4.240529   134.928661     0.044980     0.177521   \n",
       "min       0.014558     0.141735     2.068455     0.738651     0.036876   \n",
       "25%       0.042560     1.649569     5.669547     0.861811     0.258041   \n",
       "50%       0.094280     2.197101     8.318463     0.901767     0.396335   \n",
       "75%       0.114175     2.931694    13.648905     0.928713     0.533676   \n",
       "max       0.252225    34.725453  1309.612887     0.981997     0.842936   \n",
       "\n",
       "              mode     centroid      meanfun       minfun       maxfun  \\\n",
       "count  3168.000000  3168.000000  3168.000000  3168.000000  3168.000000   \n",
       "mean      0.165282     0.180907     0.142807     0.036802     0.258842   \n",
       "std       0.077203     0.029918     0.032304     0.019220     0.030077   \n",
       "min       0.000000     0.039363     0.055565     0.009775     0.103093   \n",
       "25%       0.118016     0.163662     0.116998     0.018223     0.253968   \n",
       "50%       0.186599     0.184838     0.140519     0.046110     0.271186   \n",
       "75%       0.221104     0.199146     0.169581     0.047904     0.277457   \n",
       "max       0.280000     0.251124     0.237636     0.204082     0.279114   \n",
       "\n",
       "           meandom       mindom       maxdom      dfrange      modindx  \n",
       "count  3168.000000  3168.000000  3168.000000  3168.000000  3168.000000  \n",
       "mean      0.829211     0.052647     5.047277     4.994630     0.173752  \n",
       "std       0.525205     0.063299     3.521157     3.520039     0.119454  \n",
       "min       0.007812     0.004883     0.007812     0.000000     0.000000  \n",
       "25%       0.419828     0.007812     2.070312     2.044922     0.099766  \n",
       "50%       0.765795     0.023438     4.992188     4.945312     0.139357  \n",
       "75%       1.177166     0.070312     7.007812     6.992188     0.209183  \n",
       "max       2.957682     0.458984    21.867188    21.843750     0.932374  "
      ]
     },
     "execution_count": 4,
     "metadata": {},
     "output_type": "execute_result"
    }
   ],
   "source": [
    "voice.describe()"
   ]
  },
  {
   "cell_type": "code",
   "execution_count": 5,
   "metadata": {},
   "outputs": [
    {
     "name": "stdout",
     "output_type": "stream",
     "text": [
      "<class 'pandas.core.frame.DataFrame'>\n",
      "RangeIndex: 3168 entries, 0 to 3167\n",
      "Data columns (total 21 columns):\n",
      "meanfreq    3168 non-null float64\n",
      "sd          3168 non-null float64\n",
      "median      3168 non-null float64\n",
      "Q25         3168 non-null float64\n",
      "Q75         3168 non-null float64\n",
      "IQR         3168 non-null float64\n",
      "skew        3168 non-null float64\n",
      "kurt        3168 non-null float64\n",
      "sp.ent      3168 non-null float64\n",
      "sfm         3168 non-null float64\n",
      "mode        3168 non-null float64\n",
      "centroid    3168 non-null float64\n",
      "meanfun     3168 non-null float64\n",
      "minfun      3168 non-null float64\n",
      "maxfun      3168 non-null float64\n",
      "meandom     3168 non-null float64\n",
      "mindom      3168 non-null float64\n",
      "maxdom      3168 non-null float64\n",
      "dfrange     3168 non-null float64\n",
      "modindx     3168 non-null float64\n",
      "label       3168 non-null object\n",
      "dtypes: float64(20), object(1)\n",
      "memory usage: 519.8+ KB\n"
     ]
    }
   ],
   "source": [
    "voice.info()"
   ]
  },
  {
   "cell_type": "code",
   "execution_count": 6,
   "metadata": {},
   "outputs": [
    {
     "data": {
      "text/plain": [
       "meanfreq    0\n",
       "sd          0\n",
       "median      0\n",
       "Q25         0\n",
       "Q75         0\n",
       "IQR         0\n",
       "skew        0\n",
       "kurt        0\n",
       "sp.ent      0\n",
       "sfm         0\n",
       "mode        0\n",
       "centroid    0\n",
       "meanfun     0\n",
       "minfun      0\n",
       "maxfun      0\n",
       "meandom     0\n",
       "mindom      0\n",
       "maxdom      0\n",
       "dfrange     0\n",
       "modindx     0\n",
       "label       0\n",
       "dtype: int64"
      ]
     },
     "execution_count": 6,
     "metadata": {},
     "output_type": "execute_result"
    }
   ],
   "source": [
    "voice.isna().sum()"
   ]
  },
  {
   "cell_type": "markdown",
   "metadata": {},
   "source": [
    "## checking for outliers"
   ]
  },
  {
   "cell_type": "code",
   "execution_count": 7,
   "metadata": {},
   "outputs": [
    {
     "name": "stdout",
     "output_type": "stream",
     "text": [
      "meanfreq\n"
     ]
    },
    {
     "data": {
      "image/png": "[encoded data removed]",
      "text/plain": [
       "<Figure size 432x288 with 1 Axes>"
      ]
     },
     "metadata": {
      "needs_background": "light"
     },
     "output_type": "display_data"
    },
    {
     "name": "stdout",
     "output_type": "stream",
     "text": [
      "sd\n"
     ]
    },
    {
     "data": {
      "image/png": "[encoded data removed]",
      "text/plain": [
       "<Figure size 432x288 with 1 Axes>"
      ]
     },
     "metadata": {
      "needs_background": "light"
     },
     "output_type": "display_data"
    },
    {
     "name": "stdout",
     "output_type": "stream",
     "text": [
      "median\n"
     ]
    },
    {
     "data": {
      "image/png": "[encoded data removed]",
      "text/plain": [
       "<Figure size 432x288 with 1 Axes>"
      ]
     },
     "metadata": {
      "needs_background": "light"
     },
     "output_type": "display_data"
    },
    {
     "name": "stdout",
     "output_type": "stream",
     "text": [
      "Q25\n"
     ]
    },
    {
     "data": {
      "image/png": "[encoded data removed]",
      "text/plain": [
       "<Figure size 432x288 with 1 Axes>"
      ]
     },
     "metadata": {
      "needs_background": "light"
     },
     "output_type": "display_data"
    },
    {
     "name": "stdout",
     "output_type": "stream",
     "text": [
      "Q75\n"
     ]
    },
    {
     "data": {
      "image/png": "[encoded data removed]",
      "text/plain": [
       "<Figure size 432x288 with 1 Axes>"
      ]
     },
     "metadata": {
      "needs_background": "light"
     },
     "output_type": "display_data"
    },
    {
     "name": "stdout",
     "output_type": "stream",
     "text": [
      "IQR\n"
     ]
    },
    {
     "data": {
      "image/png": "[encoded data removed]",
      "text/plain": [
       "<Figure size 432x288 with 1 Axes>"
      ]
     },
     "metadata": {
      "needs_background": "light"
     },
     "output_type": "display_data"
    },
    {
     "name": "stdout",
     "output_type": "stream",
     "text": [
      "skew\n"
     ]
    },
    {
     "data": {
      "image/png": "[encoded data removed]",
      "text/plain": [
       "<Figure size 432x288 with 1 Axes>"
      ]
     },
     "metadata": {
      "needs_background": "light"
     },
     "output_type": "display_data"
    },
    {
     "name": "stdout",
     "output_type": "stream",
     "text": [
      "kurt\n"
     ]
    },
    {
     "data": {
      "image/png": "[encoded data removed]",
      "text/plain": [
       "<Figure size 432x288 with 1 Axes>"
      ]
     },
     "metadata": {
      "needs_background": "light"
     },
     "output_type": "display_data"
    },
    {
     "name": "stdout",
     "output_type": "stream",
     "text": [
      "sp.ent\n"
     ]
    },
    {
     "data": {
      "image/png": "[encoded data removed]",
      "text/plain": [
       "<Figure size 432x288 with 1 Axes>"
      ]
     },
     "metadata": {
      "needs_background": "light"
     },
     "output_type": "display_data"
    },
    {
     "name": "stdout",
     "output_type": "stream",
     "text": [
      "sfm\n"
     ]
    },
    {
     "data": {
      "image/png": "[encoded data removed]",
      "text/plain": [
       "<Figure size 432x288 with 1 Axes>"
      ]
     },
     "metadata": {
      "needs_background": "light"
     },
     "output_type": "display_data"
    },
    {
     "name": "stdout",
     "output_type": "stream",
     "text": [
      "mode\n"
     ]
    },
    {
     "data": {
      "image/png": "[encoded data removed]",
      "text/plain": [
       "<Figure size 432x288 with 1 Axes>"
      ]
     },
     "metadata": {
      "needs_background": "light"
     },
     "output_type": "display_data"
    },
    {
     "name": "stdout",
     "output_type": "stream",
     "text": [
      "centroid\n"
     ]
    },
    {
     "data": {
      "image/png": "[encoded data removed]",
      "text/plain": [
       "<Figure size 432x288 with 1 Axes>"
      ]
     },
     "metadata": {
      "needs_background": "light"
     },
     "output_type": "display_data"
    },
    {
     "name": "stdout",
     "output_type": "stream",
     "text": [
      "meanfun\n"
     ]
    },
    {
     "data": {
      "image/png": "[encoded data removed]",
      "text/plain": [
       "<Figure size 432x288 with 1 Axes>"
      ]
     },
     "metadata": {
      "needs_background": "light"
     },
     "output_type": "display_data"
    },
    {
     "name": "stdout",
     "output_type": "stream",
     "text": [
      "minfun\n"
     ]
    },
    {
     "data": {
      "image/png": "[encoded data removed]",
      "text/plain": [
       "<Figure size 432x288 with 1 Axes>"
      ]
     },
     "metadata": {
      "needs_background": "light"
     },
     "output_type": "display_data"
    },
    {
     "name": "stdout",
     "output_type": "stream",
     "text": [
      "maxfun\n"
     ]
    },
    {
     "data": {
      "image/png": "[encoded data removed]",
      "text/plain": [
       "<Figure size 432x288 with 1 Axes>"
      ]
     },
     "metadata": {
      "needs_background": "light"
     },
     "output_type": "display_data"
    },
    {
     "name": "stdout",
     "output_type": "stream",
     "text": [
      "meandom\n"
     ]
    },
    {
     "data": {
      "image/png": "[encoded data removed]",
      "text/plain": [
       "<Figure size 432x288 with 1 Axes>"
      ]
     },
     "metadata": {
      "needs_background": "light"
     },
     "output_type": "display_data"
    },
    {
     "name": "stdout",
     "output_type": "stream",
     "text": [
      "mindom\n"
     ]
    },
    {
     "data": {
      "image/png": "[encoded data removed]",
      "text/plain": [
       "<Figure size 432x288 with 1 Axes>"
      ]
     },
     "metadata": {
      "needs_background": "light"
     },
     "output_type": "display_data"
    },
    {
     "name": "stdout",
     "output_type": "stream",
     "text": [
      "maxdom\n"
     ]
    },
    {
     "data": {
      "image/png": "[encoded data removed]",
      "text/plain": [
       "<Figure size 432x288 with 1 Axes>"
      ]
     },
     "metadata": {
      "needs_background": "light"
     },
     "output_type": "display_data"
    },
    {
     "name": "stdout",
     "output_type": "stream",
     "text": [
      "dfrange\n"
     ]
    },
    {
     "data": {
      "image/png": "[encoded data removed]",
      "text/plain": [
       "<Figure size 432x288 with 1 Axes>"
      ]
     },
     "metadata": {
      "needs_background": "light"
     },
     "output_type": "display_data"
    },
    {
     "name": "stdout",
     "output_type": "stream",
     "text": [
      "modindx\n"
     ]
    },
    {
     "data": {
      "image/png": "[encoded data removed]",
      "text/plain": [
       "<Figure size 432x288 with 1 Axes>"
      ]
     },
     "metadata": {
      "needs_background": "light"
     },
     "output_type": "display_data"
    }
   ],
   "source": [
    "for i in voice.columns:\n",
    "    if (i != \"label\"):\n",
    "        print(i)\n",
    "        voice[i].plot(kind=\"box\")\n",
    "        plt.show()"
   ]
  },
  {
   "cell_type": "code",
   "execution_count": 8,
   "metadata": {},
   "outputs": [
    {
     "data": {
      "text/plain": [
       "(3168, 21)"
      ]
     },
     "execution_count": 8,
     "metadata": {},
     "output_type": "execute_result"
    }
   ],
   "source": [
    "voice.shape"
   ]
  },
  {
   "cell_type": "markdown",
   "metadata": {},
   "source": [
    "## removing the outliers  and checking the shape  "
   ]
  },
  {
   "cell_type": "code",
   "execution_count": 9,
   "metadata": {},
   "outputs": [],
   "source": [
    "for i in voice.columns:\n",
    "    if (i != \"label\"):\n",
    "\n",
    "        q1=voice[i].quantile(0.25)\n",
    "        q3=voice[i].quantile(0.75)\n",
    "        iqr=(q3-q1)\n",
    "\n",
    "        voice=voice[((voice[i]>=(q1 - 1.5 * iqr)) & (voice[i]<= (q3 + 1.5 * iqr)))]"
   ]
  },
  {
   "cell_type": "code",
   "execution_count": 10,
   "metadata": {},
   "outputs": [
    {
     "data": {
      "text/plain": [
       "(1607, 21)"
      ]
     },
     "execution_count": 10,
     "metadata": {},
     "output_type": "execute_result"
    }
   ],
   "source": [
    "voice.shape"
   ]
  },
  {
   "cell_type": "code",
   "execution_count": 11,
   "metadata": {},
   "outputs": [
    {
     "data": {
      "text/plain": [
       "male      822\n",
       "female    785\n",
       "Name: label, dtype: int64"
      ]
     },
     "execution_count": 11,
     "metadata": {},
     "output_type": "execute_result"
    }
   ],
   "source": [
    "voice[\"label\"].value_counts()"
   ]
  },
  {
   "cell_type": "code",
   "execution_count": 12,
   "metadata": {},
   "outputs": [
    {
     "data": {
      "text/plain": [
       "3    1\n",
       "4    1\n",
       "5    1\n",
       "Name: label, dtype: int32"
      ]
     },
     "execution_count": 12,
     "metadata": {},
     "output_type": "execute_result"
    }
   ],
   "source": [
    "le=preprocessing.LabelEncoder()\n",
    "voice[\"label\"]=le.fit_transform(voice[\"label\"])\n",
    "voice[\"label\"].head(3)"
   ]
  },
  {
   "cell_type": "code",
   "execution_count": 13,
   "metadata": {},
   "outputs": [
    {
     "data": {
      "text/plain": [
       "1    822\n",
       "0    785\n",
       "Name: label, dtype: int64"
      ]
     },
     "execution_count": 13,
     "metadata": {},
     "output_type": "execute_result"
    }
   ],
   "source": [
    "voice[\"label\"].value_counts()"
   ]
  },
  {
   "cell_type": "code",
   "execution_count": 14,
   "metadata": {},
   "outputs": [],
   "source": [
    "#  1-> male,0-> female"
   ]
  },
  {
   "cell_type": "code",
   "execution_count": 15,
   "metadata": {},
   "outputs": [],
   "source": [
    "scaler = MinMaxScaler()\n",
    "\n",
    "norm_voice= pd.DataFrame(scaler.fit_transform(voice))"
   ]
  },
  {
   "cell_type": "code",
   "execution_count": 16,
   "metadata": {},
   "outputs": [
    {
     "data": {
      "text/html": [
       "<div>\n",
       "<style scoped>\n",
       "    .dataframe tbody tr th:only-of-type {\n",
       "        vertical-align: middle;\n",
       "    }\n",
       "\n",
       "    .dataframe tbody tr th {\n",
       "        vertical-align: top;\n",
       "    }\n",
       "\n",
       "    .dataframe thead th {\n",
       "        text-align: right;\n",
       "    }\n",
       "</style>\n",
       "<table border=\"1\" class=\"dataframe\">\n",
       "  <thead>\n",
       "    <tr style=\"text-align: right;\">\n",
       "      <th></th>\n",
       "      <th>0</th>\n",
       "      <th>1</th>\n",
       "      <th>2</th>\n",
       "      <th>3</th>\n",
       "      <th>4</th>\n",
       "      <th>5</th>\n",
       "      <th>6</th>\n",
       "      <th>7</th>\n",
       "      <th>8</th>\n",
       "      <th>9</th>\n",
       "      <th>...</th>\n",
       "      <th>11</th>\n",
       "      <th>12</th>\n",
       "      <th>13</th>\n",
       "      <th>14</th>\n",
       "      <th>15</th>\n",
       "      <th>16</th>\n",
       "      <th>17</th>\n",
       "      <th>18</th>\n",
       "      <th>19</th>\n",
       "      <th>20</th>\n",
       "    </tr>\n",
       "  </thead>\n",
       "  <tbody>\n",
       "    <tr>\n",
       "      <th>0</th>\n",
       "      <td>0.172991</td>\n",
       "      <td>0.666634</td>\n",
       "      <td>0.319275</td>\n",
       "      <td>0.286619</td>\n",
       "      <td>0.405457</td>\n",
       "      <td>0.529713</td>\n",
       "      <td>0.257457</td>\n",
       "      <td>0.097244</td>\n",
       "      <td>0.936483</td>\n",
       "      <td>0.871110</td>\n",
       "      <td>...</td>\n",
       "      <td>0.172991</td>\n",
       "      <td>0.115124</td>\n",
       "      <td>0.042653</td>\n",
       "      <td>0.458465</td>\n",
       "      <td>0.059863</td>\n",
       "      <td>0.04</td>\n",
       "      <td>0.026203</td>\n",
       "      <td>0.026231</td>\n",
       "      <td>0.918202</td>\n",
       "      <td>1.0</td>\n",
       "    </tr>\n",
       "    <tr>\n",
       "      <th>1</th>\n",
       "      <td>0.029950</td>\n",
       "      <td>0.766334</td>\n",
       "      <td>0.090862</td>\n",
       "      <td>0.199070</td>\n",
       "      <td>0.387108</td>\n",
       "      <td>0.618856</td>\n",
       "      <td>0.221694</td>\n",
       "      <td>0.105317</td>\n",
       "      <td>0.978554</td>\n",
       "      <td>0.947192</td>\n",
       "      <td>...</td>\n",
       "      <td>0.029950</td>\n",
       "      <td>0.227895</td>\n",
       "      <td>0.030264</td>\n",
       "      <td>0.768474</td>\n",
       "      <td>0.290590</td>\n",
       "      <td>0.04</td>\n",
       "      <td>0.363102</td>\n",
       "      <td>0.363490</td>\n",
       "      <td>0.761240</td>\n",
       "      <td>1.0</td>\n",
       "    </tr>\n",
       "    <tr>\n",
       "      <th>2</th>\n",
       "      <td>0.009223</td>\n",
       "      <td>0.772155</td>\n",
       "      <td>0.052744</td>\n",
       "      <td>0.146319</td>\n",
       "      <td>0.421175</td>\n",
       "      <td>0.698820</td>\n",
       "      <td>0.447527</td>\n",
       "      <td>0.310506</td>\n",
       "      <td>0.935795</td>\n",
       "      <td>0.886067</td>\n",
       "      <td>...</td>\n",
       "      <td>0.009223</td>\n",
       "      <td>0.252050</td>\n",
       "      <td>0.032854</td>\n",
       "      <td>0.532276</td>\n",
       "      <td>0.103509</td>\n",
       "      <td>0.04</td>\n",
       "      <td>0.174332</td>\n",
       "      <td>0.174518</td>\n",
       "      <td>0.425399</td>\n",
       "      <td>1.0</td>\n",
       "    </tr>\n",
       "  </tbody>\n",
       "</table>\n",
       "<p>3 rows × 21 columns</p>\n",
       "</div>"
      ],
      "text/plain": [
       "         0         1         2         3         4         5         6   \\\n",
       "0  0.172991  0.666634  0.319275  0.286619  0.405457  0.529713  0.257457   \n",
       "1  0.029950  0.766334  0.090862  0.199070  0.387108  0.618856  0.221694   \n",
       "2  0.009223  0.772155  0.052744  0.146319  0.421175  0.698820  0.447527   \n",
       "\n",
       "         7         8         9  ...         11        12        13        14  \\\n",
       "0  0.097244  0.936483  0.871110 ...   0.172991  0.115124  0.042653  0.458465   \n",
       "1  0.105317  0.978554  0.947192 ...   0.029950  0.227895  0.030264  0.768474   \n",
       "2  0.310506  0.935795  0.886067 ...   0.009223  0.252050  0.032854  0.532276   \n",
       "\n",
       "         15    16        17        18        19   20  \n",
       "0  0.059863  0.04  0.026203  0.026231  0.918202  1.0  \n",
       "1  0.290590  0.04  0.363102  0.363490  0.761240  1.0  \n",
       "2  0.103509  0.04  0.174332  0.174518  0.425399  1.0  \n",
       "\n",
       "[3 rows x 21 columns]"
      ]
     },
     "execution_count": 16,
     "metadata": {},
     "output_type": "execute_result"
    }
   ],
   "source": [
    "norm_voice.head(3)"
   ]
  },
  {
   "cell_type": "code",
   "execution_count": 17,
   "metadata": {
    "scrolled": true
   },
   "outputs": [
    {
     "data": {
      "text/html": [
       "<div>\n",
       "<style scoped>\n",
       "    .dataframe tbody tr th:only-of-type {\n",
       "        vertical-align: middle;\n",
       "    }\n",
       "\n",
       "    .dataframe tbody tr th {\n",
       "        vertical-align: top;\n",
       "    }\n",
       "\n",
       "    .dataframe thead th {\n",
       "        text-align: right;\n",
       "    }\n",
       "</style>\n",
       "<table border=\"1\" class=\"dataframe\">\n",
       "  <thead>\n",
       "    <tr style=\"text-align: right;\">\n",
       "      <th></th>\n",
       "      <th>meanfreq</th>\n",
       "      <th>sd</th>\n",
       "      <th>median</th>\n",
       "      <th>Q25</th>\n",
       "      <th>Q75</th>\n",
       "      <th>IQR</th>\n",
       "      <th>skew</th>\n",
       "      <th>kurt</th>\n",
       "      <th>spent</th>\n",
       "      <th>sfm</th>\n",
       "      <th>...</th>\n",
       "      <th>centroid</th>\n",
       "      <th>meanfun</th>\n",
       "      <th>minfun</th>\n",
       "      <th>maxfun</th>\n",
       "      <th>meandom</th>\n",
       "      <th>mindom</th>\n",
       "      <th>maxdom</th>\n",
       "      <th>dfrange</th>\n",
       "      <th>modindx</th>\n",
       "      <th>label</th>\n",
       "    </tr>\n",
       "  </thead>\n",
       "  <tbody>\n",
       "    <tr>\n",
       "      <th>0</th>\n",
       "      <td>0.172991</td>\n",
       "      <td>0.666634</td>\n",
       "      <td>0.319275</td>\n",
       "      <td>0.286619</td>\n",
       "      <td>0.405457</td>\n",
       "      <td>0.529713</td>\n",
       "      <td>0.257457</td>\n",
       "      <td>0.097244</td>\n",
       "      <td>0.936483</td>\n",
       "      <td>0.871110</td>\n",
       "      <td>...</td>\n",
       "      <td>0.172991</td>\n",
       "      <td>0.115124</td>\n",
       "      <td>0.042653</td>\n",
       "      <td>0.458465</td>\n",
       "      <td>0.059863</td>\n",
       "      <td>0.04</td>\n",
       "      <td>0.026203</td>\n",
       "      <td>0.026231</td>\n",
       "      <td>0.918202</td>\n",
       "      <td>1.0</td>\n",
       "    </tr>\n",
       "    <tr>\n",
       "      <th>1</th>\n",
       "      <td>0.029950</td>\n",
       "      <td>0.766334</td>\n",
       "      <td>0.090862</td>\n",
       "      <td>0.199070</td>\n",
       "      <td>0.387108</td>\n",
       "      <td>0.618856</td>\n",
       "      <td>0.221694</td>\n",
       "      <td>0.105317</td>\n",
       "      <td>0.978554</td>\n",
       "      <td>0.947192</td>\n",
       "      <td>...</td>\n",
       "      <td>0.029950</td>\n",
       "      <td>0.227895</td>\n",
       "      <td>0.030264</td>\n",
       "      <td>0.768474</td>\n",
       "      <td>0.290590</td>\n",
       "      <td>0.04</td>\n",
       "      <td>0.363102</td>\n",
       "      <td>0.363490</td>\n",
       "      <td>0.761240</td>\n",
       "      <td>1.0</td>\n",
       "    </tr>\n",
       "    <tr>\n",
       "      <th>2</th>\n",
       "      <td>0.009223</td>\n",
       "      <td>0.772155</td>\n",
       "      <td>0.052744</td>\n",
       "      <td>0.146319</td>\n",
       "      <td>0.421175</td>\n",
       "      <td>0.698820</td>\n",
       "      <td>0.447527</td>\n",
       "      <td>0.310506</td>\n",
       "      <td>0.935795</td>\n",
       "      <td>0.886067</td>\n",
       "      <td>...</td>\n",
       "      <td>0.009223</td>\n",
       "      <td>0.252050</td>\n",
       "      <td>0.032854</td>\n",
       "      <td>0.532276</td>\n",
       "      <td>0.103509</td>\n",
       "      <td>0.04</td>\n",
       "      <td>0.174332</td>\n",
       "      <td>0.174518</td>\n",
       "      <td>0.425399</td>\n",
       "      <td>1.0</td>\n",
       "    </tr>\n",
       "  </tbody>\n",
       "</table>\n",
       "<p>3 rows × 21 columns</p>\n",
       "</div>"
      ],
      "text/plain": [
       "   meanfreq        sd    median       Q25       Q75       IQR      skew  \\\n",
       "0  0.172991  0.666634  0.319275  0.286619  0.405457  0.529713  0.257457   \n",
       "1  0.029950  0.766334  0.090862  0.199070  0.387108  0.618856  0.221694   \n",
       "2  0.009223  0.772155  0.052744  0.146319  0.421175  0.698820  0.447527   \n",
       "\n",
       "       kurt     spent       sfm  ...    centroid   meanfun    minfun  \\\n",
       "0  0.097244  0.936483  0.871110  ...    0.172991  0.115124  0.042653   \n",
       "1  0.105317  0.978554  0.947192  ...    0.029950  0.227895  0.030264   \n",
       "2  0.310506  0.935795  0.886067  ...    0.009223  0.252050  0.032854   \n",
       "\n",
       "     maxfun   meandom  mindom    maxdom   dfrange   modindx  label  \n",
       "0  0.458465  0.059863    0.04  0.026203  0.026231  0.918202    1.0  \n",
       "1  0.768474  0.290590    0.04  0.363102  0.363490  0.761240    1.0  \n",
       "2  0.532276  0.103509    0.04  0.174332  0.174518  0.425399    1.0  \n",
       "\n",
       "[3 rows x 21 columns]"
      ]
     },
     "execution_count": 17,
     "metadata": {},
     "output_type": "execute_result"
    }
   ],
   "source": [
    "norm_voice.columns=[\"meanfreq\",\"sd\",\"median\",\"Q25\",\"Q75\",\"IQR\",\"skew\",\"kurt\",\"spent\",\"sfm\",\"mode\",\"centroid\",\"meanfun\",\"minfun\",\"maxfun\",\"meandom\",\"mindom\",\"maxdom\",\"dfrange\",\"modindx\",\"label\"]\n",
    "norm_voice.head(3)"
   ]
  },
  {
   "cell_type": "code",
   "execution_count": 18,
   "metadata": {},
   "outputs": [
    {
     "data": {
      "text/plain": [
       "meanfreq    0.042272\n",
       "sd          0.042233\n",
       "median      0.034282\n",
       "Q25         0.037447\n",
       "Q75         0.032922\n",
       "IQR         0.042737\n",
       "skew        0.030305\n",
       "kurt        0.036604\n",
       "spent       0.041271\n",
       "sfm         0.048906\n",
       "mode        0.046348\n",
       "centroid    0.042272\n",
       "meanfun     0.033010\n",
       "minfun      0.033927\n",
       "maxfun      0.038269\n",
       "meandom     0.042597\n",
       "mindom      0.019938\n",
       "maxdom      0.037076\n",
       "dfrange     0.037120\n",
       "modindx     0.034805\n",
       "label       0.250023\n",
       "dtype: float64"
      ]
     },
     "execution_count": 18,
     "metadata": {},
     "output_type": "execute_result"
    }
   ],
   "source": [
    "norm_voice.var()"
   ]
  },
  {
   "cell_type": "code",
   "execution_count": 19,
   "metadata": {},
   "outputs": [
    {
     "data": {
      "text/html": [
       "<div>\n",
       "<style scoped>\n",
       "    .dataframe tbody tr th:only-of-type {\n",
       "        vertical-align: middle;\n",
       "    }\n",
       "\n",
       "    .dataframe tbody tr th {\n",
       "        vertical-align: top;\n",
       "    }\n",
       "\n",
       "    .dataframe thead th {\n",
       "        text-align: right;\n",
       "    }\n",
       "</style>\n",
       "<table border=\"1\" class=\"dataframe\">\n",
       "  <thead>\n",
       "    <tr style=\"text-align: right;\">\n",
       "      <th></th>\n",
       "      <th>meanfreq</th>\n",
       "      <th>sd</th>\n",
       "      <th>median</th>\n",
       "      <th>Q25</th>\n",
       "      <th>Q75</th>\n",
       "      <th>IQR</th>\n",
       "      <th>skew</th>\n",
       "      <th>kurt</th>\n",
       "      <th>spent</th>\n",
       "      <th>sfm</th>\n",
       "      <th>...</th>\n",
       "      <th>centroid</th>\n",
       "      <th>meanfun</th>\n",
       "      <th>minfun</th>\n",
       "      <th>maxfun</th>\n",
       "      <th>meandom</th>\n",
       "      <th>mindom</th>\n",
       "      <th>maxdom</th>\n",
       "      <th>dfrange</th>\n",
       "      <th>modindx</th>\n",
       "      <th>label</th>\n",
       "    </tr>\n",
       "  </thead>\n",
       "  <tbody>\n",
       "    <tr>\n",
       "      <th>meanfreq</th>\n",
       "      <td>1.000000</td>\n",
       "      <td>-0.729498</td>\n",
       "      <td>0.882289</td>\n",
       "      <td>0.892568</td>\n",
       "      <td>0.669406</td>\n",
       "      <td>-0.610766</td>\n",
       "      <td>0.163673</td>\n",
       "      <td>0.031504</td>\n",
       "      <td>-0.803732</td>\n",
       "      <td>-0.847638</td>\n",
       "      <td>...</td>\n",
       "      <td>1.000000</td>\n",
       "      <td>0.564104</td>\n",
       "      <td>0.407564</td>\n",
       "      <td>0.382351</td>\n",
       "      <td>0.418939</td>\n",
       "      <td>0.210347</td>\n",
       "      <td>0.426194</td>\n",
       "      <td>0.425619</td>\n",
       "      <td>-0.269981</td>\n",
       "      <td>-0.428777</td>\n",
       "    </tr>\n",
       "    <tr>\n",
       "      <th>sd</th>\n",
       "      <td>-0.729498</td>\n",
       "      <td>1.000000</td>\n",
       "      <td>-0.493688</td>\n",
       "      <td>-0.826082</td>\n",
       "      <td>-0.055964</td>\n",
       "      <td>0.853061</td>\n",
       "      <td>-0.328060</td>\n",
       "      <td>-0.204729</td>\n",
       "      <td>0.858863</td>\n",
       "      <td>0.861697</td>\n",
       "      <td>...</td>\n",
       "      <td>-0.729498</td>\n",
       "      <td>-0.543437</td>\n",
       "      <td>-0.320655</td>\n",
       "      <td>-0.232685</td>\n",
       "      <td>-0.408478</td>\n",
       "      <td>-0.183609</td>\n",
       "      <td>-0.436010</td>\n",
       "      <td>-0.435538</td>\n",
       "      <td>0.258229</td>\n",
       "      <td>0.574627</td>\n",
       "    </tr>\n",
       "    <tr>\n",
       "      <th>median</th>\n",
       "      <td>0.882289</td>\n",
       "      <td>-0.493688</td>\n",
       "      <td>1.000000</td>\n",
       "      <td>0.693264</td>\n",
       "      <td>0.652249</td>\n",
       "      <td>-0.406819</td>\n",
       "      <td>0.093950</td>\n",
       "      <td>-0.032142</td>\n",
       "      <td>-0.634516</td>\n",
       "      <td>-0.681446</td>\n",
       "      <td>...</td>\n",
       "      <td>0.882289</td>\n",
       "      <td>0.486742</td>\n",
       "      <td>0.369587</td>\n",
       "      <td>0.339116</td>\n",
       "      <td>0.316145</td>\n",
       "      <td>0.186768</td>\n",
       "      <td>0.321079</td>\n",
       "      <td>0.320542</td>\n",
       "      <td>-0.210344</td>\n",
       "      <td>-0.323803</td>\n",
       "    </tr>\n",
       "    <tr>\n",
       "      <th>Q25</th>\n",
       "      <td>0.892568</td>\n",
       "      <td>-0.826082</td>\n",
       "      <td>0.693264</td>\n",
       "      <td>1.000000</td>\n",
       "      <td>0.366786</td>\n",
       "      <td>-0.879955</td>\n",
       "      <td>0.363099</td>\n",
       "      <td>0.229878</td>\n",
       "      <td>-0.830376</td>\n",
       "      <td>-0.787312</td>\n",
       "      <td>...</td>\n",
       "      <td>0.892568</td>\n",
       "      <td>0.666767</td>\n",
       "      <td>0.236268</td>\n",
       "      <td>0.273498</td>\n",
       "      <td>0.354970</td>\n",
       "      <td>0.191539</td>\n",
       "      <td>0.388328</td>\n",
       "      <td>0.387805</td>\n",
       "      <td>-0.216721</td>\n",
       "      <td>-0.648893</td>\n",
       "    </tr>\n",
       "    <tr>\n",
       "      <th>Q75</th>\n",
       "      <td>0.669406</td>\n",
       "      <td>-0.055964</td>\n",
       "      <td>0.652249</td>\n",
       "      <td>0.366786</td>\n",
       "      <td>1.000000</td>\n",
       "      <td>0.119194</td>\n",
       "      <td>-0.214481</td>\n",
       "      <td>-0.266582</td>\n",
       "      <td>-0.265481</td>\n",
       "      <td>-0.383873</td>\n",
       "      <td>...</td>\n",
       "      <td>0.669406</td>\n",
       "      <td>0.162138</td>\n",
       "      <td>0.314267</td>\n",
       "      <td>0.316820</td>\n",
       "      <td>0.233334</td>\n",
       "      <td>0.112425</td>\n",
       "      <td>0.200829</td>\n",
       "      <td>0.200509</td>\n",
       "      <td>-0.151316</td>\n",
       "      <td>0.089192</td>\n",
       "    </tr>\n",
       "    <tr>\n",
       "      <th>IQR</th>\n",
       "      <td>-0.610766</td>\n",
       "      <td>0.853061</td>\n",
       "      <td>-0.406819</td>\n",
       "      <td>-0.879955</td>\n",
       "      <td>0.119194</td>\n",
       "      <td>1.000000</td>\n",
       "      <td>-0.497042</td>\n",
       "      <td>-0.381467</td>\n",
       "      <td>0.750654</td>\n",
       "      <td>0.644237</td>\n",
       "      <td>...</td>\n",
       "      <td>-0.610766</td>\n",
       "      <td>-0.628813</td>\n",
       "      <td>-0.091678</td>\n",
       "      <td>-0.130109</td>\n",
       "      <td>-0.259691</td>\n",
       "      <td>-0.147011</td>\n",
       "      <td>-0.311892</td>\n",
       "      <td>-0.311496</td>\n",
       "      <td>0.154027</td>\n",
       "      <td>0.738078</td>\n",
       "    </tr>\n",
       "    <tr>\n",
       "      <th>skew</th>\n",
       "      <td>0.163673</td>\n",
       "      <td>-0.328060</td>\n",
       "      <td>0.093950</td>\n",
       "      <td>0.363099</td>\n",
       "      <td>-0.214481</td>\n",
       "      <td>-0.497042</td>\n",
       "      <td>1.000000</td>\n",
       "      <td>0.952868</td>\n",
       "      <td>-0.519739</td>\n",
       "      <td>-0.258511</td>\n",
       "      <td>...</td>\n",
       "      <td>0.163673</td>\n",
       "      <td>0.369966</td>\n",
       "      <td>-0.113447</td>\n",
       "      <td>-0.087134</td>\n",
       "      <td>-0.001191</td>\n",
       "      <td>-0.005345</td>\n",
       "      <td>0.073965</td>\n",
       "      <td>0.074019</td>\n",
       "      <td>-0.034842</td>\n",
       "      <td>-0.431815</td>\n",
       "    </tr>\n",
       "    <tr>\n",
       "      <th>kurt</th>\n",
       "      <td>0.031504</td>\n",
       "      <td>-0.204729</td>\n",
       "      <td>-0.032142</td>\n",
       "      <td>0.229878</td>\n",
       "      <td>-0.266582</td>\n",
       "      <td>-0.381467</td>\n",
       "      <td>0.952868</td>\n",
       "      <td>1.000000</td>\n",
       "      <td>-0.358597</td>\n",
       "      <td>-0.117377</td>\n",
       "      <td>...</td>\n",
       "      <td>0.031504</td>\n",
       "      <td>0.265299</td>\n",
       "      <td>-0.167008</td>\n",
       "      <td>-0.133476</td>\n",
       "      <td>-0.052477</td>\n",
       "      <td>-0.028370</td>\n",
       "      <td>0.010696</td>\n",
       "      <td>0.010806</td>\n",
       "      <td>0.028751</td>\n",
       "      <td>-0.344828</td>\n",
       "    </tr>\n",
       "    <tr>\n",
       "      <th>spent</th>\n",
       "      <td>-0.803732</td>\n",
       "      <td>0.858863</td>\n",
       "      <td>-0.634516</td>\n",
       "      <td>-0.830376</td>\n",
       "      <td>-0.265481</td>\n",
       "      <td>0.750654</td>\n",
       "      <td>-0.519739</td>\n",
       "      <td>-0.358597</td>\n",
       "      <td>1.000000</td>\n",
       "      <td>0.895766</td>\n",
       "      <td>...</td>\n",
       "      <td>-0.803732</td>\n",
       "      <td>-0.624880</td>\n",
       "      <td>-0.354297</td>\n",
       "      <td>-0.246215</td>\n",
       "      <td>-0.370333</td>\n",
       "      <td>-0.186214</td>\n",
       "      <td>-0.423439</td>\n",
       "      <td>-0.422952</td>\n",
       "      <td>0.280843</td>\n",
       "      <td>0.553049</td>\n",
       "    </tr>\n",
       "    <tr>\n",
       "      <th>sfm</th>\n",
       "      <td>-0.847638</td>\n",
       "      <td>0.861697</td>\n",
       "      <td>-0.681446</td>\n",
       "      <td>-0.787312</td>\n",
       "      <td>-0.383873</td>\n",
       "      <td>0.644237</td>\n",
       "      <td>-0.258511</td>\n",
       "      <td>-0.117377</td>\n",
       "      <td>0.895766</td>\n",
       "      <td>1.000000</td>\n",
       "      <td>...</td>\n",
       "      <td>-0.847638</td>\n",
       "      <td>-0.459239</td>\n",
       "      <td>-0.412104</td>\n",
       "      <td>-0.295561</td>\n",
       "      <td>-0.405287</td>\n",
       "      <td>-0.193884</td>\n",
       "      <td>-0.424877</td>\n",
       "      <td>-0.424362</td>\n",
       "      <td>0.313021</td>\n",
       "      <td>0.389066</td>\n",
       "    </tr>\n",
       "    <tr>\n",
       "      <th>mode</th>\n",
       "      <td>0.507407</td>\n",
       "      <td>-0.225579</td>\n",
       "      <td>0.599443</td>\n",
       "      <td>0.344708</td>\n",
       "      <td>0.449347</td>\n",
       "      <td>-0.138432</td>\n",
       "      <td>-0.023178</td>\n",
       "      <td>-0.113165</td>\n",
       "      <td>-0.312810</td>\n",
       "      <td>-0.350121</td>\n",
       "      <td>...</td>\n",
       "      <td>0.507407</td>\n",
       "      <td>0.314599</td>\n",
       "      <td>0.308991</td>\n",
       "      <td>0.227548</td>\n",
       "      <td>0.243438</td>\n",
       "      <td>0.018356</td>\n",
       "      <td>0.246385</td>\n",
       "      <td>0.246432</td>\n",
       "      <td>-0.175802</td>\n",
       "      <td>-0.138464</td>\n",
       "    </tr>\n",
       "    <tr>\n",
       "      <th>centroid</th>\n",
       "      <td>1.000000</td>\n",
       "      <td>-0.729498</td>\n",
       "      <td>0.882289</td>\n",
       "      <td>0.892568</td>\n",
       "      <td>0.669406</td>\n",
       "      <td>-0.610766</td>\n",
       "      <td>0.163673</td>\n",
       "      <td>0.031504</td>\n",
       "      <td>-0.803732</td>\n",
       "      <td>-0.847638</td>\n",
       "      <td>...</td>\n",
       "      <td>1.000000</td>\n",
       "      <td>0.564104</td>\n",
       "      <td>0.407564</td>\n",
       "      <td>0.382351</td>\n",
       "      <td>0.418939</td>\n",
       "      <td>0.210347</td>\n",
       "      <td>0.426194</td>\n",
       "      <td>0.425619</td>\n",
       "      <td>-0.269981</td>\n",
       "      <td>-0.428777</td>\n",
       "    </tr>\n",
       "    <tr>\n",
       "      <th>meanfun</th>\n",
       "      <td>0.564104</td>\n",
       "      <td>-0.543437</td>\n",
       "      <td>0.486742</td>\n",
       "      <td>0.666767</td>\n",
       "      <td>0.162138</td>\n",
       "      <td>-0.628813</td>\n",
       "      <td>0.369966</td>\n",
       "      <td>0.265299</td>\n",
       "      <td>-0.624880</td>\n",
       "      <td>-0.459239</td>\n",
       "      <td>...</td>\n",
       "      <td>0.564104</td>\n",
       "      <td>1.000000</td>\n",
       "      <td>0.197504</td>\n",
       "      <td>0.195633</td>\n",
       "      <td>0.231187</td>\n",
       "      <td>0.081339</td>\n",
       "      <td>0.266131</td>\n",
       "      <td>0.265956</td>\n",
       "      <td>-0.067497</td>\n",
       "      <td>-0.836190</td>\n",
       "    </tr>\n",
       "    <tr>\n",
       "      <th>minfun</th>\n",
       "      <td>0.407564</td>\n",
       "      <td>-0.320655</td>\n",
       "      <td>0.369587</td>\n",
       "      <td>0.236268</td>\n",
       "      <td>0.314267</td>\n",
       "      <td>-0.091678</td>\n",
       "      <td>-0.113447</td>\n",
       "      <td>-0.167008</td>\n",
       "      <td>-0.354297</td>\n",
       "      <td>-0.412104</td>\n",
       "      <td>...</td>\n",
       "      <td>0.407564</td>\n",
       "      <td>0.197504</td>\n",
       "      <td>1.000000</td>\n",
       "      <td>0.501175</td>\n",
       "      <td>0.523093</td>\n",
       "      <td>0.203540</td>\n",
       "      <td>0.442266</td>\n",
       "      <td>0.441724</td>\n",
       "      <td>-0.366589</td>\n",
       "      <td>-0.001936</td>\n",
       "    </tr>\n",
       "    <tr>\n",
       "      <th>maxfun</th>\n",
       "      <td>0.382351</td>\n",
       "      <td>-0.232685</td>\n",
       "      <td>0.339116</td>\n",
       "      <td>0.273498</td>\n",
       "      <td>0.316820</td>\n",
       "      <td>-0.130109</td>\n",
       "      <td>-0.087134</td>\n",
       "      <td>-0.133476</td>\n",
       "      <td>-0.246215</td>\n",
       "      <td>-0.295561</td>\n",
       "      <td>...</td>\n",
       "      <td>0.382351</td>\n",
       "      <td>0.195633</td>\n",
       "      <td>0.501175</td>\n",
       "      <td>1.000000</td>\n",
       "      <td>0.362748</td>\n",
       "      <td>0.119511</td>\n",
       "      <td>0.313089</td>\n",
       "      <td>0.312796</td>\n",
       "      <td>-0.312246</td>\n",
       "      <td>-0.070223</td>\n",
       "    </tr>\n",
       "    <tr>\n",
       "      <th>meandom</th>\n",
       "      <td>0.418939</td>\n",
       "      <td>-0.408478</td>\n",
       "      <td>0.316145</td>\n",
       "      <td>0.354970</td>\n",
       "      <td>0.233334</td>\n",
       "      <td>-0.259691</td>\n",
       "      <td>-0.001191</td>\n",
       "      <td>-0.052477</td>\n",
       "      <td>-0.370333</td>\n",
       "      <td>-0.405287</td>\n",
       "      <td>...</td>\n",
       "      <td>0.418939</td>\n",
       "      <td>0.231187</td>\n",
       "      <td>0.523093</td>\n",
       "      <td>0.362748</td>\n",
       "      <td>1.000000</td>\n",
       "      <td>0.164556</td>\n",
       "      <td>0.768707</td>\n",
       "      <td>0.768461</td>\n",
       "      <td>-0.085192</td>\n",
       "      <td>-0.176565</td>\n",
       "    </tr>\n",
       "    <tr>\n",
       "      <th>mindom</th>\n",
       "      <td>0.210347</td>\n",
       "      <td>-0.183609</td>\n",
       "      <td>0.186768</td>\n",
       "      <td>0.191539</td>\n",
       "      <td>0.112425</td>\n",
       "      <td>-0.147011</td>\n",
       "      <td>-0.005345</td>\n",
       "      <td>-0.028370</td>\n",
       "      <td>-0.186214</td>\n",
       "      <td>-0.193884</td>\n",
       "      <td>...</td>\n",
       "      <td>0.210347</td>\n",
       "      <td>0.081339</td>\n",
       "      <td>0.203540</td>\n",
       "      <td>0.119511</td>\n",
       "      <td>0.164556</td>\n",
       "      <td>1.000000</td>\n",
       "      <td>0.128750</td>\n",
       "      <td>0.125132</td>\n",
       "      <td>-0.076146</td>\n",
       "      <td>-0.062108</td>\n",
       "    </tr>\n",
       "    <tr>\n",
       "      <th>maxdom</th>\n",
       "      <td>0.426194</td>\n",
       "      <td>-0.436010</td>\n",
       "      <td>0.321079</td>\n",
       "      <td>0.388328</td>\n",
       "      <td>0.200829</td>\n",
       "      <td>-0.311892</td>\n",
       "      <td>0.073965</td>\n",
       "      <td>0.010696</td>\n",
       "      <td>-0.423439</td>\n",
       "      <td>-0.424877</td>\n",
       "      <td>...</td>\n",
       "      <td>0.426194</td>\n",
       "      <td>0.266131</td>\n",
       "      <td>0.442266</td>\n",
       "      <td>0.313089</td>\n",
       "      <td>0.768707</td>\n",
       "      <td>0.128750</td>\n",
       "      <td>1.000000</td>\n",
       "      <td>0.999993</td>\n",
       "      <td>-0.401955</td>\n",
       "      <td>-0.226064</td>\n",
       "    </tr>\n",
       "    <tr>\n",
       "      <th>dfrange</th>\n",
       "      <td>0.425619</td>\n",
       "      <td>-0.435538</td>\n",
       "      <td>0.320542</td>\n",
       "      <td>0.387805</td>\n",
       "      <td>0.200509</td>\n",
       "      <td>-0.311496</td>\n",
       "      <td>0.074019</td>\n",
       "      <td>0.010806</td>\n",
       "      <td>-0.422952</td>\n",
       "      <td>-0.424362</td>\n",
       "      <td>...</td>\n",
       "      <td>0.425619</td>\n",
       "      <td>0.265956</td>\n",
       "      <td>0.441724</td>\n",
       "      <td>0.312796</td>\n",
       "      <td>0.768461</td>\n",
       "      <td>0.125132</td>\n",
       "      <td>0.999993</td>\n",
       "      <td>1.000000</td>\n",
       "      <td>-0.401863</td>\n",
       "      <td>-0.225941</td>\n",
       "    </tr>\n",
       "    <tr>\n",
       "      <th>modindx</th>\n",
       "      <td>-0.269981</td>\n",
       "      <td>0.258229</td>\n",
       "      <td>-0.210344</td>\n",
       "      <td>-0.216721</td>\n",
       "      <td>-0.151316</td>\n",
       "      <td>0.154027</td>\n",
       "      <td>-0.034842</td>\n",
       "      <td>0.028751</td>\n",
       "      <td>0.280843</td>\n",
       "      <td>0.313021</td>\n",
       "      <td>...</td>\n",
       "      <td>-0.269981</td>\n",
       "      <td>-0.067497</td>\n",
       "      <td>-0.366589</td>\n",
       "      <td>-0.312246</td>\n",
       "      <td>-0.085192</td>\n",
       "      <td>-0.076146</td>\n",
       "      <td>-0.401955</td>\n",
       "      <td>-0.401863</td>\n",
       "      <td>1.000000</td>\n",
       "      <td>0.011313</td>\n",
       "    </tr>\n",
       "    <tr>\n",
       "      <th>label</th>\n",
       "      <td>-0.428777</td>\n",
       "      <td>0.574627</td>\n",
       "      <td>-0.323803</td>\n",
       "      <td>-0.648893</td>\n",
       "      <td>0.089192</td>\n",
       "      <td>0.738078</td>\n",
       "      <td>-0.431815</td>\n",
       "      <td>-0.344828</td>\n",
       "      <td>0.553049</td>\n",
       "      <td>0.389066</td>\n",
       "      <td>...</td>\n",
       "      <td>-0.428777</td>\n",
       "      <td>-0.836190</td>\n",
       "      <td>-0.001936</td>\n",
       "      <td>-0.070223</td>\n",
       "      <td>-0.176565</td>\n",
       "      <td>-0.062108</td>\n",
       "      <td>-0.226064</td>\n",
       "      <td>-0.225941</td>\n",
       "      <td>0.011313</td>\n",
       "      <td>1.000000</td>\n",
       "    </tr>\n",
       "  </tbody>\n",
       "</table>\n",
       "<p>21 rows × 21 columns</p>\n",
       "</div>"
      ],
      "text/plain": [
       "          meanfreq        sd    median       Q25       Q75       IQR  \\\n",
       "meanfreq  1.000000 -0.729498  0.882289  0.892568  0.669406 -0.610766   \n",
       "sd       -0.729498  1.000000 -0.493688 -0.826082 -0.055964  0.853061   \n",
       "median    0.882289 -0.493688  1.000000  0.693264  0.652249 -0.406819   \n",
       "Q25       0.892568 -0.826082  0.693264  1.000000  0.366786 -0.879955   \n",
       "Q75       0.669406 -0.055964  0.652249  0.366786  1.000000  0.119194   \n",
       "IQR      -0.610766  0.853061 -0.406819 -0.879955  0.119194  1.000000   \n",
       "skew      0.163673 -0.328060  0.093950  0.363099 -0.214481 -0.497042   \n",
       "kurt      0.031504 -0.204729 -0.032142  0.229878 -0.266582 -0.381467   \n",
       "spent    -0.803732  0.858863 -0.634516 -0.830376 -0.265481  0.750654   \n",
       "sfm      -0.847638  0.861697 -0.681446 -0.787312 -0.383873  0.644237   \n",
       "mode      0.507407 -0.225579  0.599443  0.344708  0.449347 -0.138432   \n",
       "centroid  1.000000 -0.729498  0.882289  0.892568  0.669406 -0.610766   \n",
       "meanfun   0.564104 -0.543437  0.486742  0.666767  0.162138 -0.628813   \n",
       "minfun    0.407564 -0.320655  0.369587  0.236268  0.314267 -0.091678   \n",
       "maxfun    0.382351 -0.232685  0.339116  0.273498  0.316820 -0.130109   \n",
       "meandom   0.418939 -0.408478  0.316145  0.354970  0.233334 -0.259691   \n",
       "mindom    0.210347 -0.183609  0.186768  0.191539  0.112425 -0.147011   \n",
       "maxdom    0.426194 -0.436010  0.321079  0.388328  0.200829 -0.311892   \n",
       "dfrange   0.425619 -0.435538  0.320542  0.387805  0.200509 -0.311496   \n",
       "modindx  -0.269981  0.258229 -0.210344 -0.216721 -0.151316  0.154027   \n",
       "label    -0.428777  0.574627 -0.323803 -0.648893  0.089192  0.738078   \n",
       "\n",
       "              skew      kurt     spent       sfm    ...     centroid  \\\n",
       "meanfreq  0.163673  0.031504 -0.803732 -0.847638    ...     1.000000   \n",
       "sd       -0.328060 -0.204729  0.858863  0.861697    ...    -0.729498   \n",
       "median    0.093950 -0.032142 -0.634516 -0.681446    ...     0.882289   \n",
       "Q25       0.363099  0.229878 -0.830376 -0.787312    ...     0.892568   \n",
       "Q75      -0.214481 -0.266582 -0.265481 -0.383873    ...     0.669406   \n",
       "IQR      -0.497042 -0.381467  0.750654  0.644237    ...    -0.610766   \n",
       "skew      1.000000  0.952868 -0.519739 -0.258511    ...     0.163673   \n",
       "kurt      0.952868  1.000000 -0.358597 -0.117377    ...     0.031504   \n",
       "spent    -0.519739 -0.358597  1.000000  0.895766    ...    -0.803732   \n",
       "sfm      -0.258511 -0.117377  0.895766  1.000000    ...    -0.847638   \n",
       "mode     -0.023178 -0.113165 -0.312810 -0.350121    ...     0.507407   \n",
       "centroid  0.163673  0.031504 -0.803732 -0.847638    ...     1.000000   \n",
       "meanfun   0.369966  0.265299 -0.624880 -0.459239    ...     0.564104   \n",
       "minfun   -0.113447 -0.167008 -0.354297 -0.412104    ...     0.407564   \n",
       "maxfun   -0.087134 -0.133476 -0.246215 -0.295561    ...     0.382351   \n",
       "meandom  -0.001191 -0.052477 -0.370333 -0.405287    ...     0.418939   \n",
       "mindom   -0.005345 -0.028370 -0.186214 -0.193884    ...     0.210347   \n",
       "maxdom    0.073965  0.010696 -0.423439 -0.424877    ...     0.426194   \n",
       "dfrange   0.074019  0.010806 -0.422952 -0.424362    ...     0.425619   \n",
       "modindx  -0.034842  0.028751  0.280843  0.313021    ...    -0.269981   \n",
       "label    -0.431815 -0.344828  0.553049  0.389066    ...    -0.428777   \n",
       "\n",
       "           meanfun    minfun    maxfun   meandom    mindom    maxdom  \\\n",
       "meanfreq  0.564104  0.407564  0.382351  0.418939  0.210347  0.426194   \n",
       "sd       -0.543437 -0.320655 -0.232685 -0.408478 -0.183609 -0.436010   \n",
       "median    0.486742  0.369587  0.339116  0.316145  0.186768  0.321079   \n",
       "Q25       0.666767  0.236268  0.273498  0.354970  0.191539  0.388328   \n",
       "Q75       0.162138  0.314267  0.316820  0.233334  0.112425  0.200829   \n",
       "IQR      -0.628813 -0.091678 -0.130109 -0.259691 -0.147011 -0.311892   \n",
       "skew      0.369966 -0.113447 -0.087134 -0.001191 -0.005345  0.073965   \n",
       "kurt      0.265299 -0.167008 -0.133476 -0.052477 -0.028370  0.010696   \n",
       "spent    -0.624880 -0.354297 -0.246215 -0.370333 -0.186214 -0.423439   \n",
       "sfm      -0.459239 -0.412104 -0.295561 -0.405287 -0.193884 -0.424877   \n",
       "mode      0.314599  0.308991  0.227548  0.243438  0.018356  0.246385   \n",
       "centroid  0.564104  0.407564  0.382351  0.418939  0.210347  0.426194   \n",
       "meanfun   1.000000  0.197504  0.195633  0.231187  0.081339  0.266131   \n",
       "minfun    0.197504  1.000000  0.501175  0.523093  0.203540  0.442266   \n",
       "maxfun    0.195633  0.501175  1.000000  0.362748  0.119511  0.313089   \n",
       "meandom   0.231187  0.523093  0.362748  1.000000  0.164556  0.768707   \n",
       "mindom    0.081339  0.203540  0.119511  0.164556  1.000000  0.128750   \n",
       "maxdom    0.266131  0.442266  0.313089  0.768707  0.128750  1.000000   \n",
       "dfrange   0.265956  0.441724  0.312796  0.768461  0.125132  0.999993   \n",
       "modindx  -0.067497 -0.366589 -0.312246 -0.085192 -0.076146 -0.401955   \n",
       "label    -0.836190 -0.001936 -0.070223 -0.176565 -0.062108 -0.226064   \n",
       "\n",
       "           dfrange   modindx     label  \n",
       "meanfreq  0.425619 -0.269981 -0.428777  \n",
       "sd       -0.435538  0.258229  0.574627  \n",
       "median    0.320542 -0.210344 -0.323803  \n",
       "Q25       0.387805 -0.216721 -0.648893  \n",
       "Q75       0.200509 -0.151316  0.089192  \n",
       "IQR      -0.311496  0.154027  0.738078  \n",
       "skew      0.074019 -0.034842 -0.431815  \n",
       "kurt      0.010806  0.028751 -0.344828  \n",
       "spent    -0.422952  0.280843  0.553049  \n",
       "sfm      -0.424362  0.313021  0.389066  \n",
       "mode      0.246432 -0.175802 -0.138464  \n",
       "centroid  0.425619 -0.269981 -0.428777  \n",
       "meanfun   0.265956 -0.067497 -0.836190  \n",
       "minfun    0.441724 -0.366589 -0.001936  \n",
       "maxfun    0.312796 -0.312246 -0.070223  \n",
       "meandom   0.768461 -0.085192 -0.176565  \n",
       "mindom    0.125132 -0.076146 -0.062108  \n",
       "maxdom    0.999993 -0.401955 -0.226064  \n",
       "dfrange   1.000000 -0.401863 -0.225941  \n",
       "modindx  -0.401863  1.000000  0.011313  \n",
       "label    -0.225941  0.011313  1.000000  \n",
       "\n",
       "[21 rows x 21 columns]"
      ]
     },
     "execution_count": 19,
     "metadata": {},
     "output_type": "execute_result"
    }
   ],
   "source": [
    "norm_voice.corr()"
   ]
  },
  {
   "cell_type": "code",
   "execution_count": 20,
   "metadata": {},
   "outputs": [
    {
     "data": {
      "text/plain": [
       "<matplotlib.axes._subplots.AxesSubplot at 0x1c8f2ae3160>"
      ]
     },
     "execution_count": 20,
     "metadata": {},
     "output_type": "execute_result"
    },
    {
     "data": {
      "image/png": "[encoded data removed]",
      "text/plain": [
       "<Figure size 432x288 with 2 Axes>"
      ]
     },
     "metadata": {
      "needs_background": "light"
     },
     "output_type": "display_data"
    }
   ],
   "source": [
    "sb.heatmap(norm_voice.corr(),annot=True,fmt=\".2f\")"
   ]
  },
  {
   "cell_type": "code",
   "execution_count": 52,
   "metadata": {},
   "outputs": [
    {
     "data": {
      "text/plain": [
       "(1124, 6)"
      ]
     },
     "metadata": {},
     "output_type": "display_data"
    },
    {
     "data": {
      "text/plain": [
       "(483, 6)"
      ]
     },
     "metadata": {},
     "output_type": "display_data"
    }
   ],
   "source": [
    "feature=norm_voice.loc[:,[\"meanfreq\",\"sd\",\"skew\",\"kurt\",\"IQR\",\"meanfun\"]]\n",
    "dependent=norm_voice.loc[:,[\"label\"]]\n",
    "voice_train,voice_test,label_train,label_test=train_test_split(feature,dependent,test_size=0.30,random_state=0)\n",
    "display(voice_train.shape)\n",
    "display(voice_test.shape)"
   ]
  },
  {
   "cell_type": "code",
   "execution_count": null,
   "metadata": {},
   "outputs": [],
   "source": []
  },
  {
   "cell_type": "code",
   "execution_count": null,
   "metadata": {},
   "outputs": [],
   "source": []
  },
  {
   "cell_type": "code",
   "execution_count": 55,
   "metadata": {},
   "outputs": [
    {
     "name": "stdout",
     "output_type": "stream",
     "text": [
      "train accuracy\n"
     ]
    },
    {
     "data": {
      "text/plain": [
       "0.9653024911032029"
      ]
     },
     "metadata": {},
     "output_type": "display_data"
    },
    {
     "name": "stdout",
     "output_type": "stream",
     "text": [
      "test accuracy\n"
     ]
    },
    {
     "data": {
      "text/plain": [
       "0.9710144927536232"
      ]
     },
     "metadata": {},
     "output_type": "display_data"
    }
   ],
   "source": [
    "mod=LogisticRegression()\n",
    "\n",
    "mod.fit(voice_train,label_train)\n",
    "print(\"train accuracy\")\n",
    "display(mod.score(voice_train,label_train))\n",
    "\n",
    "print(\"test accuracy\")\n",
    "display(mod.score(voice_test,label_test))"
   ]
  },
  {
   "cell_type": "code",
   "execution_count": 56,
   "metadata": {},
   "outputs": [],
   "source": [
    "train_prediction=mod.predict(voice_train)\n",
    "test_prediction=mod.predict(voice_test)\n",
    "train_conf_matrix=confusion_matrix(label_train,train_prediction)\n",
    "test_conf_matrix=confusion_matrix(label_test,test_prediction)"
   ]
  },
  {
   "cell_type": "code",
   "execution_count": 57,
   "metadata": {},
   "outputs": [
    {
     "data": {
      "text/html": [
       "<div>\n",
       "<style scoped>\n",
       "    .dataframe tbody tr th:only-of-type {\n",
       "        vertical-align: middle;\n",
       "    }\n",
       "\n",
       "    .dataframe tbody tr th {\n",
       "        vertical-align: top;\n",
       "    }\n",
       "\n",
       "    .dataframe thead th {\n",
       "        text-align: right;\n",
       "    }\n",
       "</style>\n",
       "<table border=\"1\" class=\"dataframe\">\n",
       "  <thead>\n",
       "    <tr style=\"text-align: right;\">\n",
       "      <th></th>\n",
       "      <th>0.0</th>\n",
       "      <th>1.0</th>\n",
       "    </tr>\n",
       "  </thead>\n",
       "  <tbody>\n",
       "    <tr>\n",
       "      <th>0.0</th>\n",
       "      <td>525</td>\n",
       "      <td>30</td>\n",
       "    </tr>\n",
       "    <tr>\n",
       "      <th>1.0</th>\n",
       "      <td>9</td>\n",
       "      <td>560</td>\n",
       "    </tr>\n",
       "  </tbody>\n",
       "</table>\n",
       "</div>"
      ],
      "text/plain": [
       "     0.0  1.0\n",
       "0.0  525   30\n",
       "1.0    9  560"
      ]
     },
     "execution_count": 57,
     "metadata": {},
     "output_type": "execute_result"
    }
   ],
   "source": [
    "pd.DataFrame(train_conf_matrix,columns=mod.classes_,index=mod.classes_)"
   ]
  },
  {
   "cell_type": "code",
   "execution_count": 58,
   "metadata": {},
   "outputs": [
    {
     "data": {
      "text/html": [
       "<div>\n",
       "<style scoped>\n",
       "    .dataframe tbody tr th:only-of-type {\n",
       "        vertical-align: middle;\n",
       "    }\n",
       "\n",
       "    .dataframe tbody tr th {\n",
       "        vertical-align: top;\n",
       "    }\n",
       "\n",
       "    .dataframe thead th {\n",
       "        text-align: right;\n",
       "    }\n",
       "</style>\n",
       "<table border=\"1\" class=\"dataframe\">\n",
       "  <thead>\n",
       "    <tr style=\"text-align: right;\">\n",
       "      <th></th>\n",
       "      <th>0.0</th>\n",
       "      <th>1.0</th>\n",
       "    </tr>\n",
       "  </thead>\n",
       "  <tbody>\n",
       "    <tr>\n",
       "      <th>0.0</th>\n",
       "      <td>219</td>\n",
       "      <td>11</td>\n",
       "    </tr>\n",
       "    <tr>\n",
       "      <th>1.0</th>\n",
       "      <td>3</td>\n",
       "      <td>250</td>\n",
       "    </tr>\n",
       "  </tbody>\n",
       "</table>\n",
       "</div>"
      ],
      "text/plain": [
       "     0.0  1.0\n",
       "0.0  219   11\n",
       "1.0    3  250"
      ]
     },
     "execution_count": 58,
     "metadata": {},
     "output_type": "execute_result"
    }
   ],
   "source": [
    "pd.DataFrame(test_conf_matrix,columns=mod.classes_,index=mod.classes_)"
   ]
  },
  {
   "cell_type": "code",
   "execution_count": 59,
   "metadata": {},
   "outputs": [
    {
     "name": "stdout",
     "output_type": "stream",
     "text": [
      "              precision    recall  f1-score   support\n",
      "\n",
      "         0.0       0.98      0.95      0.96       555\n",
      "         1.0       0.95      0.98      0.97       569\n",
      "\n",
      "   micro avg       0.97      0.97      0.97      1124\n",
      "   macro avg       0.97      0.97      0.97      1124\n",
      "weighted avg       0.97      0.97      0.97      1124\n",
      "\n"
     ]
    }
   ],
   "source": [
    "print(classification_report(label_train,train_prediction))"
   ]
  },
  {
   "cell_type": "code",
   "execution_count": 31,
   "metadata": {},
   "outputs": [
    {
     "name": "stdout",
     "output_type": "stream",
     "text": [
      "              precision    recall  f1-score   support\n",
      "\n",
      "         0.0       0.99      0.95      0.97       230\n",
      "         1.0       0.96      0.99      0.97       253\n",
      "\n",
      "   micro avg       0.97      0.97      0.97       483\n",
      "   macro avg       0.97      0.97      0.97       483\n",
      "weighted avg       0.97      0.97      0.97       483\n",
      "\n"
     ]
    }
   ],
   "source": [
    "print(classification_report(label_test,test_prediction))"
   ]
  },
  {
   "cell_type": "markdown",
   "metadata": {},
   "source": [
    "## in logistic regression we got train accuracy 96.5% and test accuracy 97.1%"
   ]
  },
  {
   "cell_type": "code",
   "execution_count": 32,
   "metadata": {},
   "outputs": [
    {
     "name": "stdout",
     "output_type": "stream",
     "text": [
      "train accuracy\n"
     ]
    },
    {
     "data": {
      "text/plain": [
       "1.0"
      ]
     },
     "metadata": {},
     "output_type": "display_data"
    },
    {
     "name": "stdout",
     "output_type": "stream",
     "text": [
      "test accuracy\n"
     ]
    },
    {
     "data": {
      "text/plain": [
       "0.9730848861283644"
      ]
     },
     "metadata": {},
     "output_type": "display_data"
    }
   ],
   "source": [
    "# decision tree algorithm \n",
    "\n",
    "model=DecisionTreeClassifier()\n",
    "\n",
    "model.fit(voice_train,label_train)\n",
    "print(\"train accuracy\")\n",
    "display(model.score(voice_train,label_train))\n",
    "\n",
    "print(\"test accuracy\")\n",
    "display(model.score(voice_test,label_test))"
   ]
  },
  {
   "cell_type": "code",
   "execution_count": 60,
   "metadata": {},
   "outputs": [
    {
     "name": "stdout",
     "output_type": "stream",
     "text": [
      "train accuracy\n"
     ]
    },
    {
     "data": {
      "text/plain": [
       "0.9759786476868327"
      ]
     },
     "metadata": {},
     "output_type": "display_data"
    },
    {
     "name": "stdout",
     "output_type": "stream",
     "text": [
      "test accuracy\n"
     ]
    },
    {
     "data": {
      "text/plain": [
       "0.9565217391304348"
      ]
     },
     "metadata": {},
     "output_type": "display_data"
    }
   ],
   "source": [
    "# using min_sample_split and min_impurity_decrease\n",
    "\n",
    "model1=DecisionTreeClassifier(min_samples_split=10,min_impurity_decrease=0.005)\n",
    "\n",
    "model1.fit(voice_train,label_train)\n",
    "print(\"train accuracy\")\n",
    "display(model1.score(voice_train,label_train))\n",
    "\n",
    "print(\"test accuracy\")\n",
    "display(model1.score(voice_test,label_test))"
   ]
  },
  {
   "cell_type": "code",
   "execution_count": 61,
   "metadata": {},
   "outputs": [
    {
     "name": "stdout",
     "output_type": "stream",
     "text": [
      "train accuracy\n"
     ]
    },
    {
     "data": {
      "text/plain": [
       "0.9661921708185054"
      ]
     },
     "metadata": {},
     "output_type": "display_data"
    },
    {
     "name": "stdout",
     "output_type": "stream",
     "text": [
      "test accuracy\n"
     ]
    },
    {
     "data": {
      "text/plain": [
       "0.9440993788819876"
      ]
     },
     "metadata": {},
     "output_type": "display_data"
    }
   ],
   "source": [
    "model2=DecisionTreeClassifier(min_samples_split=20,min_impurity_decrease=0.1)\n",
    "\n",
    "\n",
    "model2.fit(voice_train,label_train)\n",
    "print(\"train accuracy\")\n",
    "display(model2.score(voice_train,label_train))\n",
    "\n",
    "print(\"test accuracy\")\n",
    "display(model2.score(voice_test,label_test))"
   ]
  },
  {
   "cell_type": "markdown",
   "metadata": {},
   "source": [
    "## when  using min_sample_split and min_impurity_decrease the accuracy  goes down comparing with model 1 without using min_sample_split and min_impurity"
   ]
  },
  {
   "cell_type": "code",
   "execution_count": 62,
   "metadata": {},
   "outputs": [
    {
     "name": "stdout",
     "output_type": "stream",
     "text": [
      "train accuracy\n"
     ]
    },
    {
     "data": {
      "text/plain": [
       "0.9848754448398577"
      ]
     },
     "metadata": {},
     "output_type": "display_data"
    },
    {
     "name": "stdout",
     "output_type": "stream",
     "text": [
      "test accuracy\n"
     ]
    },
    {
     "data": {
      "text/plain": [
       "0.9855072463768116"
      ]
     },
     "metadata": {},
     "output_type": "display_data"
    }
   ],
   "source": [
    "# k nearest algorithm    only including DB AND TB since they are correlated with class \n",
    "\n",
    "\n",
    "kmodel=KNeighborsClassifier(n_neighbors=3,metric=\"euclidean\")\n",
    "\n",
    "\n",
    "kmodel.fit(voice_train,label_train)\n",
    "print(\"train accuracy\")\n",
    "display(kmodel.score(voice_train,label_train))\n",
    "\n",
    "print(\"test accuracy\")\n",
    "display(kmodel.score(voice_test,label_test))"
   ]
  },
  {
   "cell_type": "code",
   "execution_count": 63,
   "metadata": {},
   "outputs": [
    {
     "name": "stdout",
     "output_type": "stream",
     "text": [
      "train accuracy\n"
     ]
    },
    {
     "data": {
      "text/plain": [
       "0.9786476868327402"
      ]
     },
     "metadata": {},
     "output_type": "display_data"
    },
    {
     "name": "stdout",
     "output_type": "stream",
     "text": [
      "test accuracy\n"
     ]
    },
    {
     "data": {
      "text/plain": [
       "0.9772256728778468"
      ]
     },
     "metadata": {},
     "output_type": "display_data"
    }
   ],
   "source": [
    "# changing the n_neighbors value to 5 and validating it\n",
    "\n",
    "\n",
    "k1model=KNeighborsClassifier(n_neighbors=5,metric=\"euclidean\")\n",
    "k1model.fit(voice_train,label_train)\n",
    "print(\"train accuracy\")\n",
    "display(k1model.score(voice_train,label_train))\n",
    "\n",
    "print(\"test accuracy\")\n",
    "display(k1model.score(voice_test,label_test))"
   ]
  },
  {
   "cell_type": "code",
   "execution_count": null,
   "metadata": {},
   "outputs": [],
   "source": [
    "# accuracy decreases when we are increasing the  n_neighbors"
   ]
  },
  {
   "cell_type": "code",
   "execution_count": 64,
   "metadata": {},
   "outputs": [
    {
     "name": "stdout",
     "output_type": "stream",
     "text": [
      "train accuracy\n"
     ]
    },
    {
     "data": {
      "text/plain": [
       "0.9741992882562278"
      ]
     },
     "metadata": {},
     "output_type": "display_data"
    },
    {
     "name": "stdout",
     "output_type": "stream",
     "text": [
      "test accuracy\n"
     ]
    },
    {
     "data": {
      "text/plain": [
       "0.9772256728778468"
      ]
     },
     "metadata": {},
     "output_type": "display_data"
    }
   ],
   "source": [
    "# support vector machine\n",
    "\n",
    "\n",
    "smodel=SVC(kernel=\"rbf\")\n",
    "smodel.fit(voice_train,label_train)\n",
    "print(\"train accuracy\")\n",
    "display(smodel.score(voice_train,label_train))\n",
    "\n",
    "print(\"test accuracy\")\n",
    "display(smodel.score(voice_test,label_test))\n"
   ]
  },
  {
   "cell_type": "markdown",
   "metadata": {},
   "source": [
    "## from this four algorithm we can say that KNearestNeighbors algorithm and logistic regression are giving highest accuracy compared to other algorithms"
   ]
  },
  {
   "cell_type": "code",
   "execution_count": null,
   "metadata": {},
   "outputs": [],
   "source": []
  }
 ],
 "metadata": {
  "kernelspec": {
   "display_name": "Python 3",
   "language": "python",
   "name": "python3"
  },
  "language_info": {
   "codemirror_mode": {
    "name": "ipython",
    "version": 3
   },
   "file_extension": ".py",
   "mimetype": "text/x-python",
   "name": "python",
   "nbconvert_exporter": "python",
   "pygments_lexer": "ipython3",
   "version": "3.7.1"
  }
 },
 "nbformat": 4,
 "nbformat_minor": 2
}
