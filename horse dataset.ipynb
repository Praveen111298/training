{
 "cells": [
  {
   "cell_type": "code",
   "execution_count": 1,
   "metadata": {},
   "outputs": [],
   "source": [
    "import numpy as np\n",
    "import pandas as pd \n",
    "import matplotlib.pyplot as plt\n",
    "import seaborn as sb\n",
    "%matplotlib inline\n",
    "import warnings\n",
    "warnings.filterwarnings('ignore')\n",
    "from sklearn.preprocessing import MinMaxScaler\n",
    "from sklearn import preprocessing\n",
    "from sklearn.model_selection import train_test_split\n",
    "from sklearn.linear_model  import LogisticRegression\n",
    "from sklearn.metrics import confusion_matrix\n",
    "from sklearn.metrics import classification_report\n",
    "from sklearn.tree import DecisionTreeClassifier\n",
    "from sklearn.neighbors import KNeighborsClassifier\n",
    "from sklearn.svm import SVC\n",
    "from sklearn.feature_selection import RFE\n",
    "import PIL"
   ]
  },
  {
   "cell_type": "code",
   "execution_count": 2,
   "metadata": {},
   "outputs": [
    {
     "data": {
      "text/html": [
       "<div>\n",
       "<style scoped>\n",
       "    .dataframe tbody tr th:only-of-type {\n",
       "        vertical-align: middle;\n",
       "    }\n",
       "\n",
       "    .dataframe tbody tr th {\n",
       "        vertical-align: top;\n",
       "    }\n",
       "\n",
       "    .dataframe thead th {\n",
       "        text-align: right;\n",
       "    }\n",
       "</style>\n",
       "<table border=\"1\" class=\"dataframe\">\n",
       "  <thead>\n",
       "    <tr style=\"text-align: right;\">\n",
       "      <th></th>\n",
       "      <th>surgery</th>\n",
       "      <th>age</th>\n",
       "      <th>hospital_number</th>\n",
       "      <th>rectal_temp</th>\n",
       "      <th>pulse</th>\n",
       "      <th>respiratory_rate</th>\n",
       "      <th>temp_of_extremities</th>\n",
       "      <th>peripheral_pulse</th>\n",
       "      <th>mucous_membrane</th>\n",
       "      <th>capillary_refill_time</th>\n",
       "      <th>...</th>\n",
       "      <th>packed_cell_volume</th>\n",
       "      <th>total_protein</th>\n",
       "      <th>abdomo_appearance</th>\n",
       "      <th>abdomo_protein</th>\n",
       "      <th>outcome</th>\n",
       "      <th>surgical_lesion</th>\n",
       "      <th>lesion_1</th>\n",
       "      <th>lesion_2</th>\n",
       "      <th>lesion_3</th>\n",
       "      <th>cp_data</th>\n",
       "    </tr>\n",
       "  </thead>\n",
       "  <tbody>\n",
       "    <tr>\n",
       "      <th>0</th>\n",
       "      <td>no</td>\n",
       "      <td>adult</td>\n",
       "      <td>530101</td>\n",
       "      <td>38.5</td>\n",
       "      <td>66.0</td>\n",
       "      <td>28.0</td>\n",
       "      <td>cool</td>\n",
       "      <td>reduced</td>\n",
       "      <td>NaN</td>\n",
       "      <td>more_3_sec</td>\n",
       "      <td>...</td>\n",
       "      <td>45.0</td>\n",
       "      <td>8.4</td>\n",
       "      <td>NaN</td>\n",
       "      <td>NaN</td>\n",
       "      <td>died</td>\n",
       "      <td>no</td>\n",
       "      <td>11300</td>\n",
       "      <td>0</td>\n",
       "      <td>0</td>\n",
       "      <td>no</td>\n",
       "    </tr>\n",
       "    <tr>\n",
       "      <th>1</th>\n",
       "      <td>yes</td>\n",
       "      <td>adult</td>\n",
       "      <td>534817</td>\n",
       "      <td>39.2</td>\n",
       "      <td>88.0</td>\n",
       "      <td>20.0</td>\n",
       "      <td>NaN</td>\n",
       "      <td>NaN</td>\n",
       "      <td>pale_cyanotic</td>\n",
       "      <td>less_3_sec</td>\n",
       "      <td>...</td>\n",
       "      <td>50.0</td>\n",
       "      <td>85.0</td>\n",
       "      <td>cloudy</td>\n",
       "      <td>2.0</td>\n",
       "      <td>euthanized</td>\n",
       "      <td>no</td>\n",
       "      <td>2208</td>\n",
       "      <td>0</td>\n",
       "      <td>0</td>\n",
       "      <td>no</td>\n",
       "    </tr>\n",
       "    <tr>\n",
       "      <th>2</th>\n",
       "      <td>no</td>\n",
       "      <td>adult</td>\n",
       "      <td>530334</td>\n",
       "      <td>38.3</td>\n",
       "      <td>40.0</td>\n",
       "      <td>24.0</td>\n",
       "      <td>normal</td>\n",
       "      <td>normal</td>\n",
       "      <td>pale_pink</td>\n",
       "      <td>less_3_sec</td>\n",
       "      <td>...</td>\n",
       "      <td>33.0</td>\n",
       "      <td>6.7</td>\n",
       "      <td>NaN</td>\n",
       "      <td>NaN</td>\n",
       "      <td>lived</td>\n",
       "      <td>no</td>\n",
       "      <td>0</td>\n",
       "      <td>0</td>\n",
       "      <td>0</td>\n",
       "      <td>yes</td>\n",
       "    </tr>\n",
       "    <tr>\n",
       "      <th>3</th>\n",
       "      <td>yes</td>\n",
       "      <td>young</td>\n",
       "      <td>5290409</td>\n",
       "      <td>39.1</td>\n",
       "      <td>164.0</td>\n",
       "      <td>84.0</td>\n",
       "      <td>cold</td>\n",
       "      <td>normal</td>\n",
       "      <td>dark_cyanotic</td>\n",
       "      <td>more_3_sec</td>\n",
       "      <td>...</td>\n",
       "      <td>48.0</td>\n",
       "      <td>7.2</td>\n",
       "      <td>serosanguious</td>\n",
       "      <td>5.3</td>\n",
       "      <td>died</td>\n",
       "      <td>yes</td>\n",
       "      <td>2208</td>\n",
       "      <td>0</td>\n",
       "      <td>0</td>\n",
       "      <td>yes</td>\n",
       "    </tr>\n",
       "    <tr>\n",
       "      <th>4</th>\n",
       "      <td>no</td>\n",
       "      <td>adult</td>\n",
       "      <td>530255</td>\n",
       "      <td>37.3</td>\n",
       "      <td>104.0</td>\n",
       "      <td>35.0</td>\n",
       "      <td>NaN</td>\n",
       "      <td>NaN</td>\n",
       "      <td>dark_cyanotic</td>\n",
       "      <td>more_3_sec</td>\n",
       "      <td>...</td>\n",
       "      <td>74.0</td>\n",
       "      <td>7.4</td>\n",
       "      <td>NaN</td>\n",
       "      <td>NaN</td>\n",
       "      <td>died</td>\n",
       "      <td>no</td>\n",
       "      <td>4300</td>\n",
       "      <td>0</td>\n",
       "      <td>0</td>\n",
       "      <td>no</td>\n",
       "    </tr>\n",
       "  </tbody>\n",
       "</table>\n",
       "<p>5 rows × 28 columns</p>\n",
       "</div>"
      ],
      "text/plain": [
       "  surgery    age  hospital_number  rectal_temp  pulse  respiratory_rate  \\\n",
       "0      no  adult           530101         38.5   66.0              28.0   \n",
       "1     yes  adult           534817         39.2   88.0              20.0   \n",
       "2      no  adult           530334         38.3   40.0              24.0   \n",
       "3     yes  young          5290409         39.1  164.0              84.0   \n",
       "4      no  adult           530255         37.3  104.0              35.0   \n",
       "\n",
       "  temp_of_extremities peripheral_pulse mucous_membrane capillary_refill_time  \\\n",
       "0                cool          reduced             NaN            more_3_sec   \n",
       "1                 NaN              NaN   pale_cyanotic            less_3_sec   \n",
       "2              normal           normal       pale_pink            less_3_sec   \n",
       "3                cold           normal   dark_cyanotic            more_3_sec   \n",
       "4                 NaN              NaN   dark_cyanotic            more_3_sec   \n",
       "\n",
       "    ...    packed_cell_volume total_protein abdomo_appearance abdomo_protein  \\\n",
       "0   ...                  45.0           8.4               NaN            NaN   \n",
       "1   ...                  50.0          85.0            cloudy            2.0   \n",
       "2   ...                  33.0           6.7               NaN            NaN   \n",
       "3   ...                  48.0           7.2     serosanguious            5.3   \n",
       "4   ...                  74.0           7.4               NaN            NaN   \n",
       "\n",
       "      outcome  surgical_lesion lesion_1 lesion_2  lesion_3  cp_data  \n",
       "0        died               no    11300        0         0       no  \n",
       "1  euthanized               no     2208        0         0       no  \n",
       "2       lived               no        0        0         0      yes  \n",
       "3        died              yes     2208        0         0      yes  \n",
       "4        died               no     4300        0         0       no  \n",
       "\n",
       "[5 rows x 28 columns]"
      ]
     },
     "execution_count": 2,
     "metadata": {},
     "output_type": "execute_result"
    }
   ],
   "source": [
    "horse=pd.read_csv(\"horse.csv\")\n",
    "horse.head()"
   ]
  },
  {
   "cell_type": "code",
   "execution_count": 3,
   "metadata": {},
   "outputs": [
    {
     "data": {
      "text/html": [
       "<div>\n",
       "<style scoped>\n",
       "    .dataframe tbody tr th:only-of-type {\n",
       "        vertical-align: middle;\n",
       "    }\n",
       "\n",
       "    .dataframe tbody tr th {\n",
       "        vertical-align: top;\n",
       "    }\n",
       "\n",
       "    .dataframe thead th {\n",
       "        text-align: right;\n",
       "    }\n",
       "</style>\n",
       "<table border=\"1\" class=\"dataframe\">\n",
       "  <thead>\n",
       "    <tr style=\"text-align: right;\">\n",
       "      <th></th>\n",
       "      <th>hospital_number</th>\n",
       "      <th>rectal_temp</th>\n",
       "      <th>pulse</th>\n",
       "      <th>respiratory_rate</th>\n",
       "      <th>nasogastric_reflux_ph</th>\n",
       "      <th>packed_cell_volume</th>\n",
       "      <th>total_protein</th>\n",
       "      <th>abdomo_protein</th>\n",
       "      <th>lesion_1</th>\n",
       "      <th>lesion_2</th>\n",
       "      <th>lesion_3</th>\n",
       "    </tr>\n",
       "  </thead>\n",
       "  <tbody>\n",
       "    <tr>\n",
       "      <th>count</th>\n",
       "      <td>2.990000e+02</td>\n",
       "      <td>239.000000</td>\n",
       "      <td>275.000000</td>\n",
       "      <td>241.000000</td>\n",
       "      <td>53.000000</td>\n",
       "      <td>270.000000</td>\n",
       "      <td>266.000000</td>\n",
       "      <td>101.000000</td>\n",
       "      <td>299.000000</td>\n",
       "      <td>299.000000</td>\n",
       "      <td>299.000000</td>\n",
       "    </tr>\n",
       "    <tr>\n",
       "      <th>mean</th>\n",
       "      <td>1.087733e+06</td>\n",
       "      <td>38.168619</td>\n",
       "      <td>72.000000</td>\n",
       "      <td>30.460581</td>\n",
       "      <td>4.707547</td>\n",
       "      <td>46.307407</td>\n",
       "      <td>24.274436</td>\n",
       "      <td>3.039604</td>\n",
       "      <td>3659.709030</td>\n",
       "      <td>90.528428</td>\n",
       "      <td>7.387960</td>\n",
       "    </tr>\n",
       "    <tr>\n",
       "      <th>std</th>\n",
       "      <td>1.532032e+06</td>\n",
       "      <td>0.733744</td>\n",
       "      <td>28.646219</td>\n",
       "      <td>17.666102</td>\n",
       "      <td>1.982311</td>\n",
       "      <td>10.436743</td>\n",
       "      <td>27.364194</td>\n",
       "      <td>1.967947</td>\n",
       "      <td>5408.472421</td>\n",
       "      <td>650.637139</td>\n",
       "      <td>127.749768</td>\n",
       "    </tr>\n",
       "    <tr>\n",
       "      <th>min</th>\n",
       "      <td>5.184760e+05</td>\n",
       "      <td>35.400000</td>\n",
       "      <td>30.000000</td>\n",
       "      <td>8.000000</td>\n",
       "      <td>1.000000</td>\n",
       "      <td>23.000000</td>\n",
       "      <td>3.300000</td>\n",
       "      <td>0.100000</td>\n",
       "      <td>0.000000</td>\n",
       "      <td>0.000000</td>\n",
       "      <td>0.000000</td>\n",
       "    </tr>\n",
       "    <tr>\n",
       "      <th>25%</th>\n",
       "      <td>5.289040e+05</td>\n",
       "      <td>37.800000</td>\n",
       "      <td>48.000000</td>\n",
       "      <td>18.000000</td>\n",
       "      <td>3.000000</td>\n",
       "      <td>38.000000</td>\n",
       "      <td>6.500000</td>\n",
       "      <td>2.000000</td>\n",
       "      <td>2111.500000</td>\n",
       "      <td>0.000000</td>\n",
       "      <td>0.000000</td>\n",
       "    </tr>\n",
       "    <tr>\n",
       "      <th>50%</th>\n",
       "      <td>5.303010e+05</td>\n",
       "      <td>38.200000</td>\n",
       "      <td>64.000000</td>\n",
       "      <td>25.000000</td>\n",
       "      <td>5.000000</td>\n",
       "      <td>45.000000</td>\n",
       "      <td>7.500000</td>\n",
       "      <td>2.300000</td>\n",
       "      <td>2322.000000</td>\n",
       "      <td>0.000000</td>\n",
       "      <td>0.000000</td>\n",
       "    </tr>\n",
       "    <tr>\n",
       "      <th>75%</th>\n",
       "      <td>5.347360e+05</td>\n",
       "      <td>38.500000</td>\n",
       "      <td>88.000000</td>\n",
       "      <td>36.000000</td>\n",
       "      <td>6.500000</td>\n",
       "      <td>52.000000</td>\n",
       "      <td>56.750000</td>\n",
       "      <td>3.900000</td>\n",
       "      <td>3209.000000</td>\n",
       "      <td>0.000000</td>\n",
       "      <td>0.000000</td>\n",
       "    </tr>\n",
       "    <tr>\n",
       "      <th>max</th>\n",
       "      <td>5.305629e+06</td>\n",
       "      <td>40.800000</td>\n",
       "      <td>184.000000</td>\n",
       "      <td>96.000000</td>\n",
       "      <td>7.500000</td>\n",
       "      <td>75.000000</td>\n",
       "      <td>89.000000</td>\n",
       "      <td>10.100000</td>\n",
       "      <td>41110.000000</td>\n",
       "      <td>7111.000000</td>\n",
       "      <td>2209.000000</td>\n",
       "    </tr>\n",
       "  </tbody>\n",
       "</table>\n",
       "</div>"
      ],
      "text/plain": [
       "       hospital_number  rectal_temp       pulse  respiratory_rate  \\\n",
       "count     2.990000e+02   239.000000  275.000000        241.000000   \n",
       "mean      1.087733e+06    38.168619   72.000000         30.460581   \n",
       "std       1.532032e+06     0.733744   28.646219         17.666102   \n",
       "min       5.184760e+05    35.400000   30.000000          8.000000   \n",
       "25%       5.289040e+05    37.800000   48.000000         18.000000   \n",
       "50%       5.303010e+05    38.200000   64.000000         25.000000   \n",
       "75%       5.347360e+05    38.500000   88.000000         36.000000   \n",
       "max       5.305629e+06    40.800000  184.000000         96.000000   \n",
       "\n",
       "       nasogastric_reflux_ph  packed_cell_volume  total_protein  \\\n",
       "count              53.000000          270.000000     266.000000   \n",
       "mean                4.707547           46.307407      24.274436   \n",
       "std                 1.982311           10.436743      27.364194   \n",
       "min                 1.000000           23.000000       3.300000   \n",
       "25%                 3.000000           38.000000       6.500000   \n",
       "50%                 5.000000           45.000000       7.500000   \n",
       "75%                 6.500000           52.000000      56.750000   \n",
       "max                 7.500000           75.000000      89.000000   \n",
       "\n",
       "       abdomo_protein      lesion_1     lesion_2     lesion_3  \n",
       "count      101.000000    299.000000   299.000000   299.000000  \n",
       "mean         3.039604   3659.709030    90.528428     7.387960  \n",
       "std          1.967947   5408.472421   650.637139   127.749768  \n",
       "min          0.100000      0.000000     0.000000     0.000000  \n",
       "25%          2.000000   2111.500000     0.000000     0.000000  \n",
       "50%          2.300000   2322.000000     0.000000     0.000000  \n",
       "75%          3.900000   3209.000000     0.000000     0.000000  \n",
       "max         10.100000  41110.000000  7111.000000  2209.000000  "
      ]
     },
     "execution_count": 3,
     "metadata": {},
     "output_type": "execute_result"
    }
   ],
   "source": [
    "horse.describe()"
   ]
  },
  {
   "cell_type": "code",
   "execution_count": 4,
   "metadata": {},
   "outputs": [
    {
     "name": "stdout",
     "output_type": "stream",
     "text": [
      "<class 'pandas.core.frame.DataFrame'>\n",
      "RangeIndex: 299 entries, 0 to 298\n",
      "Data columns (total 28 columns):\n",
      "surgery                  299 non-null object\n",
      "age                      299 non-null object\n",
      "hospital_number          299 non-null int64\n",
      "rectal_temp              239 non-null float64\n",
      "pulse                    275 non-null float64\n",
      "respiratory_rate         241 non-null float64\n",
      "temp_of_extremities      243 non-null object\n",
      "peripheral_pulse         230 non-null object\n",
      "mucous_membrane          252 non-null object\n",
      "capillary_refill_time    267 non-null object\n",
      "pain                     244 non-null object\n",
      "peristalsis              255 non-null object\n",
      "abdominal_distention     243 non-null object\n",
      "nasogastric_tube         195 non-null object\n",
      "nasogastric_reflux       193 non-null object\n",
      "nasogastric_reflux_ph    53 non-null float64\n",
      "rectal_exam_feces        197 non-null object\n",
      "abdomen                  181 non-null object\n",
      "packed_cell_volume       270 non-null float64\n",
      "total_protein            266 non-null float64\n",
      "abdomo_appearance        134 non-null object\n",
      "abdomo_protein           101 non-null float64\n",
      "outcome                  299 non-null object\n",
      "surgical_lesion          299 non-null object\n",
      "lesion_1                 299 non-null int64\n",
      "lesion_2                 299 non-null int64\n",
      "lesion_3                 299 non-null int64\n",
      "cp_data                  299 non-null object\n",
      "dtypes: float64(7), int64(4), object(17)\n",
      "memory usage: 65.5+ KB\n"
     ]
    },
    {
     "data": {
      "text/plain": [
       "Index(['surgery', 'age', 'hospital_number', 'rectal_temp', 'pulse',\n",
       "       'respiratory_rate', 'temp_of_extremities', 'peripheral_pulse',\n",
       "       'mucous_membrane', 'capillary_refill_time', 'pain', 'peristalsis',\n",
       "       'abdominal_distention', 'nasogastric_tube', 'nasogastric_reflux',\n",
       "       'nasogastric_reflux_ph', 'rectal_exam_feces', 'abdomen',\n",
       "       'packed_cell_volume', 'total_protein', 'abdomo_appearance',\n",
       "       'abdomo_protein', 'outcome', 'surgical_lesion', 'lesion_1', 'lesion_2',\n",
       "       'lesion_3', 'cp_data'],\n",
       "      dtype='object')"
      ]
     },
     "execution_count": 4,
     "metadata": {},
     "output_type": "execute_result"
    }
   ],
   "source": [
    "horse.info()\n",
    "horse.columns"
   ]
  },
  {
   "cell_type": "code",
   "execution_count": 5,
   "metadata": {},
   "outputs": [
    {
     "data": {
      "text/plain": [
       "(299, 28)"
      ]
     },
     "execution_count": 5,
     "metadata": {},
     "output_type": "execute_result"
    }
   ],
   "source": [
    "horse.shape"
   ]
  },
  {
   "cell_type": "code",
   "execution_count": 6,
   "metadata": {},
   "outputs": [
    {
     "data": {
      "text/plain": [
       "surgery                    0\n",
       "age                        0\n",
       "hospital_number            0\n",
       "rectal_temp               60\n",
       "pulse                     24\n",
       "respiratory_rate          58\n",
       "temp_of_extremities       56\n",
       "peripheral_pulse          69\n",
       "mucous_membrane           47\n",
       "capillary_refill_time     32\n",
       "pain                      55\n",
       "peristalsis               44\n",
       "abdominal_distention      56\n",
       "nasogastric_tube         104\n",
       "nasogastric_reflux       106\n",
       "nasogastric_reflux_ph    246\n",
       "rectal_exam_feces        102\n",
       "abdomen                  118\n",
       "packed_cell_volume        29\n",
       "total_protein             33\n",
       "abdomo_appearance        165\n",
       "abdomo_protein           198\n",
       "outcome                    0\n",
       "surgical_lesion            0\n",
       "lesion_1                   0\n",
       "lesion_2                   0\n",
       "lesion_3                   0\n",
       "cp_data                    0\n",
       "dtype: int64"
      ]
     },
     "execution_count": 6,
     "metadata": {},
     "output_type": "execute_result"
    }
   ],
   "source": [
    "horse.isna().sum()"
   ]
  },
  {
   "cell_type": "code",
   "execution_count": 7,
   "metadata": {},
   "outputs": [
    {
     "data": {
      "text/plain": [
       "yes    180\n",
       "no     119\n",
       "Name: surgery, dtype: int64"
      ]
     },
     "execution_count": 7,
     "metadata": {},
     "output_type": "execute_result"
    }
   ],
   "source": [
    "horse[\"surgery\"].value_counts()"
   ]
  },
  {
   "cell_type": "code",
   "execution_count": 8,
   "metadata": {},
   "outputs": [],
   "source": [
    "# since there are many null values and if am not removing the data and replacing it with mean value for integers \n"
   ]
  },
  {
   "cell_type": "code",
   "execution_count": 9,
   "metadata": {},
   "outputs": [],
   "source": [
    "for i in horse.columns:\n",
    "    if((i == \"hospital_number\") or (i == \"rectal_temp\") or (i == \"pulse\") or (i == \"respiratory_rate\") or (i == \"nasogastric_reflux_ph\") or (i == \"packed_cell_volume\")or (i == \"total_protein\") or (i == \"abdomo_protein\") or (i == \"lesion_1\") or (i == \"lesion_2\") or (i == \"lesion_3\")):\n",
    "        if (horse[i].isna().sum()!=0):\n",
    "            horse[i].fillna(horse[i].mean(),inplace=True)\n",
    "    else:\n",
    "        if (horse[i].isna().sum()!=0):\n",
    "            horse[i].fillna(horse[i].mode()[0],inplace=True)\n",
    "            \n",
    "        "
   ]
  },
  {
   "cell_type": "code",
   "execution_count": 10,
   "metadata": {},
   "outputs": [
    {
     "data": {
      "text/plain": [
       "surgery                  0\n",
       "age                      0\n",
       "hospital_number          0\n",
       "rectal_temp              0\n",
       "pulse                    0\n",
       "respiratory_rate         0\n",
       "temp_of_extremities      0\n",
       "peripheral_pulse         0\n",
       "mucous_membrane          0\n",
       "capillary_refill_time    0\n",
       "pain                     0\n",
       "peristalsis              0\n",
       "abdominal_distention     0\n",
       "nasogastric_tube         0\n",
       "nasogastric_reflux       0\n",
       "nasogastric_reflux_ph    0\n",
       "rectal_exam_feces        0\n",
       "abdomen                  0\n",
       "packed_cell_volume       0\n",
       "total_protein            0\n",
       "abdomo_appearance        0\n",
       "abdomo_protein           0\n",
       "outcome                  0\n",
       "surgical_lesion          0\n",
       "lesion_1                 0\n",
       "lesion_2                 0\n",
       "lesion_3                 0\n",
       "cp_data                  0\n",
       "dtype: int64"
      ]
     },
     "execution_count": 10,
     "metadata": {},
     "output_type": "execute_result"
    }
   ],
   "source": [
    "horse.isna().sum()"
   ]
  },
  {
   "cell_type": "code",
   "execution_count": 11,
   "metadata": {},
   "outputs": [
    {
     "data": {
      "text/html": [
       "<div>\n",
       "<style scoped>\n",
       "    .dataframe tbody tr th:only-of-type {\n",
       "        vertical-align: middle;\n",
       "    }\n",
       "\n",
       "    .dataframe tbody tr th {\n",
       "        vertical-align: top;\n",
       "    }\n",
       "\n",
       "    .dataframe thead th {\n",
       "        text-align: right;\n",
       "    }\n",
       "</style>\n",
       "<table border=\"1\" class=\"dataframe\">\n",
       "  <thead>\n",
       "    <tr style=\"text-align: right;\">\n",
       "      <th></th>\n",
       "      <th>surgery</th>\n",
       "      <th>no</th>\n",
       "      <th>yes</th>\n",
       "    </tr>\n",
       "    <tr>\n",
       "      <th>age</th>\n",
       "      <th>temp_of_extremities</th>\n",
       "      <th></th>\n",
       "      <th></th>\n",
       "    </tr>\n",
       "  </thead>\n",
       "  <tbody>\n",
       "    <tr>\n",
       "      <th rowspan=\"4\" valign=\"top\">adult</th>\n",
       "      <th>cold</th>\n",
       "      <td>7.0</td>\n",
       "      <td>19.0</td>\n",
       "    </tr>\n",
       "    <tr>\n",
       "      <th>cool</th>\n",
       "      <td>55.0</td>\n",
       "      <td>94.0</td>\n",
       "    </tr>\n",
       "    <tr>\n",
       "      <th>normal</th>\n",
       "      <td>33.0</td>\n",
       "      <td>38.0</td>\n",
       "    </tr>\n",
       "    <tr>\n",
       "      <th>warm</th>\n",
       "      <td>18.0</td>\n",
       "      <td>11.0</td>\n",
       "    </tr>\n",
       "    <tr>\n",
       "      <th rowspan=\"4\" valign=\"top\">young</th>\n",
       "      <th>cold</th>\n",
       "      <td>NaN</td>\n",
       "      <td>1.0</td>\n",
       "    </tr>\n",
       "    <tr>\n",
       "      <th>cool</th>\n",
       "      <td>3.0</td>\n",
       "      <td>12.0</td>\n",
       "    </tr>\n",
       "    <tr>\n",
       "      <th>normal</th>\n",
       "      <td>2.0</td>\n",
       "      <td>5.0</td>\n",
       "    </tr>\n",
       "    <tr>\n",
       "      <th>warm</th>\n",
       "      <td>1.0</td>\n",
       "      <td>NaN</td>\n",
       "    </tr>\n",
       "  </tbody>\n",
       "</table>\n",
       "</div>"
      ],
      "text/plain": [
       "surgery                      no   yes\n",
       "age   temp_of_extremities            \n",
       "adult cold                  7.0  19.0\n",
       "      cool                 55.0  94.0\n",
       "      normal               33.0  38.0\n",
       "      warm                 18.0  11.0\n",
       "young cold                  NaN   1.0\n",
       "      cool                  3.0  12.0\n",
       "      normal                2.0   5.0\n",
       "      warm                  1.0   NaN"
      ]
     },
     "execution_count": 11,
     "metadata": {},
     "output_type": "execute_result"
    }
   ],
   "source": [
    "c=horse.groupby([\"age\",\"temp_of_extremities\",\"surgery\"]).count()[\"lesion_1\"].unstack()\n",
    "c"
   ]
  },
  {
   "cell_type": "code",
   "execution_count": 12,
   "metadata": {},
   "outputs": [
    {
     "data": {
      "image/png": "[encoded data removed]",
      "text/plain": [
       "<Figure size 432x288 with 1 Axes>"
      ]
     },
     "metadata": {
      "needs_background": "light"
     },
     "output_type": "display_data"
    }
   ],
   "source": [
    "c.plot.bar()\n",
    "plt.show()"
   ]
  },
  {
   "cell_type": "code",
   "execution_count": 13,
   "metadata": {},
   "outputs": [
    {
     "data": {
      "text/html": [
       "<div>\n",
       "<style scoped>\n",
       "    .dataframe tbody tr th:only-of-type {\n",
       "        vertical-align: middle;\n",
       "    }\n",
       "\n",
       "    .dataframe tbody tr th {\n",
       "        vertical-align: top;\n",
       "    }\n",
       "\n",
       "    .dataframe thead th {\n",
       "        text-align: right;\n",
       "    }\n",
       "</style>\n",
       "<table border=\"1\" class=\"dataframe\">\n",
       "  <thead>\n",
       "    <tr style=\"text-align: right;\">\n",
       "      <th></th>\n",
       "      <th>surgery</th>\n",
       "      <th>age</th>\n",
       "      <th>hospital_number</th>\n",
       "      <th>rectal_temp</th>\n",
       "      <th>pulse</th>\n",
       "      <th>respiratory_rate</th>\n",
       "      <th>temp_of_extremities</th>\n",
       "      <th>peripheral_pulse</th>\n",
       "      <th>mucous_membrane</th>\n",
       "      <th>capillary_refill_time</th>\n",
       "      <th>...</th>\n",
       "      <th>packed_cell_volume</th>\n",
       "      <th>total_protein</th>\n",
       "      <th>abdomo_appearance</th>\n",
       "      <th>abdomo_protein</th>\n",
       "      <th>outcome</th>\n",
       "      <th>surgical_lesion</th>\n",
       "      <th>lesion_1</th>\n",
       "      <th>lesion_2</th>\n",
       "      <th>lesion_3</th>\n",
       "      <th>cp_data</th>\n",
       "    </tr>\n",
       "  </thead>\n",
       "  <tbody>\n",
       "    <tr>\n",
       "      <th>0</th>\n",
       "      <td>0</td>\n",
       "      <td>0</td>\n",
       "      <td>530101</td>\n",
       "      <td>38.5</td>\n",
       "      <td>66.0</td>\n",
       "      <td>28.0</td>\n",
       "      <td>1</td>\n",
       "      <td>3</td>\n",
       "      <td>3</td>\n",
       "      <td>2</td>\n",
       "      <td>...</td>\n",
       "      <td>45.0</td>\n",
       "      <td>8.4</td>\n",
       "      <td>1</td>\n",
       "      <td>3.039604</td>\n",
       "      <td>0</td>\n",
       "      <td>0</td>\n",
       "      <td>11300</td>\n",
       "      <td>0</td>\n",
       "      <td>0</td>\n",
       "      <td>0</td>\n",
       "    </tr>\n",
       "    <tr>\n",
       "      <th>1</th>\n",
       "      <td>1</td>\n",
       "      <td>0</td>\n",
       "      <td>534817</td>\n",
       "      <td>39.2</td>\n",
       "      <td>88.0</td>\n",
       "      <td>20.0</td>\n",
       "      <td>1</td>\n",
       "      <td>2</td>\n",
       "      <td>4</td>\n",
       "      <td>1</td>\n",
       "      <td>...</td>\n",
       "      <td>50.0</td>\n",
       "      <td>85.0</td>\n",
       "      <td>1</td>\n",
       "      <td>2.000000</td>\n",
       "      <td>1</td>\n",
       "      <td>0</td>\n",
       "      <td>2208</td>\n",
       "      <td>0</td>\n",
       "      <td>0</td>\n",
       "      <td>0</td>\n",
       "    </tr>\n",
       "    <tr>\n",
       "      <th>2</th>\n",
       "      <td>0</td>\n",
       "      <td>0</td>\n",
       "      <td>530334</td>\n",
       "      <td>38.3</td>\n",
       "      <td>40.0</td>\n",
       "      <td>24.0</td>\n",
       "      <td>2</td>\n",
       "      <td>2</td>\n",
       "      <td>5</td>\n",
       "      <td>1</td>\n",
       "      <td>...</td>\n",
       "      <td>33.0</td>\n",
       "      <td>6.7</td>\n",
       "      <td>1</td>\n",
       "      <td>3.039604</td>\n",
       "      <td>2</td>\n",
       "      <td>0</td>\n",
       "      <td>0</td>\n",
       "      <td>0</td>\n",
       "      <td>0</td>\n",
       "      <td>1</td>\n",
       "    </tr>\n",
       "  </tbody>\n",
       "</table>\n",
       "<p>3 rows × 28 columns</p>\n",
       "</div>"
      ],
      "text/plain": [
       "   surgery  age  hospital_number  rectal_temp  pulse  respiratory_rate  \\\n",
       "0        0    0           530101         38.5   66.0              28.0   \n",
       "1        1    0           534817         39.2   88.0              20.0   \n",
       "2        0    0           530334         38.3   40.0              24.0   \n",
       "\n",
       "   temp_of_extremities  peripheral_pulse  mucous_membrane  \\\n",
       "0                    1                 3                3   \n",
       "1                    1                 2                4   \n",
       "2                    2                 2                5   \n",
       "\n",
       "   capillary_refill_time   ...     packed_cell_volume  total_protein  \\\n",
       "0                      2   ...                   45.0            8.4   \n",
       "1                      1   ...                   50.0           85.0   \n",
       "2                      1   ...                   33.0            6.7   \n",
       "\n",
       "   abdomo_appearance  abdomo_protein  outcome  surgical_lesion  lesion_1  \\\n",
       "0                  1        3.039604        0                0     11300   \n",
       "1                  1        2.000000        1                0      2208   \n",
       "2                  1        3.039604        2                0         0   \n",
       "\n",
       "   lesion_2  lesion_3  cp_data  \n",
       "0         0         0        0  \n",
       "1         0         0        0  \n",
       "2         0         0        1  \n",
       "\n",
       "[3 rows x 28 columns]"
      ]
     },
     "execution_count": 13,
     "metadata": {},
     "output_type": "execute_result"
    }
   ],
   "source": [
    "le=preprocessing.LabelEncoder()\n",
    "for i in horse.columns:\n",
    "    if((i != \"hospital_number\") and  (i != \"rectal_temp\") and (i != \"pulse\") and (i != \"respiratory_rate\") and (i != \"nasogastric_reflux_ph\") and  (i != \"packed_cell_volume\")and  (i != \"total_protein\") and (i != \"abdomo_protein\") and (i != \"lesion_1\") and (i != \"lesion_2\") and (i != \"lesion_3\")):\n",
    "        horse[i]=le.fit_transform(horse[i])\n",
    "        \n",
    "horse.head(3)"
   ]
  },
  {
   "cell_type": "code",
   "execution_count": 14,
   "metadata": {},
   "outputs": [
    {
     "data": {
      "text/plain": [
       "1    180\n",
       "0    119\n",
       "Name: surgery, dtype: int64"
      ]
     },
     "execution_count": 14,
     "metadata": {},
     "output_type": "execute_result"
    }
   ],
   "source": [
    "horse[\"surgery\"].value_counts()"
   ]
  },
  {
   "cell_type": "code",
   "execution_count": 15,
   "metadata": {},
   "outputs": [],
   "source": [
    "#0-> no and 1-> yes  age 0->adult 1->young"
   ]
  },
  {
   "cell_type": "code",
   "execution_count": 16,
   "metadata": {},
   "outputs": [
    {
     "data": {
      "text/html": [
       "<div>\n",
       "<style scoped>\n",
       "    .dataframe tbody tr th:only-of-type {\n",
       "        vertical-align: middle;\n",
       "    }\n",
       "\n",
       "    .dataframe tbody tr th {\n",
       "        vertical-align: top;\n",
       "    }\n",
       "\n",
       "    .dataframe thead th {\n",
       "        text-align: right;\n",
       "    }\n",
       "</style>\n",
       "<table border=\"1\" class=\"dataframe\">\n",
       "  <thead>\n",
       "    <tr style=\"text-align: right;\">\n",
       "      <th></th>\n",
       "      <th>0</th>\n",
       "      <th>1</th>\n",
       "      <th>2</th>\n",
       "      <th>3</th>\n",
       "      <th>4</th>\n",
       "      <th>5</th>\n",
       "      <th>6</th>\n",
       "      <th>7</th>\n",
       "      <th>8</th>\n",
       "      <th>9</th>\n",
       "      <th>...</th>\n",
       "      <th>18</th>\n",
       "      <th>19</th>\n",
       "      <th>20</th>\n",
       "      <th>21</th>\n",
       "      <th>22</th>\n",
       "      <th>23</th>\n",
       "      <th>24</th>\n",
       "      <th>25</th>\n",
       "      <th>26</th>\n",
       "      <th>27</th>\n",
       "    </tr>\n",
       "  </thead>\n",
       "  <tbody>\n",
       "    <tr>\n",
       "      <th>0</th>\n",
       "      <td>0.0</td>\n",
       "      <td>0.0</td>\n",
       "      <td>0.002428</td>\n",
       "      <td>0.574074</td>\n",
       "      <td>0.233766</td>\n",
       "      <td>0.227273</td>\n",
       "      <td>0.333333</td>\n",
       "      <td>1.000000</td>\n",
       "      <td>0.6</td>\n",
       "      <td>1.0</td>\n",
       "      <td>...</td>\n",
       "      <td>0.423077</td>\n",
       "      <td>0.059510</td>\n",
       "      <td>0.5</td>\n",
       "      <td>0.29396</td>\n",
       "      <td>0.0</td>\n",
       "      <td>0.0</td>\n",
       "      <td>0.274872</td>\n",
       "      <td>0.0</td>\n",
       "      <td>0.0</td>\n",
       "      <td>0.0</td>\n",
       "    </tr>\n",
       "    <tr>\n",
       "      <th>1</th>\n",
       "      <td>1.0</td>\n",
       "      <td>0.0</td>\n",
       "      <td>0.003414</td>\n",
       "      <td>0.703704</td>\n",
       "      <td>0.376623</td>\n",
       "      <td>0.136364</td>\n",
       "      <td>0.333333</td>\n",
       "      <td>0.666667</td>\n",
       "      <td>0.8</td>\n",
       "      <td>0.5</td>\n",
       "      <td>...</td>\n",
       "      <td>0.519231</td>\n",
       "      <td>0.953326</td>\n",
       "      <td>0.5</td>\n",
       "      <td>0.19000</td>\n",
       "      <td>0.5</td>\n",
       "      <td>0.0</td>\n",
       "      <td>0.053710</td>\n",
       "      <td>0.0</td>\n",
       "      <td>0.0</td>\n",
       "      <td>0.0</td>\n",
       "    </tr>\n",
       "    <tr>\n",
       "      <th>2</th>\n",
       "      <td>0.0</td>\n",
       "      <td>0.0</td>\n",
       "      <td>0.002477</td>\n",
       "      <td>0.537037</td>\n",
       "      <td>0.064935</td>\n",
       "      <td>0.181818</td>\n",
       "      <td>0.666667</td>\n",
       "      <td>0.666667</td>\n",
       "      <td>1.0</td>\n",
       "      <td>0.5</td>\n",
       "      <td>...</td>\n",
       "      <td>0.192308</td>\n",
       "      <td>0.039673</td>\n",
       "      <td>0.5</td>\n",
       "      <td>0.29396</td>\n",
       "      <td>1.0</td>\n",
       "      <td>0.0</td>\n",
       "      <td>0.000000</td>\n",
       "      <td>0.0</td>\n",
       "      <td>0.0</td>\n",
       "      <td>1.0</td>\n",
       "    </tr>\n",
       "  </tbody>\n",
       "</table>\n",
       "<p>3 rows × 28 columns</p>\n",
       "</div>"
      ],
      "text/plain": [
       "    0    1         2         3         4         5         6         7    8   \\\n",
       "0  0.0  0.0  0.002428  0.574074  0.233766  0.227273  0.333333  1.000000  0.6   \n",
       "1  1.0  0.0  0.003414  0.703704  0.376623  0.136364  0.333333  0.666667  0.8   \n",
       "2  0.0  0.0  0.002477  0.537037  0.064935  0.181818  0.666667  0.666667  1.0   \n",
       "\n",
       "    9  ...         18        19   20       21   22   23        24   25   26  \\\n",
       "0  1.0 ...   0.423077  0.059510  0.5  0.29396  0.0  0.0  0.274872  0.0  0.0   \n",
       "1  0.5 ...   0.519231  0.953326  0.5  0.19000  0.5  0.0  0.053710  0.0  0.0   \n",
       "2  0.5 ...   0.192308  0.039673  0.5  0.29396  1.0  0.0  0.000000  0.0  0.0   \n",
       "\n",
       "    27  \n",
       "0  0.0  \n",
       "1  0.0  \n",
       "2  1.0  \n",
       "\n",
       "[3 rows x 28 columns]"
      ]
     },
     "execution_count": 16,
     "metadata": {},
     "output_type": "execute_result"
    }
   ],
   "source": [
    "scaler = MinMaxScaler()\n",
    "\n",
    "norm_horse= pd.DataFrame(scaler.fit_transform(horse))\n",
    "norm_horse.head(3)"
   ]
  },
  {
   "cell_type": "code",
   "execution_count": 17,
   "metadata": {},
   "outputs": [],
   "source": [
    "norm_horse.columns=[\"surgery\",\"age\",\"hospital_number\",\"rectal_temp\",\"pulse\",\"respiratory_rate\",\"temp_of_extremities\",\"peripheral_pulse\",\"mucous_membrane\",\"capillary_refill_time\",\"pain\",\"peristalsis\",\"abdominal_distention\",\"nasogastric_tube\",\"nasogastric_reflux\",\"nasogastric_reflux_ph\",\"rectal_exam_feces\",\"abdomen\",\"packed_cell_volume\",\"total_protein\",\"abdomo_appearance\",\"abdomo_protein\",\"outcome\",\"surgical_lesion\",\"lesion_1\",\"lesion_2\",\"lesion_3\",\"cp_data\"]"
   ]
  },
  {
   "cell_type": "code",
   "execution_count": 18,
   "metadata": {},
   "outputs": [
    {
     "data": {
      "text/html": [
       "<div>\n",
       "<style scoped>\n",
       "    .dataframe tbody tr th:only-of-type {\n",
       "        vertical-align: middle;\n",
       "    }\n",
       "\n",
       "    .dataframe tbody tr th {\n",
       "        vertical-align: top;\n",
       "    }\n",
       "\n",
       "    .dataframe thead th {\n",
       "        text-align: right;\n",
       "    }\n",
       "</style>\n",
       "<table border=\"1\" class=\"dataframe\">\n",
       "  <thead>\n",
       "    <tr style=\"text-align: right;\">\n",
       "      <th></th>\n",
       "      <th>surgery</th>\n",
       "      <th>age</th>\n",
       "      <th>hospital_number</th>\n",
       "      <th>rectal_temp</th>\n",
       "      <th>pulse</th>\n",
       "      <th>respiratory_rate</th>\n",
       "      <th>temp_of_extremities</th>\n",
       "      <th>peripheral_pulse</th>\n",
       "      <th>mucous_membrane</th>\n",
       "      <th>capillary_refill_time</th>\n",
       "      <th>...</th>\n",
       "      <th>packed_cell_volume</th>\n",
       "      <th>total_protein</th>\n",
       "      <th>abdomo_appearance</th>\n",
       "      <th>abdomo_protein</th>\n",
       "      <th>outcome</th>\n",
       "      <th>surgical_lesion</th>\n",
       "      <th>lesion_1</th>\n",
       "      <th>lesion_2</th>\n",
       "      <th>lesion_3</th>\n",
       "      <th>cp_data</th>\n",
       "    </tr>\n",
       "  </thead>\n",
       "  <tbody>\n",
       "    <tr>\n",
       "      <th>0</th>\n",
       "      <td>0.0</td>\n",
       "      <td>0.0</td>\n",
       "      <td>0.002428</td>\n",
       "      <td>0.574074</td>\n",
       "      <td>0.233766</td>\n",
       "      <td>0.227273</td>\n",
       "      <td>0.333333</td>\n",
       "      <td>1.000000</td>\n",
       "      <td>0.6</td>\n",
       "      <td>1.0</td>\n",
       "      <td>...</td>\n",
       "      <td>0.423077</td>\n",
       "      <td>0.059510</td>\n",
       "      <td>0.5</td>\n",
       "      <td>0.29396</td>\n",
       "      <td>0.0</td>\n",
       "      <td>0.0</td>\n",
       "      <td>0.274872</td>\n",
       "      <td>0.0</td>\n",
       "      <td>0.0</td>\n",
       "      <td>0.0</td>\n",
       "    </tr>\n",
       "    <tr>\n",
       "      <th>1</th>\n",
       "      <td>1.0</td>\n",
       "      <td>0.0</td>\n",
       "      <td>0.003414</td>\n",
       "      <td>0.703704</td>\n",
       "      <td>0.376623</td>\n",
       "      <td>0.136364</td>\n",
       "      <td>0.333333</td>\n",
       "      <td>0.666667</td>\n",
       "      <td>0.8</td>\n",
       "      <td>0.5</td>\n",
       "      <td>...</td>\n",
       "      <td>0.519231</td>\n",
       "      <td>0.953326</td>\n",
       "      <td>0.5</td>\n",
       "      <td>0.19000</td>\n",
       "      <td>0.5</td>\n",
       "      <td>0.0</td>\n",
       "      <td>0.053710</td>\n",
       "      <td>0.0</td>\n",
       "      <td>0.0</td>\n",
       "      <td>0.0</td>\n",
       "    </tr>\n",
       "    <tr>\n",
       "      <th>2</th>\n",
       "      <td>0.0</td>\n",
       "      <td>0.0</td>\n",
       "      <td>0.002477</td>\n",
       "      <td>0.537037</td>\n",
       "      <td>0.064935</td>\n",
       "      <td>0.181818</td>\n",
       "      <td>0.666667</td>\n",
       "      <td>0.666667</td>\n",
       "      <td>1.0</td>\n",
       "      <td>0.5</td>\n",
       "      <td>...</td>\n",
       "      <td>0.192308</td>\n",
       "      <td>0.039673</td>\n",
       "      <td>0.5</td>\n",
       "      <td>0.29396</td>\n",
       "      <td>1.0</td>\n",
       "      <td>0.0</td>\n",
       "      <td>0.000000</td>\n",
       "      <td>0.0</td>\n",
       "      <td>0.0</td>\n",
       "      <td>1.0</td>\n",
       "    </tr>\n",
       "  </tbody>\n",
       "</table>\n",
       "<p>3 rows × 28 columns</p>\n",
       "</div>"
      ],
      "text/plain": [
       "   surgery  age  hospital_number  rectal_temp     pulse  respiratory_rate  \\\n",
       "0      0.0  0.0         0.002428     0.574074  0.233766          0.227273   \n",
       "1      1.0  0.0         0.003414     0.703704  0.376623          0.136364   \n",
       "2      0.0  0.0         0.002477     0.537037  0.064935          0.181818   \n",
       "\n",
       "   temp_of_extremities  peripheral_pulse  mucous_membrane  \\\n",
       "0             0.333333          1.000000              0.6   \n",
       "1             0.333333          0.666667              0.8   \n",
       "2             0.666667          0.666667              1.0   \n",
       "\n",
       "   capillary_refill_time   ...     packed_cell_volume  total_protein  \\\n",
       "0                    1.0   ...               0.423077       0.059510   \n",
       "1                    0.5   ...               0.519231       0.953326   \n",
       "2                    0.5   ...               0.192308       0.039673   \n",
       "\n",
       "   abdomo_appearance  abdomo_protein  outcome  surgical_lesion  lesion_1  \\\n",
       "0                0.5         0.29396      0.0              0.0  0.274872   \n",
       "1                0.5         0.19000      0.5              0.0  0.053710   \n",
       "2                0.5         0.29396      1.0              0.0  0.000000   \n",
       "\n",
       "   lesion_2  lesion_3  cp_data  \n",
       "0       0.0       0.0      0.0  \n",
       "1       0.0       0.0      0.0  \n",
       "2       0.0       0.0      1.0  \n",
       "\n",
       "[3 rows x 28 columns]"
      ]
     },
     "execution_count": 18,
     "metadata": {},
     "output_type": "execute_result"
    }
   ],
   "source": [
    "norm_horse.head(3)"
   ]
  },
  {
   "cell_type": "code",
   "execution_count": 21,
   "metadata": {},
   "outputs": [
    {
     "data": {
      "text/plain": [
       "lesion_3                 0.003344\n",
       "lesion_2                 0.008372\n",
       "abdomo_protein           0.012996\n",
       "rectal_temp              0.014746\n",
       "nasogastric_reflux_ph    0.016229\n",
       "lesion_1                 0.017308\n",
       "pulse                    0.031815\n",
       "respiratory_rate         0.032457\n",
       "packed_cell_volume       0.036363\n",
       "peripheral_pulse         0.043815\n",
       "capillary_refill_time    0.050908\n",
       "temp_of_extremities      0.068528\n",
       "abdomo_appearance        0.072916\n",
       "age                      0.074072\n",
       "mucous_membrane          0.088445\n",
       "total_protein            0.090664\n",
       "peristalsis              0.093765\n",
       "pain                     0.098936\n",
       "abdomen                  0.099751\n",
       "hospital_number          0.102419\n",
       "nasogastric_reflux       0.116832\n",
       "abdominal_distention     0.122117\n",
       "rectal_exam_feces        0.153709\n",
       "nasogastric_tube         0.181163\n",
       "outcome                  0.185304\n",
       "cp_data                  0.222217\n",
       "surgical_lesion          0.232430\n",
       "surgery                  0.240399\n",
       "dtype: float64"
      ]
     },
     "execution_count": 21,
     "metadata": {},
     "output_type": "execute_result"
    }
   ],
   "source": [
    "norm_horse.var().sort_values()"
   ]
  },
  {
   "cell_type": "code",
   "execution_count": 22,
   "metadata": {},
   "outputs": [],
   "source": [
    "x=norm_horse.loc[:,[\"surgical_lesion\",\"surgery\",\"cp_data\",\"outcome\",\"nasogastric_tube\",\"rectal_exam_feces\",\"abdominal_distention\",\"nasogastric_reflux\",\"hospital_number\",\"abdomen\",\"pain\",\"peristalsis\",\"total_protein\"]]"
   ]
  },
  {
   "cell_type": "code",
   "execution_count": 24,
   "metadata": {},
   "outputs": [
    {
     "data": {
      "text/html": [
       "<div>\n",
       "<style scoped>\n",
       "    .dataframe tbody tr th:only-of-type {\n",
       "        vertical-align: middle;\n",
       "    }\n",
       "\n",
       "    .dataframe tbody tr th {\n",
       "        vertical-align: top;\n",
       "    }\n",
       "\n",
       "    .dataframe thead th {\n",
       "        text-align: right;\n",
       "    }\n",
       "</style>\n",
       "<table border=\"1\" class=\"dataframe\">\n",
       "  <thead>\n",
       "    <tr style=\"text-align: right;\">\n",
       "      <th></th>\n",
       "      <th>surgical_lesion</th>\n",
       "      <th>surgery</th>\n",
       "      <th>cp_data</th>\n",
       "      <th>outcome</th>\n",
       "      <th>nasogastric_tube</th>\n",
       "      <th>rectal_exam_feces</th>\n",
       "      <th>abdominal_distention</th>\n",
       "      <th>nasogastric_reflux</th>\n",
       "      <th>hospital_number</th>\n",
       "      <th>abdomen</th>\n",
       "      <th>pain</th>\n",
       "      <th>peristalsis</th>\n",
       "      <th>total_protein</th>\n",
       "    </tr>\n",
       "  </thead>\n",
       "  <tbody>\n",
       "    <tr>\n",
       "      <th>surgical_lesion</th>\n",
       "      <td>1.000000</td>\n",
       "      <td>0.605023</td>\n",
       "      <td>0.045630</td>\n",
       "      <td>-0.332933</td>\n",
       "      <td>0.023299</td>\n",
       "      <td>-0.199348</td>\n",
       "      <td>-0.149064</td>\n",
       "      <td>-0.211128</td>\n",
       "      <td>0.102425</td>\n",
       "      <td>-0.316903</td>\n",
       "      <td>0.276427</td>\n",
       "      <td>-0.148574</td>\n",
       "      <td>-0.113224</td>\n",
       "    </tr>\n",
       "    <tr>\n",
       "      <th>surgery</th>\n",
       "      <td>0.605023</td>\n",
       "      <td>1.000000</td>\n",
       "      <td>0.005827</td>\n",
       "      <td>-0.189222</td>\n",
       "      <td>0.066982</td>\n",
       "      <td>-0.171611</td>\n",
       "      <td>-0.150197</td>\n",
       "      <td>-0.083910</td>\n",
       "      <td>0.126044</td>\n",
       "      <td>-0.297202</td>\n",
       "      <td>0.228871</td>\n",
       "      <td>-0.061546</td>\n",
       "      <td>0.042420</td>\n",
       "    </tr>\n",
       "    <tr>\n",
       "      <th>cp_data</th>\n",
       "      <td>0.045630</td>\n",
       "      <td>0.005827</td>\n",
       "      <td>1.000000</td>\n",
       "      <td>-0.078066</td>\n",
       "      <td>-0.011439</td>\n",
       "      <td>0.090057</td>\n",
       "      <td>0.101150</td>\n",
       "      <td>-0.030299</td>\n",
       "      <td>0.096711</td>\n",
       "      <td>0.062981</td>\n",
       "      <td>0.029084</td>\n",
       "      <td>0.046158</td>\n",
       "      <td>-0.429219</td>\n",
       "    </tr>\n",
       "    <tr>\n",
       "      <th>outcome</th>\n",
       "      <td>-0.332933</td>\n",
       "      <td>-0.189222</td>\n",
       "      <td>-0.078066</td>\n",
       "      <td>1.000000</td>\n",
       "      <td>0.049156</td>\n",
       "      <td>0.193004</td>\n",
       "      <td>0.112309</td>\n",
       "      <td>0.181422</td>\n",
       "      <td>-0.106396</td>\n",
       "      <td>0.214875</td>\n",
       "      <td>-0.161964</td>\n",
       "      <td>0.165844</td>\n",
       "      <td>0.245657</td>\n",
       "    </tr>\n",
       "    <tr>\n",
       "      <th>nasogastric_tube</th>\n",
       "      <td>0.023299</td>\n",
       "      <td>0.066982</td>\n",
       "      <td>-0.011439</td>\n",
       "      <td>0.049156</td>\n",
       "      <td>1.000000</td>\n",
       "      <td>-0.052953</td>\n",
       "      <td>-0.053246</td>\n",
       "      <td>0.102928</td>\n",
       "      <td>-0.032929</td>\n",
       "      <td>0.060445</td>\n",
       "      <td>0.099528</td>\n",
       "      <td>-0.018284</td>\n",
       "      <td>-0.026171</td>\n",
       "    </tr>\n",
       "    <tr>\n",
       "      <th>rectal_exam_feces</th>\n",
       "      <td>-0.199348</td>\n",
       "      <td>-0.171611</td>\n",
       "      <td>0.090057</td>\n",
       "      <td>0.193004</td>\n",
       "      <td>-0.052953</td>\n",
       "      <td>1.000000</td>\n",
       "      <td>0.009803</td>\n",
       "      <td>0.072262</td>\n",
       "      <td>-0.006083</td>\n",
       "      <td>0.237937</td>\n",
       "      <td>-0.130667</td>\n",
       "      <td>0.113293</td>\n",
       "      <td>-0.054706</td>\n",
       "    </tr>\n",
       "    <tr>\n",
       "      <th>abdominal_distention</th>\n",
       "      <td>-0.149064</td>\n",
       "      <td>-0.150197</td>\n",
       "      <td>0.101150</td>\n",
       "      <td>0.112309</td>\n",
       "      <td>-0.053246</td>\n",
       "      <td>0.009803</td>\n",
       "      <td>1.000000</td>\n",
       "      <td>0.058756</td>\n",
       "      <td>-0.080212</td>\n",
       "      <td>0.114305</td>\n",
       "      <td>-0.065390</td>\n",
       "      <td>-0.027118</td>\n",
       "      <td>-0.012287</td>\n",
       "    </tr>\n",
       "    <tr>\n",
       "      <th>nasogastric_reflux</th>\n",
       "      <td>-0.211128</td>\n",
       "      <td>-0.083910</td>\n",
       "      <td>-0.030299</td>\n",
       "      <td>0.181422</td>\n",
       "      <td>0.102928</td>\n",
       "      <td>0.072262</td>\n",
       "      <td>0.058756</td>\n",
       "      <td>1.000000</td>\n",
       "      <td>0.042219</td>\n",
       "      <td>0.071811</td>\n",
       "      <td>-0.050850</td>\n",
       "      <td>0.146367</td>\n",
       "      <td>0.108381</td>\n",
       "    </tr>\n",
       "    <tr>\n",
       "      <th>hospital_number</th>\n",
       "      <td>0.102425</td>\n",
       "      <td>0.126044</td>\n",
       "      <td>0.096711</td>\n",
       "      <td>-0.106396</td>\n",
       "      <td>-0.032929</td>\n",
       "      <td>-0.006083</td>\n",
       "      <td>-0.080212</td>\n",
       "      <td>0.042219</td>\n",
       "      <td>1.000000</td>\n",
       "      <td>-0.155145</td>\n",
       "      <td>0.120780</td>\n",
       "      <td>0.065362</td>\n",
       "      <td>-0.212407</td>\n",
       "    </tr>\n",
       "    <tr>\n",
       "      <th>abdomen</th>\n",
       "      <td>-0.316903</td>\n",
       "      <td>-0.297202</td>\n",
       "      <td>0.062981</td>\n",
       "      <td>0.214875</td>\n",
       "      <td>0.060445</td>\n",
       "      <td>0.237937</td>\n",
       "      <td>0.114305</td>\n",
       "      <td>0.071811</td>\n",
       "      <td>-0.155145</td>\n",
       "      <td>1.000000</td>\n",
       "      <td>-0.296097</td>\n",
       "      <td>0.108243</td>\n",
       "      <td>-0.029447</td>\n",
       "    </tr>\n",
       "    <tr>\n",
       "      <th>pain</th>\n",
       "      <td>0.276427</td>\n",
       "      <td>0.228871</td>\n",
       "      <td>0.029084</td>\n",
       "      <td>-0.161964</td>\n",
       "      <td>0.099528</td>\n",
       "      <td>-0.130667</td>\n",
       "      <td>-0.065390</td>\n",
       "      <td>-0.050850</td>\n",
       "      <td>0.120780</td>\n",
       "      <td>-0.296097</td>\n",
       "      <td>1.000000</td>\n",
       "      <td>-0.024363</td>\n",
       "      <td>-0.075915</td>\n",
       "    </tr>\n",
       "    <tr>\n",
       "      <th>peristalsis</th>\n",
       "      <td>-0.148574</td>\n",
       "      <td>-0.061546</td>\n",
       "      <td>0.046158</td>\n",
       "      <td>0.165844</td>\n",
       "      <td>-0.018284</td>\n",
       "      <td>0.113293</td>\n",
       "      <td>-0.027118</td>\n",
       "      <td>0.146367</td>\n",
       "      <td>0.065362</td>\n",
       "      <td>0.108243</td>\n",
       "      <td>-0.024363</td>\n",
       "      <td>1.000000</td>\n",
       "      <td>-0.116132</td>\n",
       "    </tr>\n",
       "    <tr>\n",
       "      <th>total_protein</th>\n",
       "      <td>-0.113224</td>\n",
       "      <td>0.042420</td>\n",
       "      <td>-0.429219</td>\n",
       "      <td>0.245657</td>\n",
       "      <td>-0.026171</td>\n",
       "      <td>-0.054706</td>\n",
       "      <td>-0.012287</td>\n",
       "      <td>0.108381</td>\n",
       "      <td>-0.212407</td>\n",
       "      <td>-0.029447</td>\n",
       "      <td>-0.075915</td>\n",
       "      <td>-0.116132</td>\n",
       "      <td>1.000000</td>\n",
       "    </tr>\n",
       "  </tbody>\n",
       "</table>\n",
       "</div>"
      ],
      "text/plain": [
       "                      surgical_lesion   surgery   cp_data   outcome  \\\n",
       "surgical_lesion              1.000000  0.605023  0.045630 -0.332933   \n",
       "surgery                      0.605023  1.000000  0.005827 -0.189222   \n",
       "cp_data                      0.045630  0.005827  1.000000 -0.078066   \n",
       "outcome                     -0.332933 -0.189222 -0.078066  1.000000   \n",
       "nasogastric_tube             0.023299  0.066982 -0.011439  0.049156   \n",
       "rectal_exam_feces           -0.199348 -0.171611  0.090057  0.193004   \n",
       "abdominal_distention        -0.149064 -0.150197  0.101150  0.112309   \n",
       "nasogastric_reflux          -0.211128 -0.083910 -0.030299  0.181422   \n",
       "hospital_number              0.102425  0.126044  0.096711 -0.106396   \n",
       "abdomen                     -0.316903 -0.297202  0.062981  0.214875   \n",
       "pain                         0.276427  0.228871  0.029084 -0.161964   \n",
       "peristalsis                 -0.148574 -0.061546  0.046158  0.165844   \n",
       "total_protein               -0.113224  0.042420 -0.429219  0.245657   \n",
       "\n",
       "                      nasogastric_tube  rectal_exam_feces  \\\n",
       "surgical_lesion               0.023299          -0.199348   \n",
       "surgery                       0.066982          -0.171611   \n",
       "cp_data                      -0.011439           0.090057   \n",
       "outcome                       0.049156           0.193004   \n",
       "nasogastric_tube              1.000000          -0.052953   \n",
       "rectal_exam_feces            -0.052953           1.000000   \n",
       "abdominal_distention         -0.053246           0.009803   \n",
       "nasogastric_reflux            0.102928           0.072262   \n",
       "hospital_number              -0.032929          -0.006083   \n",
       "abdomen                       0.060445           0.237937   \n",
       "pain                          0.099528          -0.130667   \n",
       "peristalsis                  -0.018284           0.113293   \n",
       "total_protein                -0.026171          -0.054706   \n",
       "\n",
       "                      abdominal_distention  nasogastric_reflux  \\\n",
       "surgical_lesion                  -0.149064           -0.211128   \n",
       "surgery                          -0.150197           -0.083910   \n",
       "cp_data                           0.101150           -0.030299   \n",
       "outcome                           0.112309            0.181422   \n",
       "nasogastric_tube                 -0.053246            0.102928   \n",
       "rectal_exam_feces                 0.009803            0.072262   \n",
       "abdominal_distention              1.000000            0.058756   \n",
       "nasogastric_reflux                0.058756            1.000000   \n",
       "hospital_number                  -0.080212            0.042219   \n",
       "abdomen                           0.114305            0.071811   \n",
       "pain                             -0.065390           -0.050850   \n",
       "peristalsis                      -0.027118            0.146367   \n",
       "total_protein                    -0.012287            0.108381   \n",
       "\n",
       "                      hospital_number   abdomen      pain  peristalsis  \\\n",
       "surgical_lesion              0.102425 -0.316903  0.276427    -0.148574   \n",
       "surgery                      0.126044 -0.297202  0.228871    -0.061546   \n",
       "cp_data                      0.096711  0.062981  0.029084     0.046158   \n",
       "outcome                     -0.106396  0.214875 -0.161964     0.165844   \n",
       "nasogastric_tube            -0.032929  0.060445  0.099528    -0.018284   \n",
       "rectal_exam_feces           -0.006083  0.237937 -0.130667     0.113293   \n",
       "abdominal_distention        -0.080212  0.114305 -0.065390    -0.027118   \n",
       "nasogastric_reflux           0.042219  0.071811 -0.050850     0.146367   \n",
       "hospital_number              1.000000 -0.155145  0.120780     0.065362   \n",
       "abdomen                     -0.155145  1.000000 -0.296097     0.108243   \n",
       "pain                         0.120780 -0.296097  1.000000    -0.024363   \n",
       "peristalsis                  0.065362  0.108243 -0.024363     1.000000   \n",
       "total_protein               -0.212407 -0.029447 -0.075915    -0.116132   \n",
       "\n",
       "                      total_protein  \n",
       "surgical_lesion           -0.113224  \n",
       "surgery                    0.042420  \n",
       "cp_data                   -0.429219  \n",
       "outcome                    0.245657  \n",
       "nasogastric_tube          -0.026171  \n",
       "rectal_exam_feces         -0.054706  \n",
       "abdominal_distention      -0.012287  \n",
       "nasogastric_reflux         0.108381  \n",
       "hospital_number           -0.212407  \n",
       "abdomen                   -0.029447  \n",
       "pain                      -0.075915  \n",
       "peristalsis               -0.116132  \n",
       "total_protein              1.000000  "
      ]
     },
     "execution_count": 24,
     "metadata": {},
     "output_type": "execute_result"
    }
   ],
   "source": [
    "x.corr()"
   ]
  },
  {
   "cell_type": "code",
   "execution_count": 25,
   "metadata": {},
   "outputs": [
    {
     "data": {
      "image/png": "[encoded data removed]",
      "text/plain": [
       "<Figure size 769.875x720 with 1 Axes>"
      ]
     },
     "metadata": {},
     "output_type": "display_data"
    }
   ],
   "source": [
    "sb.set_style(\"whitegrid\")\n",
    "sb.FacetGrid(norm_horse,hue=\"surgery\",size=10).map(plt.scatter,\"pain\",\"abdomen\").add_legend()\n",
    "plt.show() "
   ]
  },
  {
   "cell_type": "code",
   "execution_count": 26,
   "metadata": {},
   "outputs": [
    {
     "data": {
      "image/png": "[encoded data removed]",
      "text/plain": [
       "<Figure size 769.875x720 with 1 Axes>"
      ]
     },
     "metadata": {},
     "output_type": "display_data"
    }
   ],
   "source": [
    "sb.set_style(\"whitegrid\")\n",
    "sb.FacetGrid(norm_horse,hue=\"surgery\",size=10).map(plt.scatter,\"surgical_lesion\",\"abdomen\").add_legend()\n",
    "plt.show() "
   ]
  },
  {
   "cell_type": "code",
   "execution_count": 27,
   "metadata": {},
   "outputs": [
    {
     "data": {
      "image/png": "[encoded data removed]",
      "text/plain": [
       "<Figure size 769.875x720 with 1 Axes>"
      ]
     },
     "metadata": {},
     "output_type": "display_data"
    }
   ],
   "source": [
    "sb.set_style(\"whitegrid\")\n",
    "sb.FacetGrid(norm_horse,hue=\"surgery\",size=10).map(plt.scatter,\"surgical_lesion\",\"pain\").add_legend()\n",
    "plt.show() "
   ]
  },
  {
   "cell_type": "code",
   "execution_count": 29,
   "metadata": {},
   "outputs": [
    {
     "data": {
      "text/plain": [
       "(209, 3)"
      ]
     },
     "metadata": {},
     "output_type": "display_data"
    },
    {
     "data": {
      "text/plain": [
       "(90, 3)"
      ]
     },
     "metadata": {},
     "output_type": "display_data"
    }
   ],
   "source": [
    "feature=norm_horse.loc[:,[\"surgical_lesion\",\"abdomen\",\"pain\"]]\n",
    "dependent=norm_horse.loc[:,[\"surgery\"]]\n",
    "horse_train,horse_test,label_train,label_test=train_test_split(feature,dependent,test_size=0.30,random_state=0)\n",
    "display(horse_train.shape)\n",
    "display(horse_test.shape)"
   ]
  },
  {
   "cell_type": "code",
   "execution_count": 30,
   "metadata": {},
   "outputs": [
    {
     "name": "stdout",
     "output_type": "stream",
     "text": [
      "train accuracy\n"
     ]
    },
    {
     "data": {
      "text/plain": [
       "0.8277511961722488"
      ]
     },
     "metadata": {},
     "output_type": "display_data"
    },
    {
     "name": "stdout",
     "output_type": "stream",
     "text": [
      "test accuracy\n"
     ]
    },
    {
     "data": {
      "text/plain": [
       "0.7777777777777778"
      ]
     },
     "metadata": {},
     "output_type": "display_data"
    }
   ],
   "source": [
    "mod=LogisticRegression()\n",
    "\n",
    "mod.fit(horse_train,label_train)\n",
    "print(\"train accuracy\")\n",
    "display(mod.score(horse_train,label_train))\n",
    "\n",
    "print(\"test accuracy\")\n",
    "display(mod.score(horse_test,label_test))"
   ]
  },
  {
   "cell_type": "code",
   "execution_count": 31,
   "metadata": {},
   "outputs": [],
   "source": [
    "train_prediction=mod.predict(horse_train)\n",
    "test_prediction=mod.predict(horse_test)\n",
    "train_conf_matrix=confusion_matrix(label_train,train_prediction)\n",
    "test_conf_matrix=confusion_matrix(label_test,test_prediction)"
   ]
  },
  {
   "cell_type": "code",
   "execution_count": 32,
   "metadata": {},
   "outputs": [
    {
     "data": {
      "text/html": [
       "<div>\n",
       "<style scoped>\n",
       "    .dataframe tbody tr th:only-of-type {\n",
       "        vertical-align: middle;\n",
       "    }\n",
       "\n",
       "    .dataframe tbody tr th {\n",
       "        vertical-align: top;\n",
       "    }\n",
       "\n",
       "    .dataframe thead th {\n",
       "        text-align: right;\n",
       "    }\n",
       "</style>\n",
       "<table border=\"1\" class=\"dataframe\">\n",
       "  <thead>\n",
       "    <tr style=\"text-align: right;\">\n",
       "      <th></th>\n",
       "      <th>0.0</th>\n",
       "      <th>1.0</th>\n",
       "    </tr>\n",
       "  </thead>\n",
       "  <tbody>\n",
       "    <tr>\n",
       "      <th>0.0</th>\n",
       "      <td>72</td>\n",
       "      <td>22</td>\n",
       "    </tr>\n",
       "    <tr>\n",
       "      <th>1.0</th>\n",
       "      <td>14</td>\n",
       "      <td>101</td>\n",
       "    </tr>\n",
       "  </tbody>\n",
       "</table>\n",
       "</div>"
      ],
      "text/plain": [
       "     0.0  1.0\n",
       "0.0   72   22\n",
       "1.0   14  101"
      ]
     },
     "execution_count": 32,
     "metadata": {},
     "output_type": "execute_result"
    }
   ],
   "source": [
    "pd.DataFrame(train_conf_matrix,columns=mod.classes_,index=mod.classes_)"
   ]
  },
  {
   "cell_type": "code",
   "execution_count": 33,
   "metadata": {},
   "outputs": [
    {
     "data": {
      "text/html": [
       "<div>\n",
       "<style scoped>\n",
       "    .dataframe tbody tr th:only-of-type {\n",
       "        vertical-align: middle;\n",
       "    }\n",
       "\n",
       "    .dataframe tbody tr th {\n",
       "        vertical-align: top;\n",
       "    }\n",
       "\n",
       "    .dataframe thead th {\n",
       "        text-align: right;\n",
       "    }\n",
       "</style>\n",
       "<table border=\"1\" class=\"dataframe\">\n",
       "  <thead>\n",
       "    <tr style=\"text-align: right;\">\n",
       "      <th></th>\n",
       "      <th>0.0</th>\n",
       "      <th>1.0</th>\n",
       "    </tr>\n",
       "  </thead>\n",
       "  <tbody>\n",
       "    <tr>\n",
       "      <th>0.0</th>\n",
       "      <td>14</td>\n",
       "      <td>11</td>\n",
       "    </tr>\n",
       "    <tr>\n",
       "      <th>1.0</th>\n",
       "      <td>9</td>\n",
       "      <td>56</td>\n",
       "    </tr>\n",
       "  </tbody>\n",
       "</table>\n",
       "</div>"
      ],
      "text/plain": [
       "     0.0  1.0\n",
       "0.0   14   11\n",
       "1.0    9   56"
      ]
     },
     "execution_count": 33,
     "metadata": {},
     "output_type": "execute_result"
    }
   ],
   "source": [
    "pd.DataFrame(test_conf_matrix,columns=mod.classes_,index=mod.classes_)"
   ]
  },
  {
   "cell_type": "code",
   "execution_count": 34,
   "metadata": {},
   "outputs": [
    {
     "name": "stdout",
     "output_type": "stream",
     "text": [
      "              precision    recall  f1-score   support\n",
      "\n",
      "         0.0       0.84      0.77      0.80        94\n",
      "         1.0       0.82      0.88      0.85       115\n",
      "\n",
      "   micro avg       0.83      0.83      0.83       209\n",
      "   macro avg       0.83      0.82      0.82       209\n",
      "weighted avg       0.83      0.83      0.83       209\n",
      "\n"
     ]
    }
   ],
   "source": [
    "print(classification_report(label_train,train_prediction))"
   ]
  },
  {
   "cell_type": "code",
   "execution_count": 35,
   "metadata": {},
   "outputs": [
    {
     "name": "stdout",
     "output_type": "stream",
     "text": [
      "              precision    recall  f1-score   support\n",
      "\n",
      "         0.0       0.61      0.56      0.58        25\n",
      "         1.0       0.84      0.86      0.85        65\n",
      "\n",
      "   micro avg       0.78      0.78      0.78        90\n",
      "   macro avg       0.72      0.71      0.72        90\n",
      "weighted avg       0.77      0.78      0.77        90\n",
      "\n"
     ]
    }
   ],
   "source": [
    "print(classification_report(label_test,test_prediction))"
   ]
  },
  {
   "cell_type": "code",
   "execution_count": 36,
   "metadata": {},
   "outputs": [
    {
     "name": "stdout",
     "output_type": "stream",
     "text": [
      "train accuracy\n"
     ]
    },
    {
     "data": {
      "text/plain": [
       "0.8421052631578947"
      ]
     },
     "metadata": {},
     "output_type": "display_data"
    },
    {
     "name": "stdout",
     "output_type": "stream",
     "text": [
      "test accuracy\n"
     ]
    },
    {
     "data": {
      "text/plain": [
       "0.7555555555555555"
      ]
     },
     "metadata": {},
     "output_type": "display_data"
    }
   ],
   "source": [
    "# decision tree algorithm \n",
    "\n",
    "model=DecisionTreeClassifier()\n",
    "\n",
    "model.fit(horse_train,label_train)\n",
    "print(\"train accuracy\")\n",
    "display(model.score(horse_train,label_train))\n",
    "\n",
    "print(\"test accuracy\")\n",
    "display(model.score(horse_test,label_test))"
   ]
  },
  {
   "cell_type": "code",
   "execution_count": 37,
   "metadata": {},
   "outputs": [
    {
     "name": "stdout",
     "output_type": "stream",
     "text": [
      "train accuracy\n"
     ]
    },
    {
     "data": {
      "text/plain": [
       "0.8277511961722488"
      ]
     },
     "metadata": {},
     "output_type": "display_data"
    },
    {
     "name": "stdout",
     "output_type": "stream",
     "text": [
      "test accuracy\n"
     ]
    },
    {
     "data": {
      "text/plain": [
       "0.7777777777777778"
      ]
     },
     "metadata": {},
     "output_type": "display_data"
    }
   ],
   "source": [
    "# using min_sample_split and min_impurity_decrease\n",
    "\n",
    "model1=DecisionTreeClassifier(min_samples_split=10,min_impurity_decrease=0.005)\n",
    "\n",
    "model1.fit(horse_train,label_train)\n",
    "print(\"train accuracy\")\n",
    "display(model1.score(horse_train,label_train))\n",
    "\n",
    "print(\"test accuracy\")\n",
    "display(model1.score(horse_test,label_test))"
   ]
  },
  {
   "cell_type": "code",
   "execution_count": 38,
   "metadata": {},
   "outputs": [
    {
     "name": "stdout",
     "output_type": "stream",
     "text": [
      "train accuracy\n"
     ]
    },
    {
     "data": {
      "text/plain": [
       "0.8277511961722488"
      ]
     },
     "metadata": {},
     "output_type": "display_data"
    },
    {
     "name": "stdout",
     "output_type": "stream",
     "text": [
      "test accuracy\n"
     ]
    },
    {
     "data": {
      "text/plain": [
       "0.7777777777777778"
      ]
     },
     "metadata": {},
     "output_type": "display_data"
    }
   ],
   "source": [
    "model2=DecisionTreeClassifier(min_samples_split=20,min_impurity_decrease=0.1)\n",
    "\n",
    "\n",
    "model2.fit(horse_train,label_train)\n",
    "print(\"train accuracy\")\n",
    "display(model2.score(horse_train,label_train))\n",
    "\n",
    "print(\"test accuracy\")\n",
    "display(model2.score(horse_test,label_test))"
   ]
  },
  {
   "cell_type": "code",
   "execution_count": 39,
   "metadata": {},
   "outputs": [
    {
     "name": "stdout",
     "output_type": "stream",
     "text": [
      "train accuracy\n"
     ]
    },
    {
     "data": {
      "text/plain": [
       "0.8421052631578947"
      ]
     },
     "metadata": {},
     "output_type": "display_data"
    },
    {
     "name": "stdout",
     "output_type": "stream",
     "text": [
      "test accuracy\n"
     ]
    },
    {
     "data": {
      "text/plain": [
       "0.7777777777777778"
      ]
     },
     "metadata": {},
     "output_type": "display_data"
    }
   ],
   "source": [
    "# k nearest algorithm    only including DB AND TB since they are correlated with class \n",
    "\n",
    "\n",
    "kmodel=KNeighborsClassifier(n_neighbors=3,metric=\"euclidean\")\n",
    "\n",
    "\n",
    "kmodel.fit(horse_train,label_train)\n",
    "print(\"train accuracy\")\n",
    "display(kmodel.score(horse_train,label_train))\n",
    "\n",
    "print(\"test accuracy\")\n",
    "display(kmodel.score(horse_test,label_test))"
   ]
  },
  {
   "cell_type": "code",
   "execution_count": 40,
   "metadata": {},
   "outputs": [
    {
     "name": "stdout",
     "output_type": "stream",
     "text": [
      "train accuracy\n"
     ]
    },
    {
     "data": {
      "text/plain": [
       "0.8277511961722488"
      ]
     },
     "metadata": {},
     "output_type": "display_data"
    },
    {
     "name": "stdout",
     "output_type": "stream",
     "text": [
      "test accuracy\n"
     ]
    },
    {
     "data": {
      "text/plain": [
       "0.7777777777777778"
      ]
     },
     "metadata": {},
     "output_type": "display_data"
    }
   ],
   "source": [
    "# changing the n_neighbors value to 5 and validating it\n",
    "\n",
    "\n",
    "k1model=KNeighborsClassifier(n_neighbors=5,metric=\"euclidean\")\n",
    "k1model.fit(horse_train,label_train)\n",
    "print(\"train accuracy\")\n",
    "display(k1model.score(horse_train,label_train))\n",
    "\n",
    "print(\"test accuracy\")\n",
    "display(k1model.score(horse_test,label_test))"
   ]
  },
  {
   "cell_type": "code",
   "execution_count": 41,
   "metadata": {},
   "outputs": [
    {
     "name": "stdout",
     "output_type": "stream",
     "text": [
      "train accuracy\n"
     ]
    },
    {
     "data": {
      "text/plain": [
       "0.8277511961722488"
      ]
     },
     "metadata": {},
     "output_type": "display_data"
    },
    {
     "name": "stdout",
     "output_type": "stream",
     "text": [
      "test accuracy\n"
     ]
    },
    {
     "data": {
      "text/plain": [
       "0.7777777777777778"
      ]
     },
     "metadata": {},
     "output_type": "display_data"
    }
   ],
   "source": [
    "smodel=SVC(kernel=\"rbf\")\n",
    "smodel.fit(horse_train,label_train)\n",
    "print(\"train accuracy\")\n",
    "display(smodel.score(horse_train,label_train))\n",
    "\n",
    "print(\"test accuracy\")\n",
    "display(smodel.score(horse_test,label_test))\n"
   ]
  },
  {
   "cell_type": "code",
   "execution_count": null,
   "metadata": {},
   "outputs": [],
   "source": []
  }
 ],
 "metadata": {
  "kernelspec": {
   "display_name": "Python 3",
   "language": "python",
   "name": "python3"
  },
  "language_info": {
   "codemirror_mode": {
    "name": "ipython",
    "version": 3
   },
   "file_extension": ".py",
   "mimetype": "text/x-python",
   "name": "python",
   "nbconvert_exporter": "python",
   "pygments_lexer": "ipython3",
   "version": "3.7.1"
  }
 },
 "nbformat": 4,
 "nbformat_minor": 2
}
